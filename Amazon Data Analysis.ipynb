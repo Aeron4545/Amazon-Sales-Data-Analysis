{
 "cells": [
  {
   "cell_type": "code",
   "execution_count": 0,
   "metadata": {
    "application/vnd.databricks.v1+cell": {
     "cellMetadata": {
      "byteLimit": 2048000,
      "rowLimit": 10000
     },
     "inputWidgets": {},
     "nuid": "c034183f-78e0-4324-b372-2880b2441596",
     "showTitle": false,
     "title": ""
    }
   },
   "outputs": [],
   "source": [
    "from pyspark.sql.functions import *\n",
    "from pyspark.sql.types import *"
   ]
  },
  {
   "cell_type": "code",
   "execution_count": 0,
   "metadata": {
    "application/vnd.databricks.v1+cell": {
     "cellMetadata": {
      "byteLimit": 2048000,
      "rowLimit": 10000
     },
     "inputWidgets": {},
     "nuid": "77c0206a-f1c9-4c66-b1e3-c2e0252a9626",
     "showTitle": false,
     "title": ""
    }
   },
   "outputs": [],
   "source": [
    "storage_account_name = \"XXXXXXXXXXXXX\"\n",
    "storage_account_key = \"XXXXXXXXXXXXXX\"\n",
    "container_name = \"XXXXXXXXXXX\"\n",
    "spark.conf.set(f\"fs.azure.account.key.{storage_account_name}.blob.core.windows.net\", storage_account_key)\n",
    "input_path = f\"wasbs://{container_name}@{storage_account_name}.blob.core.windows.net/\"\n",
    " \n",
    "df = spark.read.format(\"parquet\").load(input_path)"
   ]
  },
  {
   "cell_type": "code",
   "execution_count": 0,
   "metadata": {
    "application/vnd.databricks.v1+cell": {
     "cellMetadata": {
      "byteLimit": 2048000,
      "rowLimit": 10000
     },
     "inputWidgets": {},
     "nuid": "3981661f-83a9-49c1-9005-7d6af9f1a8e5",
     "showTitle": false,
     "title": ""
    }
   },
   "outputs": [
    {
     "output_type": "stream",
     "name": "stdout",
     "output_type": "stream",
     "text": [
      "+--------+------------------+-------------------+------------+----------+-----------------+----+-------------+--------------+------------------+------+----------------+-----+--------------+--------+-----------------+----------+----------+------+---+--------------------+---------+----------+-----+\n|Category|ship-service-level|           Order ID|ship-country|Fulfilment|              SKU|Size|Sales Channel|Courier Status|         ship-city|Amount|ship-postal-code|  B2B|    ship-state|currency|promotion_applied|      Date|      ASIN| Style|Qty|              Status|DayOfWeek|DayOfmonth|Month|\n+--------+------------------+-------------------+------------+----------+-----------------+----+-------------+--------------+------------------+------+----------------+-----+--------------+--------+-----------------+----------+----------+------+---+--------------------+---------+----------+-----+\n|     Set|          Standard|171-0157225-5497910|          IN|  Merchant|   SET319-KR-NP-S|   S|    Amazon.in|       Shipped|             Noida| 852.0|          201304|FALSE| UTTAR PRADESH|     INR|              Yes|2022-06-12|B09KXV4TTM|SET319|  1|Shipped - Returne...|        1|        12|    6|\n|     Set|         Expedited|171-0312962-8912354|          IN|    Amazon|   SET110-KR-PP-M|   M|    Amazon.in|       Shipped|          GURUGRAM| 788.0|          122004|FALSE|       HARYANA|     INR|               No|2022-04-23|B0822TDMYH|SET110|  1|             Shipped|        7|        23|    4|\n|     Set|         Expedited|171-1687225-7019519|          IN|    Amazon|      J0245-SKD-M|   M|    Amazon.in|       Shipped|            Nagpur|1133.0|          440022|FALSE|   MAHARASHTRA|     INR|              Yes|2022-06-17|B0925T5PZK| J0245|  1|             Shipped|        6|        17|    6|\n|     Set|         Expedited|171-1943433-0333159|          IN|    Amazon|      J0003-SET-S|   S|    Amazon.in|       Shipped|           LUCKNOW| 664.0|          226002|FALSE| UTTAR PRADESH|     INR|              Yes|2022-05-07|B0894X27FC| J0003|  1|             Shipped|        7|         7|    5|\n|     Set|         Expedited|171-3072797-6995561|          IN|    Amazon|   SET048-KR-NP-L|   L|    Amazon.in|       Shipped|              Pune| 629.0|          411038|FALSE|   MAHARASHTRA|     INR|               No|2022-06-10|B07MY36V38|SET048|  1|             Shipped|        6|        10|    6|\n|     Set|         Expedited|171-3388954-7420305|          IN|    Amazon|SET055-KR-NP-XXXL| 3XL|    Amazon.in|       Shipped|            RAIPUR| 598.0|          492013|FALSE|  CHHATTISGARH|     INR|              Yes|2022-06-14|B07MY44R39|SET055|  1|             Shipped|        3|        14|    6|\n|     Set|         Expedited|171-3415131-8807561|          IN|    Amazon|SET331-KR-NP-XXXL| 3XL|    Amazon.in|       Shipped|         BENGALURU| 635.0|          560098|FALSE|     KARNATAKA|     INR|              Yes|2022-06-09|B09NQ4C51C|SET331|  1|             Shipped|        5|         9|    6|\n|     Set|         Expedited|171-3555340-7344362|          IN|    Amazon| SET378-KR-NP-XXL| XXL|    Amazon.in|       Shipped|         PORBANDAR|1299.0|          360575|FALSE|       Gujarat|     INR|              Yes|2022-04-15|B09RKFCS69|SET378|  1|             Shipped|        6|        15|    4|\n|     Set|          Standard|171-3783940-5921943|          IN|  Merchant|   SET324-KR-NP-S|   S|    Amazon.in|       Shipped|        PUDUCHERRY| 597.0|          605008|FALSE|    PUDUCHERRY|     INR|              Yes|2022-05-06|B09NQ4CZ65|SET324|  1|Shipped - Deliver...|        6|         6|    5|\n|     Set|         Expedited|171-3935718-1879528|          IN|    Amazon|SET319-KR-NP-XXXL| 3XL|    Amazon.in|       Shipped|             Adoni| 835.0|          518302|FALSE|ANDHRA PRADESH|     INR|              Yes|2022-04-22|B09KXW4WPW|SET319|  1|             Shipped|        6|        22|    4|\n|     Set|          Standard|171-4001965-5789925|          IN|  Merchant|  SET130-KR-NP-XL|  XL|    Amazon.in|       Shipped|     VISAKHAPATNAM| 629.0|          531173|FALSE|ANDHRA PRADESH|     INR|              Yes|2022-05-30|B07VRCJKXQ|SET130|  1|Shipped - Deliver...|        2|        30|    5|\n|     Set|         Expedited|171-4047816-9654750|          IN|    Amazon|      J0277-SKD-M|   M|    Amazon.in|       Shipped|          GUDIVADA|1333.0|          521322|FALSE|ANDHRA PRADESH|     INR|              Yes|2022-06-01|B08QGL6BRP| J0277|  1|             Shipped|        4|         1|    6|\n|     Set|         Expedited|171-4176356-2941949|          IN|    Amazon|   SET110-KR-PP-S|   S|    Amazon.in|       Shipped|         HYDERABAD| 788.0|          500090|FALSE|     TELANGANA|     INR|              Yes|2022-04-10|B0822T2BM8|SET110|  1|             Shipped|        1|        10|    4|\n|     Set|         Expedited|171-4462103-4906759|          IN|    Amazon|     SET279-LC-XS|  XS|    Amazon.in|       Shipped|            Trichy| 835.0|          621305|FALSE|    TAMIL NADU|     INR|              Yes|2022-06-20|B09CT5Z9BB|SET279|  1|             Shipped|        2|        20|    6|\n|     Set|         Expedited|171-4974547-8048349|          IN|    Amazon|   SET328-KR-NP-S|   S|    Amazon.in|       Shipped|            RAIPUR| 529.0|          492001|FALSE|  CHHATTISGARH|     INR|              Yes|2022-06-21|B09K3FG237|SET328|  1|             Shipped|        3|        21|    6|\n|     Set|         Expedited|171-5019354-7733913|          IN|    Amazon|   SET197-KR-NP-L|   L|    Amazon.in|       Shipped|    Vishakhapatnam| 759.0|          530046|FALSE|ANDHRA PRADESH|     INR|              Yes|2022-04-19|B08B3YPD63|SET197|  1|             Shipped|        3|        19|    4|\n|     Set|         Expedited|171-5272586-2494753|          IN|    Amazon|SET349-KR-NP-XXXL| 3XL|    Amazon.in|       Shipped|           KOLKATA| 968.0|          700001|FALSE|   WEST BENGAL|     INR|              Yes|2022-04-24|B09QJ4FNCN|SET349|  1|             Shipped|        1|        24|    4|\n|     Set|         Expedited|171-5563625-3878743|          IN|    Amazon|   SET345-KR-NP-S|   S|    Amazon.in|       Shipped|         ALLAHABAD| 641.0|          211001|FALSE| UTTAR PRADESH|     INR|              Yes|2022-05-19|B09KXV6T8Q|SET345|  1|             Shipped|        5|        19|    5|\n|     Set|         Expedited|171-5895088-4062753|          IN|    Amazon|   SET324-KR-NP-M|   M|    Amazon.in|       Shipped|UTTAR KAMAKHYAGURI| 597.0|          736202|FALSE|   WEST BENGAL|     INR|              Yes|2022-04-20|B09NQ4NM75|SET324|  1|             Shipped|        4|        20|    4|\n|     Set|         Expedited|171-6530941-5605959|          IN|    Amazon|   SET319-KR-NP-M|   M|    Amazon.in|       Shipped|         BENGALURU| 852.0|          560068|FALSE|     KARNATAKA|     INR|              Yes|2022-06-22|B09KXVG37D|SET319|  1|             Shipped|        4|        22|    6|\n+--------+------------------+-------------------+------------+----------+-----------------+----+-------------+--------------+------------------+------+----------------+-----+--------------+--------+-----------------+----------+----------+------+---+--------------------+---------+----------+-----+\nonly showing top 20 rows\n\n"
     ]
    }
   ],
   "source": [
    "df.show()"
   ]
  },
  {
   "cell_type": "code",
   "execution_count": 0,
   "metadata": {
    "application/vnd.databricks.v1+cell": {
     "cellMetadata": {
      "byteLimit": 2048000,
      "rowLimit": 10000
     },
     "inputWidgets": {},
     "nuid": "6f96a0db-dc77-46ae-8a20-5adecc4fbf4b",
     "showTitle": false,
     "title": ""
    }
   },
   "outputs": [
    {
     "output_type": "stream",
     "name": "stdout",
     "output_type": "stream",
     "text": [
      "Shape of DataFrame: (120347, 24)\n"
     ]
    }
   ],
   "source": [
    "num_rows = df.count()\n",
    "\n",
    "num_columns = len(df.columns)\n",
    "\n",
    "print(f\"Shape of DataFrame: ({num_rows}, {num_columns})\")"
   ]
  },
  {
   "cell_type": "code",
   "execution_count": 0,
   "metadata": {
    "application/vnd.databricks.v1+cell": {
     "cellMetadata": {
      "byteLimit": 2048000,
      "rowLimit": 10000
     },
     "inputWidgets": {},
     "nuid": "5a7e9e35-3334-4ac1-89c7-59448fa108e6",
     "showTitle": false,
     "title": ""
    }
   },
   "outputs": [],
   "source": [
    "df.createOrReplaceTempView(\"sales_table\")"
   ]
  },
  {
   "cell_type": "code",
   "execution_count": 0,
   "metadata": {
    "application/vnd.databricks.v1+cell": {
     "cellMetadata": {
      "byteLimit": 2048000,
      "implicitDf": true,
      "rowLimit": 10000
     },
     "inputWidgets": {},
     "nuid": "936d64d1-6d4d-4820-8bc6-ee53bb54df7b",
     "showTitle": false,
     "title": ""
    }
   },
   "outputs": [
    {
     "output_type": "display_data",
     "data": {
      "text/html": [
       "<style scoped>\n",
       "  .table-result-container {\n",
       "    max-height: 300px;\n",
       "    overflow: auto;\n",
       "  }\n",
       "  table, th, td {\n",
       "    border: 1px solid black;\n",
       "    border-collapse: collapse;\n",
       "  }\n",
       "  th, td {\n",
       "    padding: 5px;\n",
       "  }\n",
       "  th {\n",
       "    text-align: left;\n",
       "  }\n",
       "</style><div class='table-result-container'><table class='table-result'><thead style='background-color: white'><tr><th>orders_count</th></tr></thead><tbody><tr><td>120347</td></tr></tbody></table></div>"
      ]
     },
     "metadata": {
      "application/vnd.databricks.v1+output": {
       "addedWidgets": {},
       "aggData": [],
       "aggError": "",
       "aggOverflow": false,
       "aggSchema": [],
       "aggSeriesLimitReached": false,
       "aggType": "",
       "arguments": {},
       "columnCustomDisplayInfos": {},
       "data": [
        [
         120347
        ]
       ],
       "datasetInfos": [],
       "dbfsResultPath": null,
       "isJsonSchema": true,
       "metadata": {},
       "overflow": false,
       "plotOptions": {
        "customPlotOptions": {},
        "displayType": "table",
        "pivotAggregation": null,
        "pivotColumns": null,
        "xColumns": null,
        "yColumns": null
       },
       "removedWidgets": [],
       "schema": [
        {
         "metadata": "{}",
         "name": "orders_count",
         "type": "\"long\""
        }
       ],
       "type": "table"
      }
     },
     "output_type": "display_data"
    },
    {
     "output_type": "display_data",
     "data": {
      "text/plain": [
       "Databricks visualization. Run in Databricks to view."
      ]
     },
     "metadata": {
      "application/vnd.databricks.v1.subcommand+json": {
       "baseErrorDetails": null,
       "bindings": {},
       "collapsed": false,
       "command": "%sql\nselect count(*) as orders_count from sales_table",
       "commandTitle": "Orders Count",
       "commandType": "auto",
       "commandVersion": 0,
       "commentThread": [],
       "commentsVisible": false,
       "contentSha256Hex": null,
       "customPlotOptions": {
        "redashChart": [
         {
          "key": "type",
          "value": "COUNTER"
         },
         {
          "key": "options",
          "value": {
           "counterColName": "orders_count",
           "counterLabel": "Orders Count",
           "rowNumber": 1,
           "stringDecChar": ".",
           "stringDecimal": 0,
           "stringThouSep": ",",
           "targetRowNumber": 1,
           "tooltipFormat": "0,0.000"
          }
         }
        ]
       },
       "datasetPreviewNameToCmdIdMap": {},
       "diffDeletes": [],
       "diffInserts": [],
       "displayType": "redashChart",
       "error": null,
       "errorDetails": null,
       "errorSummary": null,
       "errorTraceType": null,
       "finishTime": 0,
       "globalVars": {},
       "guid": "",
       "height": "auto",
       "hideCommandCode": false,
       "hideCommandResult": false,
       "iPythonMetadata": null,
       "inputWidgets": {},
       "isLockedInExamMode": false,
       "latestUser": "a user",
       "latestUserId": null,
       "listResultMetadata": null,
       "metadata": {
        "byteLimit": 2048000,
        "implicitDf": true,
        "rowLimit": 10000
       },
       "nuid": "144155ae-0865-484b-b311-ca33e616c485",
       "origId": 0,
       "parentHierarchy": [],
       "pivotAggregation": null,
       "pivotColumns": null,
       "position": 6.0,
       "resultDbfsErrorMessage": null,
       "resultDbfsStatus": "INLINED_IN_TREE",
       "results": null,
       "showCommandTitle": false,
       "startTime": 0,
       "state": "finished",
       "streamStates": {},
       "subcommandOptions": {},
       "submitTime": 0,
       "subtype": "tableResultSubCmd.visualization",
       "tableResultIndex": 0,
       "tableResultSettingsMap": null,
       "useConsistentColors": false,
       "version": "CommandV1",
       "width": "auto",
       "workflows": [],
       "xColumns": null,
       "yColumns": null
      }
     },
     "output_type": "display_data"
    }
   ],
   "source": [
    "%sql\n",
    "select count(*) as orders_count from sales_table"
   ]
  },
  {
   "cell_type": "code",
   "execution_count": 0,
   "metadata": {
    "application/vnd.databricks.v1+cell": {
     "cellMetadata": {
      "byteLimit": 2048000,
      "implicitDf": true,
      "rowLimit": 10000
     },
     "inputWidgets": {},
     "nuid": "76ef5c1f-e212-4ab1-bcf3-d119f0c249cf",
     "showTitle": false,
     "title": ""
    }
   },
   "outputs": [
    {
     "output_type": "display_data",
     "data": {
      "text/html": [
       "<style scoped>\n",
       "  .table-result-container {\n",
       "    max-height: 300px;\n",
       "    overflow: auto;\n",
       "  }\n",
       "  table, th, td {\n",
       "    border: 1px solid black;\n",
       "    border-collapse: collapse;\n",
       "  }\n",
       "  th, td {\n",
       "    padding: 5px;\n",
       "  }\n",
       "  th {\n",
       "    text-align: left;\n",
       "  }\n",
       "</style><div class='table-result-container'><table class='table-result'><thead style='background-color: white'><tr><th>total_sales_amount</th></tr></thead><tbody><tr><td>7.2011702E7</td></tr></tbody></table></div>"
      ]
     },
     "metadata": {
      "application/vnd.databricks.v1+output": {
       "addedWidgets": {},
       "aggData": [],
       "aggError": "",
       "aggOverflow": false,
       "aggSchema": [],
       "aggSeriesLimitReached": false,
       "aggType": "",
       "arguments": {},
       "columnCustomDisplayInfos": {},
       "data": [
        [
         7.2011702E7
        ]
       ],
       "datasetInfos": [],
       "dbfsResultPath": null,
       "isJsonSchema": true,
       "metadata": {},
       "overflow": false,
       "plotOptions": {
        "customPlotOptions": {},
        "displayType": "table",
        "pivotAggregation": null,
        "pivotColumns": null,
        "xColumns": null,
        "yColumns": null
       },
       "removedWidgets": [],
       "schema": [
        {
         "metadata": "{}",
         "name": "total_sales_amount",
         "type": "\"double\""
        }
       ],
       "type": "table"
      }
     },
     "output_type": "display_data"
    },
    {
     "output_type": "display_data",
     "data": {
      "text/plain": [
       "Databricks visualization. Run in Databricks to view."
      ]
     },
     "metadata": {
      "application/vnd.databricks.v1.subcommand+json": {
       "baseErrorDetails": null,
       "bindings": {},
       "collapsed": false,
       "command": "%sql\nselect sum(amount) as total_sales_amount from sales_table",
       "commandTitle": "Visualization 1",
       "commandType": "auto",
       "commandVersion": 0,
       "commentThread": [],
       "commentsVisible": false,
       "contentSha256Hex": null,
       "customPlotOptions": {
        "redashChart": [
         {
          "key": "type",
          "value": "COUNTER"
         },
         {
          "key": "options",
          "value": {
           "counterColName": "total_sales_amount",
           "counterLabel": "Total Sales Revenue",
           "rowNumber": 1,
           "stringDecChar": ".",
           "stringDecimal": 0,
           "stringThouSep": ",",
           "targetRowNumber": 1,
           "tooltipFormat": "0,0.000"
          }
         }
        ]
       },
       "datasetPreviewNameToCmdIdMap": {},
       "diffDeletes": [],
       "diffInserts": [],
       "displayType": "redashChart",
       "error": null,
       "errorDetails": null,
       "errorSummary": null,
       "errorTraceType": null,
       "finishTime": 0,
       "globalVars": {},
       "guid": "",
       "height": "auto",
       "hideCommandCode": false,
       "hideCommandResult": false,
       "iPythonMetadata": null,
       "inputWidgets": {},
       "isLockedInExamMode": false,
       "latestUser": "a user",
       "latestUserId": null,
       "listResultMetadata": null,
       "metadata": {
        "byteLimit": 2048000,
        "implicitDf": true,
        "rowLimit": 10000
       },
       "nuid": "6b5e4eeb-fd4d-47a7-b0f7-57f990204a3b",
       "origId": 0,
       "parentHierarchy": [],
       "pivotAggregation": null,
       "pivotColumns": null,
       "position": 7.0,
       "resultDbfsErrorMessage": null,
       "resultDbfsStatus": "INLINED_IN_TREE",
       "results": null,
       "showCommandTitle": false,
       "startTime": 0,
       "state": "finished",
       "streamStates": {},
       "subcommandOptions": {},
       "submitTime": 0,
       "subtype": "tableResultSubCmd.visualization",
       "tableResultIndex": 0,
       "tableResultSettingsMap": null,
       "useConsistentColors": false,
       "version": "CommandV1",
       "width": "auto",
       "workflows": [],
       "xColumns": null,
       "yColumns": null
      }
     },
     "output_type": "display_data"
    }
   ],
   "source": [
    "%sql\n",
    "select sum(amount) as total_sales_amount from sales_table"
   ]
  },
  {
   "cell_type": "code",
   "execution_count": 0,
   "metadata": {
    "application/vnd.databricks.v1+cell": {
     "cellMetadata": {
      "byteLimit": 2048000,
      "implicitDf": true,
      "rowLimit": 10000
     },
     "inputWidgets": {},
     "nuid": "ec2fa84a-d295-49f5-a705-277d08d478e0",
     "showTitle": false,
     "title": ""
    }
   },
   "outputs": [
    {
     "output_type": "display_data",
     "data": {
      "text/html": [
       "<style scoped>\n",
       "  .table-result-container {\n",
       "    max-height: 300px;\n",
       "    overflow: auto;\n",
       "  }\n",
       "  table, th, td {\n",
       "    border: 1px solid black;\n",
       "    border-collapse: collapse;\n",
       "  }\n",
       "  th, td {\n",
       "    padding: 5px;\n",
       "  }\n",
       "  th {\n",
       "    text-align: left;\n",
       "  }\n",
       "</style><div class='table-result-container'><table class='table-result'><thead style='background-color: white'><tr><th>Total_Products_Ordered</th></tr></thead><tbody><tr><td>108733</td></tr></tbody></table></div>"
      ]
     },
     "metadata": {
      "application/vnd.databricks.v1+output": {
       "addedWidgets": {},
       "aggData": [],
       "aggError": "",
       "aggOverflow": false,
       "aggSchema": [],
       "aggSeriesLimitReached": false,
       "aggType": "",
       "arguments": {},
       "columnCustomDisplayInfos": {},
       "data": [
        [
         108733
        ]
       ],
       "datasetInfos": [],
       "dbfsResultPath": null,
       "isJsonSchema": true,
       "metadata": {},
       "overflow": false,
       "plotOptions": {
        "customPlotOptions": {},
        "displayType": "table",
        "pivotAggregation": null,
        "pivotColumns": null,
        "xColumns": null,
        "yColumns": null
       },
       "removedWidgets": [],
       "schema": [
        {
         "metadata": "{}",
         "name": "Total_Products_Ordered",
         "type": "\"long\""
        }
       ],
       "type": "table"
      }
     },
     "output_type": "display_data"
    },
    {
     "output_type": "display_data",
     "data": {
      "text/plain": [
       "Databricks visualization. Run in Databricks to view."
      ]
     },
     "metadata": {
      "application/vnd.databricks.v1.subcommand+json": {
       "baseErrorDetails": null,
       "bindings": {},
       "collapsed": false,
       "command": "%sql\nselect sum(qty) as Total_Products_Ordered  from sales_table",
       "commandTitle": "Visualization 1",
       "commandType": "auto",
       "commandVersion": 0,
       "commentThread": [],
       "commentsVisible": false,
       "contentSha256Hex": null,
       "customPlotOptions": {
        "redashChart": [
         {
          "key": "type",
          "value": "COUNTER"
         },
         {
          "key": "options",
          "value": {
           "counterColName": "Total_Products_Ordered",
           "counterLabel": "Total Products Ordered",
           "rowNumber": 1,
           "stringDecChar": ".",
           "stringDecimal": 0,
           "stringThouSep": ",",
           "targetRowNumber": 1,
           "tooltipFormat": "0,0.000"
          }
         }
        ]
       },
       "datasetPreviewNameToCmdIdMap": {},
       "diffDeletes": [],
       "diffInserts": [],
       "displayType": "redashChart",
       "error": null,
       "errorDetails": null,
       "errorSummary": null,
       "errorTraceType": null,
       "finishTime": 0,
       "globalVars": {},
       "guid": "",
       "height": "auto",
       "hideCommandCode": false,
       "hideCommandResult": false,
       "iPythonMetadata": null,
       "inputWidgets": {},
       "isLockedInExamMode": false,
       "latestUser": "a user",
       "latestUserId": null,
       "listResultMetadata": null,
       "metadata": {
        "byteLimit": 2048000,
        "implicitDf": true,
        "rowLimit": 10000
       },
       "nuid": "06787aef-c64d-48d8-a24e-40aaecff0c3a",
       "origId": 0,
       "parentHierarchy": [],
       "pivotAggregation": null,
       "pivotColumns": null,
       "position": 7.25,
       "resultDbfsErrorMessage": null,
       "resultDbfsStatus": "INLINED_IN_TREE",
       "results": null,
       "showCommandTitle": false,
       "startTime": 0,
       "state": "finished",
       "streamStates": {},
       "subcommandOptions": {},
       "submitTime": 0,
       "subtype": "tableResultSubCmd.visualization",
       "tableResultIndex": 0,
       "tableResultSettingsMap": null,
       "useConsistentColors": false,
       "version": "CommandV1",
       "width": "auto",
       "workflows": [],
       "xColumns": null,
       "yColumns": null
      }
     },
     "output_type": "display_data"
    }
   ],
   "source": [
    "%sql\n",
    "select sum(qty) as Total_Products_Ordered  from sales_table"
   ]
  },
  {
   "cell_type": "markdown",
   "metadata": {
    "application/vnd.databricks.v1+cell": {
     "cellMetadata": {
      "byteLimit": 2048000,
      "rowLimit": 10000
     },
     "inputWidgets": {},
     "nuid": "78137b88-fe0b-439b-ae1a-0cdba032d11b",
     "showTitle": false,
     "title": ""
    }
   },
   "source": [
    "### Total Sales Amount Per Category"
   ]
  },
  {
   "cell_type": "code",
   "execution_count": 0,
   "metadata": {
    "application/vnd.databricks.v1+cell": {
     "cellMetadata": {
      "byteLimit": 2048000,
      "implicitDf": true,
      "rowLimit": 10000
     },
     "inputWidgets": {},
     "nuid": "c741bbc8-9eea-4119-b283-8605f6eeebc9",
     "showTitle": false,
     "title": ""
    }
   },
   "outputs": [
    {
     "output_type": "display_data",
     "data": {
      "text/html": [
       "<style scoped>\n",
       "  .table-result-container {\n",
       "    max-height: 300px;\n",
       "    overflow: auto;\n",
       "  }\n",
       "  table, th, td {\n",
       "    border: 1px solid black;\n",
       "    border-collapse: collapse;\n",
       "  }\n",
       "  th, td {\n",
       "    padding: 5px;\n",
       "  }\n",
       "  th {\n",
       "    text-align: left;\n",
       "  }\n",
       "</style><div class='table-result-container'><table class='table-result'><thead style='background-color: white'><tr><th>category</th><th>total_amount</th></tr></thead><tbody><tr><td>Dupatta</td><td>305.0</td></tr><tr><td>Saree</td><td>101996.0</td></tr><tr><td>Bottom</td><td>133958.0</td></tr><tr><td>Blouse</td><td>433244.0</td></tr><tr><td>Ethnic Dress</td><td>727525.0</td></tr><tr><td>Top</td><td>4978948.0</td></tr><tr><td>Western Dress</td><td>1.0225225E7</td></tr><tr><td>kurta</td><td>1.9209857E7</td></tr><tr><td>Set</td><td>3.6200644E7</td></tr></tbody></table></div>"
      ]
     },
     "metadata": {
      "application/vnd.databricks.v1+output": {
       "addedWidgets": {},
       "aggData": [],
       "aggError": "",
       "aggOverflow": false,
       "aggSchema": [],
       "aggSeriesLimitReached": false,
       "aggType": "",
       "arguments": {},
       "columnCustomDisplayInfos": {},
       "data": [
        [
         "Dupatta",
         305.0
        ],
        [
         "Saree",
         101996.0
        ],
        [
         "Bottom",
         133958.0
        ],
        [
         "Blouse",
         433244.0
        ],
        [
         "Ethnic Dress",
         727525.0
        ],
        [
         "Top",
         4978948.0
        ],
        [
         "Western Dress",
         1.0225225E7
        ],
        [
         "kurta",
         1.9209857E7
        ],
        [
         "Set",
         3.6200644E7
        ]
       ],
       "datasetInfos": [],
       "dbfsResultPath": null,
       "isJsonSchema": true,
       "metadata": {},
       "overflow": false,
       "plotOptions": {
        "customPlotOptions": {},
        "displayType": "table",
        "pivotAggregation": null,
        "pivotColumns": null,
        "xColumns": null,
        "yColumns": null
       },
       "removedWidgets": [],
       "schema": [
        {
         "metadata": "{}",
         "name": "category",
         "type": "\"string\""
        },
        {
         "metadata": "{}",
         "name": "total_amount",
         "type": "\"double\""
        }
       ],
       "type": "table"
      }
     },
     "output_type": "display_data"
    },
    {
     "output_type": "display_data",
     "data": {
      "text/plain": [
       "Databricks visualization. Run in Databricks to view."
      ]
     },
     "metadata": {
      "application/vnd.databricks.v1.subcommand+json": {
       "baseErrorDetails": null,
       "bindings": {},
       "collapsed": false,
       "command": "%sql WITH q AS (select category,sum(amount) total_amount\nfrom sales_table\ngroup by category\norder by total_amount) SELECT `category`,SUM(`total_amount`) `column_6fbb38994` FROM q GROUP BY `category`",
       "commandTitle": "Visualization 1",
       "commandType": "auto",
       "commandVersion": 0,
       "commentThread": [],
       "commentsVisible": false,
       "contentSha256Hex": null,
       "customPlotOptions": {
        "redashChart": [
         {
          "key": "type",
          "value": "CHART"
         },
         {
          "key": "options",
          "value": {
           "alignYAxesAtZero": true,
           "coefficient": 1,
           "columnConfigurationMap": {
            "x": {
             "column": "category",
             "id": "column_6fbb38993"
            },
            "y": [
             {
              "column": "total_amount",
              "id": "column_6fbb38994",
              "transform": "SUM"
             }
            ]
           },
           "dateTimeFormat": "DD/MM/YYYY HH:mm",
           "direction": {
            "type": "counterclockwise"
           },
           "error_y": {
            "type": "data",
            "visible": true
           },
           "globalSeriesType": "column",
           "isAggregationOn": true,
           "legend": {
            "traceorder": "normal"
           },
           "missingValuesAsZero": true,
           "numberFormat": "0,0.[00000]",
           "percentFormat": "0[.]00%",
           "series": {
            "error_y": {
             "type": "data",
             "visible": true
            },
            "stacking": null
           },
           "seriesOptions": {
            "column_6fbb38994": {
             "name": "avg(amount)",
             "type": "column",
             "yAxis": 0
            }
           },
           "showDataLabels": false,
           "sizemode": "diameter",
           "sortX": false,
           "sortY": true,
           "swappedAxes": true,
           "textFormat": "",
           "useAggregationsUi": true,
           "valuesOptions": {},
           "version": 2,
           "xAxis": {
            "labels": {
             "enabled": true
            },
            "title": {
             "text": "Product Category"
            },
            "type": "category"
           },
           "yAxis": [
            {
             "title": {
              "text": "Average Sales Amount"
             },
             "type": "-"
            },
            {
             "opposite": true,
             "type": "-"
            }
           ]
          }
         }
        ]
       },
       "datasetPreviewNameToCmdIdMap": {},
       "diffDeletes": [],
       "diffInserts": [],
       "displayType": "redashChart",
       "error": null,
       "errorDetails": null,
       "errorSummary": null,
       "errorTraceType": null,
       "finishTime": 0,
       "globalVars": {},
       "guid": "",
       "height": "auto",
       "hideCommandCode": false,
       "hideCommandResult": false,
       "iPythonMetadata": null,
       "inputWidgets": {},
       "isLockedInExamMode": false,
       "latestUser": "a user",
       "latestUserId": null,
       "listResultMetadata": null,
       "metadata": {
        "byteLimit": 2048000,
        "implicitDf": true,
        "rowLimit": 10000
       },
       "nuid": "ca47023f-b611-471b-aa97-b15df7a5b821",
       "origId": 0,
       "parentHierarchy": [],
       "pivotAggregation": null,
       "pivotColumns": null,
       "position": 8.0,
       "resultDbfsErrorMessage": null,
       "resultDbfsStatus": "INLINED_IN_TREE",
       "results": null,
       "showCommandTitle": false,
       "startTime": 0,
       "state": "finished",
       "streamStates": {},
       "subcommandOptions": {
        "queryPlan": {
         "groups": [
          {
           "column": "category",
           "type": "column"
          }
         ],
         "selects": [
          {
           "column": "category",
           "type": "column"
          },
          {
           "alias": "column_6fbb38994",
           "args": [
            {
             "column": "total_amount",
             "type": "column"
            }
           ],
           "function": "SUM",
           "type": "function"
          }
         ]
        }
       },
       "submitTime": 0,
       "subtype": "tableResultSubCmd.visualization",
       "tableResultIndex": 0,
       "tableResultSettingsMap": null,
       "useConsistentColors": false,
       "version": "CommandV1",
       "width": "auto",
       "workflows": [],
       "xColumns": null,
       "yColumns": null
      }
     },
     "output_type": "display_data"
    }
   ],
   "source": [
    "%sql\n",
    "select category,sum(amount) total_amount\n",
    "from sales_table\n",
    "group by category\n",
    "order by total_amount"
   ]
  },
  {
   "cell_type": "markdown",
   "metadata": {
    "application/vnd.databricks.v1+cell": {
     "cellMetadata": {
      "byteLimit": 2048000,
      "rowLimit": 10000
     },
     "inputWidgets": {},
     "nuid": "af9dae69-d8cc-49e2-a9ac-eba3177189d1",
     "showTitle": false,
     "title": ""
    }
   },
   "source": [
    "### Outlier Sales Within Month"
   ]
  },
  {
   "cell_type": "code",
   "execution_count": 0,
   "metadata": {
    "application/vnd.databricks.v1+cell": {
     "cellMetadata": {
      "byteLimit": 2048000,
      "implicitDf": true,
      "rowLimit": 10000
     },
     "inputWidgets": {},
     "nuid": "db57e8e1-09ef-419f-853e-ac302fd135a2",
     "showTitle": false,
     "title": ""
    }
   },
   "outputs": [],
   "source": [
    "%sql\n",
    "SELECT month, amount\n",
    "FROM\n",
    "  (SELECT *,\n",
    "      PERCENTILE_CONT(0.25) WITHIN GROUP (ORDER BY amount) OVER(PARTITION BY month) AS Q1,\n",
    "      PERCENTILE_CONT(0.75) WITHIN GROUP (ORDER BY amount) OVER(PARTITION BY month) AS Q3,\n",
    "      (PERCENTILE_CONT(0.75) WITHIN GROUP(ORDER BY amount) OVER(PARTITION BY month) -\n",
    "      PERCENTILE_CONT(0.25) WITHIN GROUP(ORDER BY amount) OVER(PARTITION BY month)) AS IQR\n",
    "  FROM sales_table\n",
    "  where amount>0) as Q\n",
    "WHERE (amount <  Q1 - 1.5 * (IQR) OR amount >  Q3 + 1.5 * (IQR)) AND amount>0"
   ]
  },
  {
   "cell_type": "code",
   "execution_count": 0,
   "metadata": {
    "application/vnd.databricks.v1+cell": {
     "cellMetadata": {
      "byteLimit": 2048000,
      "implicitDf": true,
      "rowLimit": 10000
     },
     "inputWidgets": {},
     "nuid": "5ac28282-946b-448d-b07f-7fe2b213fb81",
     "showTitle": false,
     "title": ""
    }
   },
   "outputs": [],
   "source": [
    "%sql \n",
    "select month,amount from sales_table\n",
    "where amount>0"
   ]
  },
  {
   "cell_type": "markdown",
   "metadata": {
    "application/vnd.databricks.v1+cell": {
     "cellMetadata": {
      "byteLimit": 2048000,
      "rowLimit": 10000
     },
     "inputWidgets": {},
     "nuid": "fc8ca9fd-9ec3-403f-826b-c8edf2a8ef58",
     "showTitle": false,
     "title": ""
    }
   },
   "source": [
    "People Frequently Order As Quantities Of 1"
   ]
  },
  {
   "cell_type": "markdown",
   "metadata": {
    "application/vnd.databricks.v1+cell": {
     "cellMetadata": {
      "byteLimit": 2048000,
      "rowLimit": 10000
     },
     "inputWidgets": {},
     "nuid": "0357e88a-5faa-4096-8936-dea7f49ce6b5",
     "showTitle": false,
     "title": ""
    }
   },
   "source": [
    "### Most Frequently Order Price Range Of Products"
   ]
  },
  {
   "cell_type": "code",
   "execution_count": 0,
   "metadata": {
    "application/vnd.databricks.v1+cell": {
     "cellMetadata": {
      "byteLimit": 2048000,
      "implicitDf": true,
      "rowLimit": 10000
     },
     "inputWidgets": {},
     "nuid": "c5c6fd2a-12f3-4949-9fc1-83c2435a3735",
     "showTitle": false,
     "title": ""
    }
   },
   "outputs": [],
   "source": [
    "%sql\n",
    "select `order id`,amount/qty as price_per_product\n",
    "from sales_table\n",
    "where qty!=0 and amount!=0\n"
   ]
  },
  {
   "cell_type": "markdown",
   "metadata": {
    "application/vnd.databricks.v1+cell": {
     "cellMetadata": {
      "byteLimit": 2048000,
      "rowLimit": 10000
     },
     "inputWidgets": {},
     "nuid": "54c330da-6798-4f3d-9903-c841927f51fa",
     "showTitle": false,
     "title": ""
    }
   },
   "source": [
    "### Top 10 Cities By Sales Amount"
   ]
  },
  {
   "cell_type": "code",
   "execution_count": 0,
   "metadata": {
    "application/vnd.databricks.v1+cell": {
     "cellMetadata": {
      "byteLimit": 2048000,
      "implicitDf": true,
      "rowLimit": 10000
     },
     "inputWidgets": {},
     "nuid": "cad6fe46-fc39-4820-a3f5-6bc59fb68024",
     "showTitle": false,
     "title": ""
    }
   },
   "outputs": [
    {
     "output_type": "display_data",
     "data": {
      "text/html": [
       "<style scoped>\n",
       "  .table-result-container {\n",
       "    max-height: 300px;\n",
       "    overflow: auto;\n",
       "  }\n",
       "  table, th, td {\n",
       "    border: 1px solid black;\n",
       "    border-collapse: collapse;\n",
       "  }\n",
       "  th, td {\n",
       "    padding: 5px;\n",
       "  }\n",
       "  th {\n",
       "    text-align: left;\n",
       "  }\n",
       "</style><div class='table-result-container'><table class='table-result'><thead style='background-color: white'><tr><th>ship-city</th><th>total_amount</th><th>RANK</th></tr></thead><tbody><tr><td>BENGALURU</td><td>6387938.0</td><td>1</td></tr><tr><td>HYDERABAD</td><td>4437508.0</td><td>2</td></tr><tr><td>MUMBAI</td><td>3393315.0</td><td>3</td></tr><tr><td>NEW DELHI</td><td>3370803.0</td><td>4</td></tr><tr><td>CHENNAI</td><td>2769001.0</td><td>5</td></tr><tr><td>PUNE</td><td>2153386.0</td><td>6</td></tr><tr><td>KOLKATA</td><td>1308886.0</td><td>7</td></tr><tr><td>GURUGRAM</td><td>1156793.0</td><td>8</td></tr><tr><td>THANE</td><td>943504.0</td><td>9</td></tr><tr><td>LUCKNOW</td><td>866524.0</td><td>10</td></tr></tbody></table></div>"
      ]
     },
     "metadata": {
      "application/vnd.databricks.v1+output": {
       "addedWidgets": {},
       "aggData": [],
       "aggError": "",
       "aggOverflow": false,
       "aggSchema": [],
       "aggSeriesLimitReached": false,
       "aggType": "",
       "arguments": {},
       "columnCustomDisplayInfos": {},
       "data": [
        [
         "BENGALURU",
         6387938.0,
         1
        ],
        [
         "HYDERABAD",
         4437508.0,
         2
        ],
        [
         "MUMBAI",
         3393315.0,
         3
        ],
        [
         "NEW DELHI",
         3370803.0,
         4
        ],
        [
         "CHENNAI",
         2769001.0,
         5
        ],
        [
         "PUNE",
         2153386.0,
         6
        ],
        [
         "KOLKATA",
         1308886.0,
         7
        ],
        [
         "GURUGRAM",
         1156793.0,
         8
        ],
        [
         "THANE",
         943504.0,
         9
        ],
        [
         "LUCKNOW",
         866524.0,
         10
        ]
       ],
       "datasetInfos": [],
       "dbfsResultPath": null,
       "isJsonSchema": true,
       "metadata": {},
       "overflow": false,
       "plotOptions": {
        "customPlotOptions": {},
        "displayType": "table",
        "pivotAggregation": null,
        "pivotColumns": null,
        "xColumns": null,
        "yColumns": null
       },
       "removedWidgets": [],
       "schema": [
        {
         "metadata": "{}",
         "name": "ship-city",
         "type": "\"string\""
        },
        {
         "metadata": "{}",
         "name": "total_amount",
         "type": "\"double\""
        },
        {
         "metadata": "{}",
         "name": "RANK",
         "type": "\"integer\""
        }
       ],
       "type": "table"
      }
     },
     "output_type": "display_data"
    },
    {
     "output_type": "display_data",
     "data": {
      "text/plain": [
       "Databricks visualization. Run in Databricks to view."
      ]
     },
     "metadata": {
      "application/vnd.databricks.v1.subcommand+json": {
       "baseErrorDetails": null,
       "bindings": {},
       "collapsed": false,
       "command": "%sql WITH q AS (select * from\n(select *,dense_rank() OVER(order by total_amount desc) as RANK from\n(select `ship-city`,sum(amount) as total_amount from sales_table\ngroup by `ship-city`\norder by total_amount desc) as _) as t\nwhere RANK<=10) SELECT `ship-city`,SUM(`total_amount`) `column_9e14917b2`,`ship-city` FROM q GROUP BY `ship-city`",
       "commandTitle": "Visualization 1",
       "commandType": "auto",
       "commandVersion": 0,
       "commentThread": [],
       "commentsVisible": false,
       "contentSha256Hex": null,
       "customPlotOptions": {
        "redashChart": [
         {
          "key": "type",
          "value": "CHART"
         },
         {
          "key": "options",
          "value": {
           "alignYAxesAtZero": true,
           "coefficient": 1,
           "columnConfigurationMap": {
            "series": {
             "column": "ship-city",
             "id": "column_9e14917b3"
            },
            "x": {
             "column": "ship-city",
             "id": "column_9e14917b5"
            },
            "y": [
             {
              "column": "total_amount",
              "id": "column_9e14917b2",
              "transform": "SUM"
             }
            ]
           },
           "dateTimeFormat": "DD/MM/YYYY HH:mm",
           "direction": {
            "type": "counterclockwise"
           },
           "error_y": {
            "type": "data",
            "visible": true
           },
           "globalSeriesType": "column",
           "hideXAxis": false,
           "isAggregationOn": true,
           "legend": {
            "enabled": false,
            "traceorder": "normal"
           },
           "missingValuesAsZero": true,
           "numberFormat": "0,0.[00000]",
           "percentFormat": "0[.]00%",
           "series": {
            "error_y": {
             "type": "data",
             "visible": true
            },
            "stacking": null
           },
           "seriesOptions": {
            "column_9e14917b2": {
             "name": "RANK",
             "type": "column",
             "yAxis": 0
            }
           },
           "showDataLabels": false,
           "sizemode": "diameter",
           "sortX": false,
           "sortY": true,
           "swappedAxes": true,
           "textFormat": "",
           "useAggregationsUi": true,
           "valuesOptions": {},
           "version": 2,
           "xAxis": {
            "labels": {
             "enabled": true
            },
            "title": {
             "text": "Ship-City"
            },
            "type": "-"
           },
           "yAxis": [
            {
             "title": {
              "text": "Total Amount"
             },
             "type": "-"
            },
            {
             "opposite": true,
             "type": "-"
            }
           ]
          }
         }
        ]
       },
       "datasetPreviewNameToCmdIdMap": {},
       "diffDeletes": [],
       "diffInserts": [],
       "displayType": "redashChart",
       "error": null,
       "errorDetails": null,
       "errorSummary": null,
       "errorTraceType": null,
       "finishTime": 0,
       "globalVars": {},
       "guid": "",
       "height": "auto",
       "hideCommandCode": false,
       "hideCommandResult": false,
       "iPythonMetadata": null,
       "inputWidgets": {},
       "isLockedInExamMode": false,
       "latestUser": "a user",
       "latestUserId": null,
       "listResultMetadata": null,
       "metadata": {
        "byteLimit": 2048000,
        "implicitDf": true,
        "rowLimit": 10000
       },
       "nuid": "8870d2a8-4cb8-4f82-9863-ef235e1b1b20",
       "origId": 0,
       "parentHierarchy": [],
       "pivotAggregation": null,
       "pivotColumns": null,
       "position": 10.0,
       "resultDbfsErrorMessage": null,
       "resultDbfsStatus": "INLINED_IN_TREE",
       "results": null,
       "showCommandTitle": false,
       "startTime": 0,
       "state": "finished",
       "streamStates": {},
       "subcommandOptions": {
        "queryPlan": {
         "groups": [
          {
           "column": "ship-city",
           "type": "column"
          },
          {
           "column": "ship-city",
           "type": "column"
          }
         ],
         "selects": [
          {
           "column": "ship-city",
           "type": "column"
          },
          {
           "alias": "column_9e14917b2",
           "args": [
            {
             "column": "total_amount",
             "type": "column"
            }
           ],
           "function": "SUM",
           "type": "function"
          },
          {
           "column": "ship-city",
           "type": "column"
          }
         ]
        }
       },
       "submitTime": 0,
       "subtype": "tableResultSubCmd.visualization",
       "tableResultIndex": 0,
       "tableResultSettingsMap": null,
       "useConsistentColors": false,
       "version": "CommandV1",
       "width": "auto",
       "workflows": [],
       "xColumns": null,
       "yColumns": null
      }
     },
     "output_type": "display_data"
    }
   ],
   "source": [
    "%sql\n",
    "select * from\n",
    "(select *,dense_rank() OVER(order by total_amount desc) as RANK from\n",
    "(select `ship-city`,sum(amount) as total_amount from sales_table\n",
    "group by `ship-city`\n",
    "order by total_amount desc) as _) as t\n",
    "where RANK<=10\n"
   ]
  },
  {
   "cell_type": "markdown",
   "metadata": {
    "application/vnd.databricks.v1+cell": {
     "cellMetadata": {
      "byteLimit": 2048000,
      "rowLimit": 10000
     },
     "inputWidgets": {},
     "nuid": "f738835e-6803-436d-afa5-fca7628b366d",
     "showTitle": false,
     "title": ""
    }
   },
   "source": [
    "Sales is maximum in the cases of Urban Cities"
   ]
  },
  {
   "cell_type": "code",
   "execution_count": 0,
   "metadata": {
    "application/vnd.databricks.v1+cell": {
     "cellMetadata": {
      "byteLimit": 2048000,
      "implicitDf": true,
      "rowLimit": 10000
     },
     "inputWidgets": {},
     "nuid": "69a3acf5-e2c1-4607-b7b4-6877852500d1",
     "showTitle": false,
     "title": ""
    }
   },
   "outputs": [
    {
     "output_type": "display_data",
     "data": {
      "text/html": [
       "<style scoped>\n",
       "  .table-result-container {\n",
       "    max-height: 300px;\n",
       "    overflow: auto;\n",
       "  }\n",
       "  table, th, td {\n",
       "    border: 1px solid black;\n",
       "    border-collapse: collapse;\n",
       "  }\n",
       "  th, td {\n",
       "    padding: 5px;\n",
       "  }\n",
       "  th {\n",
       "    text-align: left;\n",
       "  }\n",
       "</style><div class='table-result-container'><table class='table-result'><thead style='background-color: white'><tr><th>ship-state</th><th>total_amount</th><th>RANK</th></tr></thead><tbody><tr><td>MAHARASHTRA</td><td>1.2288678E7</td><td>1</td></tr><tr><td>KARNATAKA</td><td>9732089.0</td><td>2</td></tr><tr><td>UTTAR PRADESH</td><td>6284460.0</td><td>3</td></tr><tr><td>TELANGANA</td><td>6207798.0</td><td>4</td></tr><tr><td>TAMIL NADU</td><td>5840676.0</td><td>5</td></tr><tr><td>DELHI</td><td>3941826.0</td><td>6</td></tr><tr><td>KERALA</td><td>3416881.0</td><td>7</td></tr><tr><td>WEST BENGAL</td><td>3247246.0</td><td>8</td></tr><tr><td>ANDHRA PRADESH</td><td>2840705.0</td><td>9</td></tr><tr><td>HARYANA</td><td>2684285.0</td><td>10</td></tr></tbody></table></div>"
      ]
     },
     "metadata": {
      "application/vnd.databricks.v1+output": {
       "addedWidgets": {},
       "aggData": [],
       "aggError": "",
       "aggOverflow": false,
       "aggSchema": [],
       "aggSeriesLimitReached": false,
       "aggType": "",
       "arguments": {},
       "columnCustomDisplayInfos": {},
       "data": [
        [
         "MAHARASHTRA",
         1.2288678E7,
         1
        ],
        [
         "KARNATAKA",
         9732089.0,
         2
        ],
        [
         "UTTAR PRADESH",
         6284460.0,
         3
        ],
        [
         "TELANGANA",
         6207798.0,
         4
        ],
        [
         "TAMIL NADU",
         5840676.0,
         5
        ],
        [
         "DELHI",
         3941826.0,
         6
        ],
        [
         "KERALA",
         3416881.0,
         7
        ],
        [
         "WEST BENGAL",
         3247246.0,
         8
        ],
        [
         "ANDHRA PRADESH",
         2840705.0,
         9
        ],
        [
         "HARYANA",
         2684285.0,
         10
        ]
       ],
       "datasetInfos": [],
       "dbfsResultPath": null,
       "isJsonSchema": true,
       "metadata": {},
       "overflow": false,
       "plotOptions": {
        "customPlotOptions": {},
        "displayType": "table",
        "pivotAggregation": null,
        "pivotColumns": null,
        "xColumns": null,
        "yColumns": null
       },
       "removedWidgets": [],
       "schema": [
        {
         "metadata": "{}",
         "name": "ship-state",
         "type": "\"string\""
        },
        {
         "metadata": "{}",
         "name": "total_amount",
         "type": "\"double\""
        },
        {
         "metadata": "{}",
         "name": "RANK",
         "type": "\"integer\""
        }
       ],
       "type": "table"
      }
     },
     "output_type": "display_data"
    },
    {
     "output_type": "display_data",
     "data": {
      "text/plain": [
       "Databricks visualization. Run in Databricks to view."
      ]
     },
     "metadata": {
      "application/vnd.databricks.v1.subcommand+json": {
       "baseErrorDetails": null,
       "bindings": {},
       "collapsed": false,
       "command": "%sql WITH q AS (select * from\n(select *,dense_rank() OVER(order by total_amount desc) as RANK from\n(select `ship-state`,sum(amount) as total_amount from sales_table\ngroup by `ship-state`\norder by total_amount desc) as _) as t\nwhere RANK<=10) SELECT `ship-state`,SUM(`total_amount`) `column_ccb36eeb66`,`ship-state` FROM q GROUP BY `ship-state`",
       "commandTitle": "Visualization 1",
       "commandType": "auto",
       "commandVersion": 0,
       "commentThread": [],
       "commentsVisible": false,
       "contentSha256Hex": null,
       "customPlotOptions": {
        "redashChart": [
         {
          "key": "type",
          "value": "CHART"
         },
         {
          "key": "options",
          "value": {
           "alignYAxesAtZero": true,
           "coefficient": 1,
           "columnConfigurationMap": {
            "series": {
             "column": "ship-state",
             "id": "column_ccb36eeb67"
            },
            "x": {
             "column": "ship-state",
             "id": "column_ccb36eeb69"
            },
            "y": [
             {
              "column": "total_amount",
              "id": "column_ccb36eeb66",
              "transform": "SUM"
             }
            ]
           },
           "dateTimeFormat": "DD/MM/YYYY HH:mm",
           "direction": {
            "type": "counterclockwise"
           },
           "error_y": {
            "type": "data",
            "visible": true
           },
           "globalSeriesType": "column",
           "isAggregationOn": true,
           "legend": {
            "enabled": false,
            "traceorder": "normal"
           },
           "missingValuesAsZero": true,
           "numberFormat": "0,0.[00000]",
           "percentFormat": "0[.]00%",
           "series": {
            "error_y": {
             "type": "data",
             "visible": true
            },
            "stacking": null
           },
           "seriesOptions": {
            "column_ccb36eeb66": {
             "name": "RANK",
             "type": "column",
             "yAxis": 0
            }
           },
           "showDataLabels": false,
           "sizemode": "diameter",
           "sortX": false,
           "sortY": true,
           "swappedAxes": true,
           "textFormat": "",
           "useAggregationsUi": true,
           "valuesOptions": {},
           "version": 2,
           "xAxis": {
            "labels": {
             "enabled": true
            },
            "type": "-"
           },
           "yAxis": [
            {
             "title": {
              "text": "Total Amount"
             },
             "type": "-"
            },
            {
             "opposite": true,
             "type": "-"
            }
           ]
          }
         }
        ]
       },
       "datasetPreviewNameToCmdIdMap": {},
       "diffDeletes": [],
       "diffInserts": [],
       "displayType": "redashChart",
       "error": null,
       "errorDetails": null,
       "errorSummary": null,
       "errorTraceType": null,
       "finishTime": 0,
       "globalVars": {},
       "guid": "",
       "height": "auto",
       "hideCommandCode": false,
       "hideCommandResult": false,
       "iPythonMetadata": null,
       "inputWidgets": {},
       "isLockedInExamMode": false,
       "latestUser": "a user",
       "latestUserId": null,
       "listResultMetadata": null,
       "metadata": {
        "byteLimit": 2048000,
        "implicitDf": true,
        "rowLimit": 10000
       },
       "nuid": "9fce5dba-8600-4947-9983-00b3f2ebe5d5",
       "origId": 0,
       "parentHierarchy": [],
       "pivotAggregation": null,
       "pivotColumns": null,
       "position": 10.5625,
       "resultDbfsErrorMessage": null,
       "resultDbfsStatus": "INLINED_IN_TREE",
       "results": null,
       "showCommandTitle": false,
       "startTime": 0,
       "state": "finished",
       "streamStates": {},
       "subcommandOptions": {
        "queryPlan": {
         "groups": [
          {
           "column": "ship-state",
           "type": "column"
          },
          {
           "column": "ship-state",
           "type": "column"
          }
         ],
         "selects": [
          {
           "column": "ship-state",
           "type": "column"
          },
          {
           "alias": "column_ccb36eeb66",
           "args": [
            {
             "column": "total_amount",
             "type": "column"
            }
           ],
           "function": "SUM",
           "type": "function"
          },
          {
           "column": "ship-state",
           "type": "column"
          }
         ]
        }
       },
       "submitTime": 0,
       "subtype": "tableResultSubCmd.visualization",
       "tableResultIndex": 0,
       "tableResultSettingsMap": null,
       "useConsistentColors": false,
       "version": "CommandV1",
       "width": "auto",
       "workflows": [],
       "xColumns": null,
       "yColumns": null
      }
     },
     "output_type": "display_data"
    }
   ],
   "source": [
    "%sql\n",
    "select * from\n",
    "(select *,dense_rank() OVER(order by total_amount desc) as RANK from\n",
    "(select `ship-state`,sum(amount) as total_amount from sales_table\n",
    "group by `ship-state`\n",
    "order by total_amount desc) as _) as t\n",
    "where RANK<=10\n"
   ]
  },
  {
   "cell_type": "markdown",
   "metadata": {
    "application/vnd.databricks.v1+cell": {
     "cellMetadata": {
      "byteLimit": 2048000,
      "rowLimit": 10000
     },
     "inputWidgets": {},
     "nuid": "f732e67a-82f8-4f3a-bccc-7129377911d5",
     "showTitle": false,
     "title": ""
    }
   },
   "source": [
    "Maharashtra, Karnataka, Uttar Pradesh, Telangana, and Tamilnad are some of the largest states in terms of population and economic activity, which could explain their high sales numbers."
   ]
  },
  {
   "cell_type": "markdown",
   "metadata": {
    "application/vnd.databricks.v1+cell": {
     "cellMetadata": {
      "byteLimit": 2048000,
      "rowLimit": 10000
     },
     "inputWidgets": {},
     "nuid": "20e91538-f06e-4fe6-ace1-7581a32efa32",
     "showTitle": false,
     "title": ""
    }
   },
   "source": [
    "### Impact Of Promotion On Revenue"
   ]
  },
  {
   "cell_type": "code",
   "execution_count": 0,
   "metadata": {
    "application/vnd.databricks.v1+cell": {
     "cellMetadata": {
      "byteLimit": 2048000,
      "implicitDf": true,
      "rowLimit": 10000
     },
     "inputWidgets": {},
     "nuid": "c12ce935-bdf2-401e-a3f2-2b42e7387d51",
     "showTitle": false,
     "title": ""
    }
   },
   "outputs": [
    {
     "output_type": "display_data",
     "data": {
      "text/html": [
       "<style scoped>\n",
       "  .table-result-container {\n",
       "    max-height: 300px;\n",
       "    overflow: auto;\n",
       "  }\n",
       "  table, th, td {\n",
       "    border: 1px solid black;\n",
       "    border-collapse: collapse;\n",
       "  }\n",
       "  th, td {\n",
       "    padding: 5px;\n",
       "  }\n",
       "  th {\n",
       "    text-align: left;\n",
       "  }\n",
       "</style><div class='table-result-container'><table class='table-result'><thead style='background-color: white'><tr><th>promotion_applied</th><th>sum(amount)</th></tr></thead><tbody><tr><td>No</td><td>2.1861871E7</td></tr><tr><td>Yes</td><td>5.0149831E7</td></tr></tbody></table></div>"
      ]
     },
     "metadata": {
      "application/vnd.databricks.v1+output": {
       "addedWidgets": {},
       "aggData": [],
       "aggError": "",
       "aggOverflow": false,
       "aggSchema": [],
       "aggSeriesLimitReached": false,
       "aggType": "",
       "arguments": {},
       "columnCustomDisplayInfos": {},
       "data": [
        [
         "No",
         2.1861871E7
        ],
        [
         "Yes",
         5.0149831E7
        ]
       ],
       "datasetInfos": [],
       "dbfsResultPath": null,
       "isJsonSchema": true,
       "metadata": {},
       "overflow": false,
       "plotOptions": {
        "customPlotOptions": {},
        "displayType": "table",
        "pivotAggregation": null,
        "pivotColumns": null,
        "xColumns": null,
        "yColumns": null
       },
       "removedWidgets": [],
       "schema": [
        {
         "metadata": "{}",
         "name": "promotion_applied",
         "type": "\"string\""
        },
        {
         "metadata": "{\"__autoGeneratedAlias\":\"true\"}",
         "name": "sum(amount)",
         "type": "\"double\""
        }
       ],
       "type": "table"
      }
     },
     "output_type": "display_data"
    },
    {
     "output_type": "display_data",
     "data": {
      "text/plain": [
       "Databricks visualization. Run in Databricks to view."
      ]
     },
     "metadata": {
      "application/vnd.databricks.v1.subcommand+json": {
       "baseErrorDetails": null,
       "bindings": {},
       "collapsed": false,
       "command": "%sql WITH q AS (select promotion_applied,sum(amount) from sales_table\ngroup by promotion_applied) SELECT `promotion_applied`,SUM(`sum(amount)`) `column_ebf1886215` FROM q GROUP BY `promotion_applied`",
       "commandTitle": "Visualization 1",
       "commandType": "auto",
       "commandVersion": 0,
       "commentThread": [],
       "commentsVisible": false,
       "contentSha256Hex": null,
       "customPlotOptions": {
        "redashChart": [
         {
          "key": "type",
          "value": "CHART"
         },
         {
          "key": "options",
          "value": {
           "alignYAxesAtZero": true,
           "coefficient": 1,
           "columnConfigurationMap": {
            "x": {
             "column": "promotion_applied",
             "id": "column_ebf1886214"
            },
            "y": [
             {
              "column": "sum(amount)",
              "id": "column_ebf1886215",
              "transform": "SUM"
             }
            ]
           },
           "dateTimeFormat": "DD/MM/YYYY HH:mm",
           "direction": {
            "type": "counterclockwise"
           },
           "error_y": {
            "type": "data",
            "visible": true
           },
           "globalSeriesType": "column",
           "isAggregationOn": true,
           "legend": {
            "traceorder": "normal"
           },
           "missingValuesAsZero": true,
           "numberFormat": "0,0.[00000]",
           "percentFormat": "0[.]00%",
           "series": {
            "error_y": {
             "type": "data",
             "visible": true
            },
            "stacking": null
           },
           "seriesOptions": {
            "column_ebf1886215": {
             "color": "#356AFF",
             "name": "sum(amount)",
             "type": "column",
             "yAxis": 0
            }
           },
           "showDataLabels": true,
           "sizemode": "diameter",
           "sortX": true,
           "sortY": true,
           "swappedAxes": false,
           "textFormat": "",
           "useAggregationsUi": true,
           "valuesOptions": {},
           "version": 2,
           "xAxis": {
            "labels": {
             "enabled": true
            },
            "title": {
             "text": "Promotion"
            },
            "type": "-"
           },
           "yAxis": [
            {
             "title": {
              "text": "Total Revenue"
             },
             "type": "-"
            },
            {
             "opposite": true,
             "title": {
              "text": null
             },
             "type": "-"
            }
           ]
          }
         }
        ]
       },
       "datasetPreviewNameToCmdIdMap": {},
       "diffDeletes": [],
       "diffInserts": [],
       "displayType": "redashChart",
       "error": null,
       "errorDetails": null,
       "errorSummary": null,
       "errorTraceType": null,
       "finishTime": 0,
       "globalVars": {},
       "guid": "",
       "height": "auto",
       "hideCommandCode": false,
       "hideCommandResult": false,
       "iPythonMetadata": null,
       "inputWidgets": {},
       "isLockedInExamMode": false,
       "latestUser": "a user",
       "latestUserId": null,
       "listResultMetadata": null,
       "metadata": {
        "byteLimit": 2048000,
        "implicitDf": true,
        "rowLimit": 10000
       },
       "nuid": "3ee58577-3f60-4ada-8dbe-555a7aebdfca",
       "origId": 0,
       "parentHierarchy": [],
       "pivotAggregation": null,
       "pivotColumns": null,
       "position": 10.6171875,
       "resultDbfsErrorMessage": null,
       "resultDbfsStatus": "INLINED_IN_TREE",
       "results": null,
       "showCommandTitle": false,
       "startTime": 0,
       "state": "finished",
       "streamStates": {},
       "subcommandOptions": {
        "queryPlan": {
         "groups": [
          {
           "column": "promotion_applied",
           "type": "column"
          }
         ],
         "selects": [
          {
           "column": "promotion_applied",
           "type": "column"
          },
          {
           "alias": "column_ebf1886215",
           "args": [
            {
             "column": "sum(amount)",
             "type": "column"
            }
           ],
           "function": "SUM",
           "type": "function"
          }
         ]
        }
       },
       "submitTime": 0,
       "subtype": "tableResultSubCmd.visualization",
       "tableResultIndex": 0,
       "tableResultSettingsMap": null,
       "useConsistentColors": false,
       "version": "CommandV1",
       "width": "auto",
       "workflows": [],
       "xColumns": null,
       "yColumns": null
      }
     },
     "output_type": "display_data"
    }
   ],
   "source": [
    "%sql\n",
    "select promotion_applied,sum(amount) from sales_table\n",
    "group by promotion_applied"
   ]
  },
  {
   "cell_type": "markdown",
   "metadata": {
    "application/vnd.databricks.v1+cell": {
     "cellMetadata": {
      "byteLimit": 2048000,
      "rowLimit": 10000
     },
     "inputWidgets": {},
     "nuid": "5346fc7b-fd1c-4c76-b1c6-04b44259cfc5",
     "showTitle": false,
     "title": ""
    }
   },
   "source": [
    "# TRENDS"
   ]
  },
  {
   "cell_type": "markdown",
   "metadata": {
    "application/vnd.databricks.v1+cell": {
     "cellMetadata": {
      "byteLimit": 2048000,
      "rowLimit": 10000
     },
     "inputWidgets": {},
     "nuid": "854ff1ba-0f4b-423f-8c46-7b4d96868a68",
     "showTitle": false,
     "title": ""
    }
   },
   "source": [
    "### Order Count By Day Of Month"
   ]
  },
  {
   "cell_type": "code",
   "execution_count": 0,
   "metadata": {
    "application/vnd.databricks.v1+cell": {
     "cellMetadata": {
      "byteLimit": 2048000,
      "implicitDf": true,
      "rowLimit": 10000
     },
     "inputWidgets": {},
     "nuid": "e62eb0d4-232a-4804-8bad-811e5f65a621",
     "showTitle": false,
     "title": ""
    }
   },
   "outputs": [
    {
     "output_type": "display_data",
     "data": {
      "text/html": [
       "<style scoped>\n",
       "  .table-result-container {\n",
       "    max-height: 300px;\n",
       "    overflow: auto;\n",
       "  }\n",
       "  table, th, td {\n",
       "    border: 1px solid black;\n",
       "    border-collapse: collapse;\n",
       "  }\n",
       "  th, td {\n",
       "    padding: 5px;\n",
       "  }\n",
       "  th {\n",
       "    text-align: left;\n",
       "  }\n",
       "</style><div class='table-result-container'><table class='table-result'><thead style='background-color: white'><tr><th>dayofmonth</th><th>count(Order ID)</th></tr></thead><tbody><tr><td>2</td><td>4685</td></tr><tr><td>3</td><td>4667</td></tr><tr><td>4</td><td>4597</td></tr><tr><td>1</td><td>4443</td></tr><tr><td>8</td><td>4435</td></tr><tr><td>5</td><td>4361</td></tr><tr><td>15</td><td>4212</td></tr><tr><td>14</td><td>4211</td></tr><tr><td>9</td><td>4199</td></tr><tr><td>7</td><td>4182</td></tr><tr><td>6</td><td>4180</td></tr><tr><td>10</td><td>3956</td></tr><tr><td>16</td><td>3911</td></tr><tr><td>13</td><td>3903</td></tr><tr><td>22</td><td>3899</td></tr><tr><td>20</td><td>3896</td></tr><tr><td>12</td><td>3866</td></tr><tr><td>11</td><td>3862</td></tr><tr><td>21</td><td>3849</td></tr><tr><td>19</td><td>3822</td></tr><tr><td>23</td><td>3815</td></tr><tr><td>24</td><td>3755</td></tr><tr><td>18</td><td>3748</td></tr><tr><td>25</td><td>3736</td></tr><tr><td>26</td><td>3723</td></tr><tr><td>28</td><td>3707</td></tr><tr><td>17</td><td>3689</td></tr><tr><td>27</td><td>3613</td></tr><tr><td>29</td><td>3199</td></tr><tr><td>30</td><td>2768</td></tr><tr><td>31</td><td>1458</td></tr></tbody></table></div>"
      ]
     },
     "metadata": {
      "application/vnd.databricks.v1+output": {
       "addedWidgets": {},
       "aggData": [],
       "aggError": "",
       "aggOverflow": false,
       "aggSchema": [],
       "aggSeriesLimitReached": false,
       "aggType": "",
       "arguments": {},
       "columnCustomDisplayInfos": {},
       "data": [
        [
         2,
         4685
        ],
        [
         3,
         4667
        ],
        [
         4,
         4597
        ],
        [
         1,
         4443
        ],
        [
         8,
         4435
        ],
        [
         5,
         4361
        ],
        [
         15,
         4212
        ],
        [
         14,
         4211
        ],
        [
         9,
         4199
        ],
        [
         7,
         4182
        ],
        [
         6,
         4180
        ],
        [
         10,
         3956
        ],
        [
         16,
         3911
        ],
        [
         13,
         3903
        ],
        [
         22,
         3899
        ],
        [
         20,
         3896
        ],
        [
         12,
         3866
        ],
        [
         11,
         3862
        ],
        [
         21,
         3849
        ],
        [
         19,
         3822
        ],
        [
         23,
         3815
        ],
        [
         24,
         3755
        ],
        [
         18,
         3748
        ],
        [
         25,
         3736
        ],
        [
         26,
         3723
        ],
        [
         28,
         3707
        ],
        [
         17,
         3689
        ],
        [
         27,
         3613
        ],
        [
         29,
         3199
        ],
        [
         30,
         2768
        ],
        [
         31,
         1458
        ]
       ],
       "datasetInfos": [],
       "dbfsResultPath": null,
       "isJsonSchema": true,
       "metadata": {},
       "overflow": false,
       "plotOptions": {
        "customPlotOptions": {},
        "displayType": "table",
        "pivotAggregation": null,
        "pivotColumns": null,
        "xColumns": null,
        "yColumns": null
       },
       "removedWidgets": [],
       "schema": [
        {
         "metadata": "{}",
         "name": "dayofmonth",
         "type": "\"integer\""
        },
        {
         "metadata": "{\"__autoGeneratedAlias\":\"true\"}",
         "name": "count(Order ID)",
         "type": "\"long\""
        }
       ],
       "type": "table"
      }
     },
     "output_type": "display_data"
    },
    {
     "output_type": "display_data",
     "data": {
      "text/plain": [
       "Databricks visualization. Run in Databricks to view."
      ]
     },
     "metadata": {
      "application/vnd.databricks.v1.subcommand+json": {
       "baseErrorDetails": null,
       "bindings": {},
       "collapsed": false,
       "command": "%sql WITH q AS (select dayofmonth,count(`Order ID`) from sales_table\ngroup by dayofmonth\norder by count(`Order ID`) desc) SELECT `dayofmonth`,SUM(`count(Order ID)`) `column_9e14917b11` FROM q GROUP BY `dayofmonth`",
       "commandTitle": "Visualization 1",
       "commandType": "auto",
       "commandVersion": 0,
       "commentThread": [],
       "commentsVisible": false,
       "contentSha256Hex": null,
       "customPlotOptions": {
        "redashChart": [
         {
          "key": "type",
          "value": "CHART"
         },
         {
          "key": "options",
          "value": {
           "alignYAxesAtZero": true,
           "coefficient": 1,
           "columnConfigurationMap": {
            "x": {
             "column": "dayofmonth",
             "id": "column_9e14917b10"
            },
            "y": [
             {
              "column": "count(Order ID)",
              "id": "column_9e14917b11",
              "transform": "SUM"
             }
            ]
           },
           "dateTimeFormat": "DD/MM/YYYY HH:mm",
           "direction": {
            "type": "counterclockwise"
           },
           "error_y": {
            "type": "data",
            "visible": true
           },
           "globalSeriesType": "line",
           "isAggregationOn": true,
           "legend": {
            "traceorder": "normal"
           },
           "missingValuesAsZero": true,
           "numberFormat": "0,0.[00000]",
           "percentFormat": "0[.]00%",
           "series": {
            "error_y": {
             "type": "data",
             "visible": true
            },
            "stacking": null
           },
           "seriesOptions": {
            "column_9e14917b11": {
             "name": "count(Order ID)",
             "type": "line",
             "yAxis": 0
            }
           },
           "showDataLabels": false,
           "sizemode": "diameter",
           "sortX": true,
           "sortY": true,
           "swappedAxes": false,
           "textFormat": "",
           "useAggregationsUi": true,
           "valuesOptions": {},
           "version": 2,
           "xAxis": {
            "labels": {
             "enabled": true
            },
            "title": {
             "text": "Day Of Month"
            },
            "type": "-"
           },
           "yAxis": [
            {
             "title": {
              "text": "Order Count"
             },
             "type": "-"
            },
            {
             "opposite": true,
             "type": "-"
            }
           ]
          }
         }
        ]
       },
       "datasetPreviewNameToCmdIdMap": {},
       "diffDeletes": [],
       "diffInserts": [],
       "displayType": "redashChart",
       "error": null,
       "errorDetails": null,
       "errorSummary": null,
       "errorTraceType": null,
       "finishTime": 0,
       "globalVars": {},
       "guid": "",
       "height": "auto",
       "hideCommandCode": false,
       "hideCommandResult": false,
       "iPythonMetadata": null,
       "inputWidgets": {},
       "isLockedInExamMode": false,
       "latestUser": "a user",
       "latestUserId": null,
       "listResultMetadata": null,
       "metadata": {
        "byteLimit": 2048000,
        "implicitDf": true,
        "rowLimit": 10000
       },
       "nuid": "87f0240a-bd41-4837-bd2c-02e19e04323d",
       "origId": 0,
       "parentHierarchy": [],
       "pivotAggregation": null,
       "pivotColumns": null,
       "position": 11.0,
       "resultDbfsErrorMessage": null,
       "resultDbfsStatus": "INLINED_IN_TREE",
       "results": null,
       "showCommandTitle": false,
       "startTime": 0,
       "state": "finished",
       "streamStates": {},
       "subcommandOptions": {
        "queryPlan": {
         "groups": [
          {
           "column": "dayofmonth",
           "type": "column"
          }
         ],
         "selects": [
          {
           "column": "dayofmonth",
           "type": "column"
          },
          {
           "alias": "column_9e14917b11",
           "args": [
            {
             "column": "count(Order ID)",
             "type": "column"
            }
           ],
           "function": "SUM",
           "type": "function"
          }
         ]
        }
       },
       "submitTime": 0,
       "subtype": "tableResultSubCmd.visualization",
       "tableResultIndex": 0,
       "tableResultSettingsMap": null,
       "useConsistentColors": false,
       "version": "CommandV1",
       "width": "auto",
       "workflows": [],
       "xColumns": null,
       "yColumns": null
      }
     },
     "output_type": "display_data"
    }
   ],
   "source": [
    "%sql\n",
    "select dayofmonth,count(`Order ID`) from sales_table\n",
    "group by dayofmonth\n",
    "order by count(`Order ID`) desc"
   ]
  },
  {
   "cell_type": "markdown",
   "metadata": {
    "application/vnd.databricks.v1+cell": {
     "cellMetadata": {
      "byteLimit": 2048000,
      "rowLimit": 10000
     },
     "inputWidgets": {},
     "nuid": "f4df7cc0-2db5-4748-be9f-5f9c4c38c06a",
     "showTitle": false,
     "title": ""
    }
   },
   "source": [
    "The Order Count Is Peak At the Start Of The Month As People Recieve The Salaries At That Time"
   ]
  },
  {
   "cell_type": "markdown",
   "metadata": {
    "application/vnd.databricks.v1+cell": {
     "cellMetadata": {
      "byteLimit": 2048000,
      "rowLimit": 10000
     },
     "inputWidgets": {},
     "nuid": "5dc61c42-4058-4dc1-8b94-c45d8e601c19",
     "showTitle": false,
     "title": ""
    }
   },
   "source": [
    "### Order Count By Day Of Week"
   ]
  },
  {
   "cell_type": "code",
   "execution_count": 0,
   "metadata": {
    "application/vnd.databricks.v1+cell": {
     "cellMetadata": {
      "byteLimit": 2048000,
      "implicitDf": true,
      "rowLimit": 10000
     },
     "inputWidgets": {},
     "nuid": "053862f4-f7bf-471a-9f2d-40386dde64c3",
     "showTitle": false,
     "title": ""
    }
   },
   "outputs": [
    {
     "output_type": "display_data",
     "data": {
      "text/html": [
       "<style scoped>\n",
       "  .table-result-container {\n",
       "    max-height: 300px;\n",
       "    overflow: auto;\n",
       "  }\n",
       "  table, th, td {\n",
       "    border: 1px solid black;\n",
       "    border-collapse: collapse;\n",
       "  }\n",
       "  th, td {\n",
       "    padding: 5px;\n",
       "  }\n",
       "  th {\n",
       "    text-align: left;\n",
       "  }\n",
       "</style><div class='table-result-container'><table class='table-result'><thead style='background-color: white'><tr><th>dayofweek</th><th>count(Order ID)</th></tr></thead><tbody><tr><td>1</td><td>18205</td></tr><tr><td>3</td><td>17585</td></tr><tr><td>2</td><td>17366</td></tr><tr><td>4</td><td>17363</td></tr><tr><td>7</td><td>17255</td></tr><tr><td>6</td><td>16573</td></tr><tr><td>5</td><td>16000</td></tr></tbody></table></div>"
      ]
     },
     "metadata": {
      "application/vnd.databricks.v1+output": {
       "addedWidgets": {},
       "aggData": [],
       "aggError": "",
       "aggOverflow": false,
       "aggSchema": [],
       "aggSeriesLimitReached": false,
       "aggType": "",
       "arguments": {},
       "columnCustomDisplayInfos": {},
       "data": [
        [
         1,
         18205
        ],
        [
         3,
         17585
        ],
        [
         2,
         17366
        ],
        [
         4,
         17363
        ],
        [
         7,
         17255
        ],
        [
         6,
         16573
        ],
        [
         5,
         16000
        ]
       ],
       "datasetInfos": [],
       "dbfsResultPath": null,
       "isJsonSchema": true,
       "metadata": {},
       "overflow": false,
       "plotOptions": {
        "customPlotOptions": {},
        "displayType": "table",
        "pivotAggregation": null,
        "pivotColumns": null,
        "xColumns": null,
        "yColumns": null
       },
       "removedWidgets": [],
       "schema": [
        {
         "metadata": "{}",
         "name": "dayofweek",
         "type": "\"integer\""
        },
        {
         "metadata": "{\"__autoGeneratedAlias\":\"true\"}",
         "name": "count(Order ID)",
         "type": "\"long\""
        }
       ],
       "type": "table"
      }
     },
     "output_type": "display_data"
    },
    {
     "output_type": "display_data",
     "data": {
      "text/plain": [
       "Databricks visualization. Run in Databricks to view."
      ]
     },
     "metadata": {
      "application/vnd.databricks.v1.subcommand+json": {
       "baseErrorDetails": null,
       "bindings": {},
       "collapsed": false,
       "command": "%sql WITH q AS (select dayofweek,count(`Order ID`) from sales_table\ngroup by dayofweek\norder by count(`Order ID`) desc) SELECT `dayofweek`,SUM(`count(Order ID)`) `column_9e14917b14` FROM q GROUP BY `dayofweek`",
       "commandTitle": "Visualization 1",
       "commandType": "auto",
       "commandVersion": 0,
       "commentThread": [],
       "commentsVisible": false,
       "contentSha256Hex": null,
       "customPlotOptions": {
        "redashChart": [
         {
          "key": "type",
          "value": "CHART"
         },
         {
          "key": "options",
          "value": {
           "alignYAxesAtZero": true,
           "coefficient": 1,
           "columnConfigurationMap": {
            "x": {
             "column": "dayofweek",
             "id": "column_9e14917b13"
            },
            "y": [
             {
              "column": "count(Order ID)",
              "id": "column_9e14917b14",
              "transform": "SUM"
             }
            ]
           },
           "dateTimeFormat": "DD/MM/YYYY HH:mm",
           "direction": {
            "type": "counterclockwise"
           },
           "error_y": {
            "type": "data",
            "visible": true
           },
           "globalSeriesType": "line",
           "isAggregationOn": true,
           "legend": {
            "traceorder": "normal"
           },
           "missingValuesAsZero": true,
           "numberFormat": "0,0.[00000]",
           "percentFormat": "0[.]00%",
           "series": {
            "error_y": {
             "type": "data",
             "visible": true
            },
            "stacking": null
           },
           "seriesOptions": {
            "column_9e14917b14": {
             "name": "count(Order ID)",
             "type": "line",
             "yAxis": 0
            }
           },
           "showDataLabels": false,
           "sizemode": "diameter",
           "sortX": true,
           "sortY": true,
           "swappedAxes": false,
           "textFormat": "",
           "useAggregationsUi": true,
           "valuesOptions": {},
           "version": 2,
           "xAxis": {
            "labels": {
             "enabled": true
            },
            "title": {
             "text": "Day Of Week"
            },
            "type": "-"
           },
           "yAxis": [
            {
             "title": {
              "text": "Order Count"
             },
             "type": "-"
            },
            {
             "opposite": true,
             "type": "-"
            }
           ]
          }
         }
        ]
       },
       "datasetPreviewNameToCmdIdMap": {},
       "diffDeletes": [],
       "diffInserts": [],
       "displayType": "redashChart",
       "error": null,
       "errorDetails": null,
       "errorSummary": null,
       "errorTraceType": null,
       "finishTime": 0,
       "globalVars": {},
       "guid": "",
       "height": "auto",
       "hideCommandCode": false,
       "hideCommandResult": false,
       "iPythonMetadata": null,
       "inputWidgets": {},
       "isLockedInExamMode": false,
       "latestUser": "a user",
       "latestUserId": null,
       "listResultMetadata": null,
       "metadata": {
        "byteLimit": 2048000,
        "implicitDf": true,
        "rowLimit": 10000
       },
       "nuid": "776db7bb-00ed-4a91-b957-58555cc3f8a8",
       "origId": 0,
       "parentHierarchy": [],
       "pivotAggregation": null,
       "pivotColumns": null,
       "position": 12.0,
       "resultDbfsErrorMessage": null,
       "resultDbfsStatus": "INLINED_IN_TREE",
       "results": null,
       "showCommandTitle": false,
       "startTime": 0,
       "state": "finished",
       "streamStates": {},
       "subcommandOptions": {
        "queryPlan": {
         "groups": [
          {
           "column": "dayofweek",
           "type": "column"
          }
         ],
         "selects": [
          {
           "column": "dayofweek",
           "type": "column"
          },
          {
           "alias": "column_9e14917b14",
           "args": [
            {
             "column": "count(Order ID)",
             "type": "column"
            }
           ],
           "function": "SUM",
           "type": "function"
          }
         ]
        }
       },
       "submitTime": 0,
       "subtype": "tableResultSubCmd.visualization",
       "tableResultIndex": 0,
       "tableResultSettingsMap": null,
       "useConsistentColors": false,
       "version": "CommandV1",
       "width": "auto",
       "workflows": [],
       "xColumns": null,
       "yColumns": null
      }
     },
     "output_type": "display_data"
    }
   ],
   "source": [
    "%sql\n",
    "select dayofweek,count(`Order ID`) from sales_table\n",
    "group by dayofweek\n",
    "order by count(`Order ID`) desc"
   ]
  },
  {
   "cell_type": "markdown",
   "metadata": {
    "application/vnd.databricks.v1+cell": {
     "cellMetadata": {
      "byteLimit": 2048000,
      "rowLimit": 10000
     },
     "inputWidgets": {},
     "nuid": "689145a9-6f9d-4b07-8b1c-c9354e8ca892",
     "showTitle": false,
     "title": ""
    }
   },
   "source": [
    "On Sundays Offline Stores Are Closed\n",
    "Saturdays There is rise compared to the week days but its still low,\n",
    "maybe cause of the the availability of Offline Stores.\n",
    "Also There is a possibility of people working on saturdays."
   ]
  },
  {
   "cell_type": "markdown",
   "metadata": {
    "application/vnd.databricks.v1+cell": {
     "cellMetadata": {
      "byteLimit": 2048000,
      "rowLimit": 10000
     },
     "inputWidgets": {},
     "nuid": "afbdf048-e07d-4144-8d1e-31ead2f7d047",
     "showTitle": false,
     "title": ""
    }
   },
   "source": [
    "### Day On Day Sales Growth"
   ]
  },
  {
   "cell_type": "code",
   "execution_count": 0,
   "metadata": {
    "application/vnd.databricks.v1+cell": {
     "cellMetadata": {
      "byteLimit": 2048000,
      "implicitDf": true,
      "rowLimit": 10000
     },
     "inputWidgets": {},
     "nuid": "30d1edb5-6c28-481f-adda-cee331fae71f",
     "showTitle": false,
     "title": ""
    }
   },
   "outputs": [
    {
     "output_type": "display_data",
     "data": {
      "text/html": [
       "<style scoped>\n",
       "  .table-result-container {\n",
       "    max-height: 300px;\n",
       "    overflow: auto;\n",
       "  }\n",
       "  table, th, td {\n",
       "    border: 1px solid black;\n",
       "    border-collapse: collapse;\n",
       "  }\n",
       "  th, td {\n",
       "    padding: 5px;\n",
       "  }\n",
       "  th {\n",
       "    text-align: left;\n",
       "  }\n",
       "</style><div class='table-result-container'><table class='table-result'><thead style='background-color: white'><tr><th>month</th><th>Day</th><th>Total_Quantity</th></tr></thead><tbody><tr><td>4</td><td>1</td><td>1226</td></tr><tr><td>4</td><td>2</td><td>1312</td></tr><tr><td>4</td><td>3</td><td>1426</td></tr><tr><td>4</td><td>4</td><td>1253</td></tr><tr><td>4</td><td>5</td><td>1382</td></tr><tr><td>4</td><td>6</td><td>1341</td></tr><tr><td>4</td><td>7</td><td>1286</td></tr><tr><td>4</td><td>8</td><td>1420</td></tr><tr><td>4</td><td>9</td><td>1380</td></tr><tr><td>4</td><td>10</td><td>1512</td></tr><tr><td>4</td><td>11</td><td>1324</td></tr><tr><td>4</td><td>12</td><td>1227</td></tr><tr><td>4</td><td>13</td><td>1401</td></tr><tr><td>4</td><td>14</td><td>1580</td></tr><tr><td>4</td><td>15</td><td>1512</td></tr><tr><td>4</td><td>16</td><td>1419</td></tr><tr><td>4</td><td>17</td><td>1333</td></tr><tr><td>4</td><td>18</td><td>1294</td></tr><tr><td>4</td><td>19</td><td>1397</td></tr><tr><td>4</td><td>20</td><td>1562</td></tr><tr><td>4</td><td>21</td><td>1457</td></tr><tr><td>4</td><td>22</td><td>1403</td></tr><tr><td>4</td><td>23</td><td>1552</td></tr><tr><td>4</td><td>24</td><td>1523</td></tr><tr><td>4</td><td>25</td><td>1372</td></tr><tr><td>4</td><td>26</td><td>1299</td></tr><tr><td>4</td><td>27</td><td>1202</td></tr><tr><td>4</td><td>28</td><td>1204</td></tr><tr><td>4</td><td>29</td><td>1231</td></tr><tr><td>5</td><td>1</td><td>1531</td></tr><tr><td>5</td><td>2</td><td>1731</td></tr><tr><td>5</td><td>3</td><td>1747</td></tr><tr><td>5</td><td>4</td><td>1708</td></tr><tr><td>5</td><td>5</td><td>1242</td></tr><tr><td>5</td><td>6</td><td>1199</td></tr><tr><td>5</td><td>7</td><td>1218</td></tr><tr><td>5</td><td>8</td><td>1231</td></tr><tr><td>5</td><td>9</td><td>1106</td></tr><tr><td>5</td><td>10</td><td>983</td></tr><tr><td>5</td><td>11</td><td>974</td></tr><tr><td>5</td><td>12</td><td>938</td></tr><tr><td>5</td><td>13</td><td>918</td></tr><tr><td>5</td><td>14</td><td>996</td></tr><tr><td>5</td><td>15</td><td>1133</td></tr><tr><td>5</td><td>16</td><td>990</td></tr><tr><td>5</td><td>17</td><td>1005</td></tr><tr><td>5</td><td>18</td><td>1038</td></tr><tr><td>5</td><td>19</td><td>1039</td></tr><tr><td>5</td><td>20</td><td>921</td></tr><tr><td>5</td><td>21</td><td>902</td></tr><tr><td>5</td><td>22</td><td>1038</td></tr><tr><td>5</td><td>23</td><td>1014</td></tr><tr><td>5</td><td>24</td><td>1010</td></tr><tr><td>5</td><td>25</td><td>1108</td></tr><tr><td>5</td><td>26</td><td>1056</td></tr><tr><td>5</td><td>27</td><td>1108</td></tr><tr><td>5</td><td>28</td><td>1164</td></tr><tr><td>5</td><td>29</td><td>1111</td></tr><tr><td>6</td><td>1</td><td>1286</td></tr><tr><td>6</td><td>2</td><td>1201</td></tr><tr><td>6</td><td>3</td><td>1055</td></tr><tr><td>6</td><td>4</td><td>1246</td></tr><tr><td>6</td><td>5</td><td>1350</td></tr><tr><td>6</td><td>6</td><td>1317</td></tr><tr><td>6</td><td>7</td><td>1302</td></tr><tr><td>6</td><td>8</td><td>1338</td></tr><tr><td>6</td><td>9</td><td>1306</td></tr><tr><td>6</td><td>10</td><td>1098</td></tr><tr><td>6</td><td>11</td><td>1184</td></tr><tr><td>6</td><td>12</td><td>1313</td></tr><tr><td>6</td><td>13</td><td>1175</td></tr><tr><td>6</td><td>14</td><td>1212</td></tr><tr><td>6</td><td>15</td><td>1061</td></tr><tr><td>6</td><td>16</td><td>1086</td></tr><tr><td>6</td><td>17</td><td>975</td></tr><tr><td>6</td><td>18</td><td>996</td></tr><tr><td>6</td><td>19</td><td>984</td></tr><tr><td>6</td><td>20</td><td>1035</td></tr><tr><td>6</td><td>21</td><td>1075</td></tr><tr><td>6</td><td>22</td><td>1084</td></tr><tr><td>6</td><td>23</td><td>891</td></tr><tr><td>6</td><td>24</td><td>859</td></tr><tr><td>6</td><td>25</td><td>893</td></tr><tr><td>6</td><td>26</td><td>1033</td></tr><tr><td>6</td><td>27</td><td>953</td></tr><tr><td>6</td><td>28</td><td>1030</td></tr><tr><td>6</td><td>29</td><td>576</td></tr></tbody></table></div>"
      ]
     },
     "metadata": {
      "application/vnd.databricks.v1+output": {
       "addedWidgets": {},
       "aggData": [],
       "aggError": "",
       "aggOverflow": false,
       "aggSchema": [],
       "aggSeriesLimitReached": false,
       "aggType": "",
       "arguments": {},
       "columnCustomDisplayInfos": {},
       "data": [
        [
         4,
         1,
         1226
        ],
        [
         4,
         2,
         1312
        ],
        [
         4,
         3,
         1426
        ],
        [
         4,
         4,
         1253
        ],
        [
         4,
         5,
         1382
        ],
        [
         4,
         6,
         1341
        ],
        [
         4,
         7,
         1286
        ],
        [
         4,
         8,
         1420
        ],
        [
         4,
         9,
         1380
        ],
        [
         4,
         10,
         1512
        ],
        [
         4,
         11,
         1324
        ],
        [
         4,
         12,
         1227
        ],
        [
         4,
         13,
         1401
        ],
        [
         4,
         14,
         1580
        ],
        [
         4,
         15,
         1512
        ],
        [
         4,
         16,
         1419
        ],
        [
         4,
         17,
         1333
        ],
        [
         4,
         18,
         1294
        ],
        [
         4,
         19,
         1397
        ],
        [
         4,
         20,
         1562
        ],
        [
         4,
         21,
         1457
        ],
        [
         4,
         22,
         1403
        ],
        [
         4,
         23,
         1552
        ],
        [
         4,
         24,
         1523
        ],
        [
         4,
         25,
         1372
        ],
        [
         4,
         26,
         1299
        ],
        [
         4,
         27,
         1202
        ],
        [
         4,
         28,
         1204
        ],
        [
         4,
         29,
         1231
        ],
        [
         5,
         1,
         1531
        ],
        [
         5,
         2,
         1731
        ],
        [
         5,
         3,
         1747
        ],
        [
         5,
         4,
         1708
        ],
        [
         5,
         5,
         1242
        ],
        [
         5,
         6,
         1199
        ],
        [
         5,
         7,
         1218
        ],
        [
         5,
         8,
         1231
        ],
        [
         5,
         9,
         1106
        ],
        [
         5,
         10,
         983
        ],
        [
         5,
         11,
         974
        ],
        [
         5,
         12,
         938
        ],
        [
         5,
         13,
         918
        ],
        [
         5,
         14,
         996
        ],
        [
         5,
         15,
         1133
        ],
        [
         5,
         16,
         990
        ],
        [
         5,
         17,
         1005
        ],
        [
         5,
         18,
         1038
        ],
        [
         5,
         19,
         1039
        ],
        [
         5,
         20,
         921
        ],
        [
         5,
         21,
         902
        ],
        [
         5,
         22,
         1038
        ],
        [
         5,
         23,
         1014
        ],
        [
         5,
         24,
         1010
        ],
        [
         5,
         25,
         1108
        ],
        [
         5,
         26,
         1056
        ],
        [
         5,
         27,
         1108
        ],
        [
         5,
         28,
         1164
        ],
        [
         5,
         29,
         1111
        ],
        [
         6,
         1,
         1286
        ],
        [
         6,
         2,
         1201
        ],
        [
         6,
         3,
         1055
        ],
        [
         6,
         4,
         1246
        ],
        [
         6,
         5,
         1350
        ],
        [
         6,
         6,
         1317
        ],
        [
         6,
         7,
         1302
        ],
        [
         6,
         8,
         1338
        ],
        [
         6,
         9,
         1306
        ],
        [
         6,
         10,
         1098
        ],
        [
         6,
         11,
         1184
        ],
        [
         6,
         12,
         1313
        ],
        [
         6,
         13,
         1175
        ],
        [
         6,
         14,
         1212
        ],
        [
         6,
         15,
         1061
        ],
        [
         6,
         16,
         1086
        ],
        [
         6,
         17,
         975
        ],
        [
         6,
         18,
         996
        ],
        [
         6,
         19,
         984
        ],
        [
         6,
         20,
         1035
        ],
        [
         6,
         21,
         1075
        ],
        [
         6,
         22,
         1084
        ],
        [
         6,
         23,
         891
        ],
        [
         6,
         24,
         859
        ],
        [
         6,
         25,
         893
        ],
        [
         6,
         26,
         1033
        ],
        [
         6,
         27,
         953
        ],
        [
         6,
         28,
         1030
        ],
        [
         6,
         29,
         576
        ]
       ],
       "datasetInfos": [],
       "dbfsResultPath": null,
       "isJsonSchema": true,
       "metadata": {},
       "overflow": false,
       "plotOptions": {
        "customPlotOptions": {},
        "displayType": "table",
        "pivotAggregation": null,
        "pivotColumns": null,
        "xColumns": null,
        "yColumns": null
       },
       "removedWidgets": [],
       "schema": [
        {
         "metadata": "{}",
         "name": "month",
         "type": "\"integer\""
        },
        {
         "metadata": "{}",
         "name": "Day",
         "type": "\"integer\""
        },
        {
         "metadata": "{}",
         "name": "Total_Quantity",
         "type": "\"long\""
        }
       ],
       "type": "table"
      }
     },
     "output_type": "display_data"
    },
    {
     "output_type": "display_data",
     "data": {
      "text/plain": [
       "Databricks visualization. Run in Databricks to view."
      ]
     },
     "metadata": {
      "application/vnd.databricks.v1.subcommand+json": {
       "baseErrorDetails": null,
       "bindings": {},
       "collapsed": false,
       "command": "%sql WITH q AS (SELECT month, dayofmonth as Day, sum(qty) as Total_Quantity \nFROM sales_table \nwhere month!=3 and dayofmonth<=29\nGROUP BY month,dayofmonth\nORDER BY month,dayofmonth) SELECT `Day`,SUM(`Total_Quantity`) `column_7796db6f4`,`month` FROM q GROUP BY `Day`,`month`",
       "commandTitle": "Visualization 1",
       "commandType": "auto",
       "commandVersion": 0,
       "commentThread": [],
       "commentsVisible": false,
       "contentSha256Hex": null,
       "customPlotOptions": {
        "redashChart": [
         {
          "key": "type",
          "value": "CHART"
         },
         {
          "key": "options",
          "value": {
           "alignYAxesAtZero": true,
           "coefficient": 1,
           "columnConfigurationMap": {
            "series": {
             "column": "month",
             "id": "column_7796db6f2"
            },
            "x": {
             "column": "Day",
             "id": "column_7796db6f1"
            },
            "y": [
             {
              "column": "Total_Quantity",
              "id": "column_7796db6f4",
              "transform": "SUM"
             }
            ]
           },
           "dateTimeFormat": "DD/MM/YYYY HH:mm",
           "direction": {
            "type": "counterclockwise"
           },
           "error_y": {
            "type": "data",
            "visible": true
           },
           "globalSeriesType": "line",
           "isAggregationOn": true,
           "legend": {
            "traceorder": "normal"
           },
           "missingValuesAsZero": true,
           "numberFormat": "0,0.[00000]",
           "percentFormat": "0[.]00%",
           "series": {
            "error_y": {
             "type": "data",
             "visible": true
            },
            "stacking": null
           },
           "seriesOptions": {
            "column_7796db6f4": {
             "type": "line",
             "yAxis": 0
            }
           },
           "showDataLabels": false,
           "sizemode": "diameter",
           "sortX": true,
           "sortY": true,
           "swappedAxes": false,
           "textFormat": "",
           "useAggregationsUi": true,
           "valuesOptions": {},
           "version": 2,
           "xAxis": {
            "labels": {
             "enabled": true
            },
            "type": "-"
           },
           "yAxis": [
            {
             "type": "-"
            },
            {
             "opposite": true,
             "type": "-"
            }
           ]
          }
         }
        ]
       },
       "datasetPreviewNameToCmdIdMap": {},
       "diffDeletes": [],
       "diffInserts": [],
       "displayType": "redashChart",
       "error": null,
       "errorDetails": null,
       "errorSummary": null,
       "errorTraceType": null,
       "finishTime": 0,
       "globalVars": {},
       "guid": "",
       "height": "auto",
       "hideCommandCode": false,
       "hideCommandResult": false,
       "iPythonMetadata": null,
       "inputWidgets": {},
       "isLockedInExamMode": false,
       "latestUser": "a user",
       "latestUserId": null,
       "listResultMetadata": null,
       "metadata": {
        "byteLimit": 2048000,
        "implicitDf": true,
        "rowLimit": 10000
       },
       "nuid": "a6bd4c1a-dbe5-4fa7-883a-7262609c3659",
       "origId": 0,
       "parentHierarchy": [],
       "pivotAggregation": null,
       "pivotColumns": null,
       "position": 12.75,
       "resultDbfsErrorMessage": null,
       "resultDbfsStatus": "INLINED_IN_TREE",
       "results": null,
       "showCommandTitle": false,
       "startTime": 0,
       "state": "finished",
       "streamStates": {},
       "subcommandOptions": {
        "queryPlan": {
         "groups": [
          {
           "column": "Day",
           "type": "column"
          },
          {
           "column": "month",
           "type": "column"
          }
         ],
         "selects": [
          {
           "column": "Day",
           "type": "column"
          },
          {
           "alias": "column_7796db6f4",
           "args": [
            {
             "column": "Total_Quantity",
             "type": "column"
            }
           ],
           "function": "SUM",
           "type": "function"
          },
          {
           "column": "month",
           "type": "column"
          }
         ]
        }
       },
       "submitTime": 0,
       "subtype": "tableResultSubCmd.visualization",
       "tableResultIndex": 0,
       "tableResultSettingsMap": null,
       "useConsistentColors": false,
       "version": "CommandV1",
       "width": "auto",
       "workflows": [],
       "xColumns": null,
       "yColumns": null
      }
     },
     "output_type": "display_data"
    }
   ],
   "source": [
    "%sql\n",
    "SELECT month, dayofmonth as Day, sum(qty) as Total_Quantity \n",
    "FROM sales_table \n",
    "where month!=3 and dayofmonth<=29\n",
    "GROUP BY month,dayofmonth\n",
    "ORDER BY month,dayofmonth"
   ]
  },
  {
   "cell_type": "markdown",
   "metadata": {
    "application/vnd.databricks.v1+cell": {
     "cellMetadata": {
      "byteLimit": 2048000,
      "rowLimit": 10000
     },
     "inputWidgets": {},
     "nuid": "46082eef-db7b-4026-9e93-424e0f47b03b",
     "showTitle": false,
     "title": ""
    }
   },
   "source": [
    "The irregular peak in sales in the month of may pertains to the summer \n",
    "sale amazon usually has during the period of may 2nd to 5th "
   ]
  },
  {
   "cell_type": "markdown",
   "metadata": {
    "application/vnd.databricks.v1+cell": {
     "cellMetadata": {
      "byteLimit": 2048000,
      "rowLimit": 10000
     },
     "inputWidgets": {},
     "nuid": "f9aa829b-50a9-409c-a440-03df1c9406b2",
     "showTitle": false,
     "title": ""
    }
   },
   "source": [
    "### Sales Decline Day By Day For Top 4 categories"
   ]
  },
  {
   "cell_type": "code",
   "execution_count": 0,
   "metadata": {
    "application/vnd.databricks.v1+cell": {
     "cellMetadata": {
      "byteLimit": 2048000,
      "implicitDf": true,
      "rowLimit": 10000
     },
     "inputWidgets": {},
     "nuid": "63bb461a-49fe-4f59-9af0-1226170e6f48",
     "showTitle": false,
     "title": ""
    }
   },
   "outputs": [
    {
     "output_type": "display_data",
     "data": {
      "text/html": [
       "<style scoped>\n",
       "  .table-result-container {\n",
       "    max-height: 300px;\n",
       "    overflow: auto;\n",
       "  }\n",
       "  table, th, td {\n",
       "    border: 1px solid black;\n",
       "    border-collapse: collapse;\n",
       "  }\n",
       "  th, td {\n",
       "    padding: 5px;\n",
       "  }\n",
       "  th {\n",
       "    text-align: left;\n",
       "  }\n",
       "</style><div class='table-result-container'><table class='table-result'><thead style='background-color: white'><tr><th>month</th><th>dayofmonth</th><th>total_sales</th><th>prev_total_sales</th><th>diff</th></tr></thead><tbody><tr><td>4</td><td>1</td><td>786508.0</td><td>null</td><td>null</td></tr><tr><td>4</td><td>2</td><td>828031.0</td><td>786508.0</td><td>41523.0</td></tr><tr><td>4</td><td>3</td><td>911878.0</td><td>828031.0</td><td>83847.0</td></tr><tr><td>4</td><td>4</td><td>810034.0</td><td>911878.0</td><td>-101844.0</td></tr><tr><td>4</td><td>5</td><td>874403.0</td><td>810034.0</td><td>64369.0</td></tr><tr><td>4</td><td>6</td><td>812933.0</td><td>874403.0</td><td>-61470.0</td></tr><tr><td>4</td><td>7</td><td>805707.0</td><td>812933.0</td><td>-7226.0</td></tr><tr><td>4</td><td>8</td><td>918597.0</td><td>805707.0</td><td>112890.0</td></tr><tr><td>4</td><td>9</td><td>888859.0</td><td>918597.0</td><td>-29738.0</td></tr><tr><td>4</td><td>10</td><td>976199.0</td><td>888859.0</td><td>87340.0</td></tr><tr><td>4</td><td>11</td><td>872774.0</td><td>976199.0</td><td>-103425.0</td></tr><tr><td>4</td><td>12</td><td>813176.0</td><td>872774.0</td><td>-59598.0</td></tr><tr><td>4</td><td>13</td><td>896396.0</td><td>813176.0</td><td>83220.0</td></tr><tr><td>4</td><td>14</td><td>1000444.0</td><td>896396.0</td><td>104048.0</td></tr><tr><td>4</td><td>15</td><td>919744.0</td><td>1000444.0</td><td>-80700.0</td></tr><tr><td>4</td><td>16</td><td>879867.0</td><td>919744.0</td><td>-39877.0</td></tr><tr><td>4</td><td>17</td><td>839930.0</td><td>879867.0</td><td>-39937.0</td></tr><tr><td>4</td><td>18</td><td>793347.0</td><td>839930.0</td><td>-46583.0</td></tr><tr><td>4</td><td>19</td><td>868772.0</td><td>793347.0</td><td>75425.0</td></tr><tr><td>4</td><td>20</td><td>967054.0</td><td>868772.0</td><td>98282.0</td></tr><tr><td>4</td><td>21</td><td>882821.0</td><td>967054.0</td><td>-84233.0</td></tr><tr><td>4</td><td>22</td><td>882838.0</td><td>882821.0</td><td>17.0</td></tr><tr><td>4</td><td>23</td><td>979980.0</td><td>882838.0</td><td>97142.0</td></tr><tr><td>4</td><td>24</td><td>982489.0</td><td>979980.0</td><td>2509.0</td></tr><tr><td>4</td><td>25</td><td>879412.0</td><td>982489.0</td><td>-103077.0</td></tr><tr><td>4</td><td>26</td><td>820054.0</td><td>879412.0</td><td>-59358.0</td></tr><tr><td>4</td><td>27</td><td>759334.0</td><td>820054.0</td><td>-60720.0</td></tr><tr><td>4</td><td>28</td><td>760118.0</td><td>759334.0</td><td>784.0</td></tr><tr><td>4</td><td>29</td><td>776816.0</td><td>760118.0</td><td>16698.0</td></tr><tr><td>4</td><td>30</td><td>888487.0</td><td>776816.0</td><td>111671.0</td></tr><tr><td>5</td><td>1</td><td>982636.0</td><td>null</td><td>null</td></tr><tr><td>5</td><td>2</td><td>1054654.0</td><td>982636.0</td><td>72018.0</td></tr><tr><td>5</td><td>3</td><td>1087830.0</td><td>1054654.0</td><td>33176.0</td></tr><tr><td>5</td><td>4</td><td>1112804.0</td><td>1087830.0</td><td>24974.0</td></tr><tr><td>5</td><td>5</td><td>805288.0</td><td>1112804.0</td><td>-307516.0</td></tr><tr><td>5</td><td>6</td><td>835917.0</td><td>805288.0</td><td>30629.0</td></tr><tr><td>5</td><td>7</td><td>824290.0</td><td>835917.0</td><td>-11627.0</td></tr><tr><td>5</td><td>8</td><td>818573.0</td><td>824290.0</td><td>-5717.0</td></tr><tr><td>5</td><td>9</td><td>716104.0</td><td>818573.0</td><td>-102469.0</td></tr><tr><td>5</td><td>10</td><td>642792.0</td><td>716104.0</td><td>-73312.0</td></tr><tr><td>5</td><td>11</td><td>652810.0</td><td>642792.0</td><td>10018.0</td></tr><tr><td>5</td><td>12</td><td>634415.0</td><td>652810.0</td><td>-18395.0</td></tr><tr><td>5</td><td>13</td><td>641410.0</td><td>634415.0</td><td>6995.0</td></tr><tr><td>5</td><td>14</td><td>674370.0</td><td>641410.0</td><td>32960.0</td></tr><tr><td>5</td><td>15</td><td>776304.0</td><td>674370.0</td><td>101934.0</td></tr><tr><td>5</td><td>16</td><td>669378.0</td><td>776304.0</td><td>-106926.0</td></tr><tr><td>5</td><td>17</td><td>692650.0</td><td>669378.0</td><td>23272.0</td></tr><tr><td>5</td><td>18</td><td>705754.0</td><td>692650.0</td><td>13104.0</td></tr><tr><td>5</td><td>19</td><td>703194.0</td><td>705754.0</td><td>-2560.0</td></tr><tr><td>5</td><td>20</td><td>621892.0</td><td>703194.0</td><td>-81302.0</td></tr><tr><td>5</td><td>21</td><td>612188.0</td><td>621892.0</td><td>-9704.0</td></tr><tr><td>5</td><td>22</td><td>717570.0</td><td>612188.0</td><td>105382.0</td></tr><tr><td>5</td><td>23</td><td>695782.0</td><td>717570.0</td><td>-21788.0</td></tr><tr><td>5</td><td>24</td><td>682481.0</td><td>695782.0</td><td>-13301.0</td></tr><tr><td>5</td><td>25</td><td>748297.0</td><td>682481.0</td><td>65816.0</td></tr><tr><td>5</td><td>26</td><td>716244.0</td><td>748297.0</td><td>-32053.0</td></tr><tr><td>5</td><td>27</td><td>760152.0</td><td>716244.0</td><td>43908.0</td></tr><tr><td>5</td><td>28</td><td>789312.0</td><td>760152.0</td><td>29160.0</td></tr><tr><td>5</td><td>29</td><td>739807.0</td><td>789312.0</td><td>-49505.0</td></tr><tr><td>5</td><td>30</td><td>766164.0</td><td>739807.0</td><td>26357.0</td></tr><tr><td>5</td><td>31</td><td>827984.0</td><td>766164.0</td><td>61820.0</td></tr><tr><td>6</td><td>1</td><td>854948.0</td><td>null</td><td>null</td></tr><tr><td>6</td><td>2</td><td>820523.0</td><td>854948.0</td><td>-34425.0</td></tr><tr><td>6</td><td>3</td><td>692709.0</td><td>820523.0</td><td>-127814.0</td></tr><tr><td>6</td><td>4</td><td>823227.0</td><td>692709.0</td><td>130518.0</td></tr><tr><td>6</td><td>5</td><td>898557.0</td><td>823227.0</td><td>75330.0</td></tr><tr><td>6</td><td>6</td><td>891753.0</td><td>898557.0</td><td>-6804.0</td></tr><tr><td>6</td><td>7</td><td>891609.0</td><td>891753.0</td><td>-144.0</td></tr><tr><td>6</td><td>8</td><td>888533.0</td><td>891609.0</td><td>-3076.0</td></tr><tr><td>6</td><td>9</td><td>864051.0</td><td>888533.0</td><td>-24482.0</td></tr><tr><td>6</td><td>10</td><td>752126.0</td><td>864051.0</td><td>-111925.0</td></tr><tr><td>6</td><td>11</td><td>785241.0</td><td>752126.0</td><td>33115.0</td></tr><tr><td>6</td><td>12</td><td>868204.0</td><td>785241.0</td><td>82963.0</td></tr><tr><td>6</td><td>13</td><td>793810.0</td><td>868204.0</td><td>-74394.0</td></tr><tr><td>6</td><td>14</td><td>820534.0</td><td>793810.0</td><td>26724.0</td></tr><tr><td>6</td><td>15</td><td>735598.0</td><td>820534.0</td><td>-84936.0</td></tr><tr><td>6</td><td>16</td><td>730503.0</td><td>735598.0</td><td>-5095.0</td></tr><tr><td>6</td><td>17</td><td>682317.0</td><td>730503.0</td><td>-48186.0</td></tr><tr><td>6</td><td>18</td><td>671170.0</td><td>682317.0</td><td>-11147.0</td></tr><tr><td>6</td><td>19</td><td>656072.0</td><td>671170.0</td><td>-15098.0</td></tr><tr><td>6</td><td>20</td><td>682580.0</td><td>656072.0</td><td>26508.0</td></tr><tr><td>6</td><td>21</td><td>706954.0</td><td>682580.0</td><td>24374.0</td></tr><tr><td>6</td><td>22</td><td>708504.0</td><td>706954.0</td><td>1550.0</td></tr><tr><td>6</td><td>23</td><td>589363.0</td><td>708504.0</td><td>-119141.0</td></tr><tr><td>6</td><td>24</td><td>576808.0</td><td>589363.0</td><td>-12555.0</td></tr><tr><td>6</td><td>25</td><td>614973.0</td><td>576808.0</td><td>38165.0</td></tr><tr><td>6</td><td>26</td><td>704899.0</td><td>614973.0</td><td>89926.0</td></tr><tr><td>6</td><td>27</td><td>662645.0</td><td>704899.0</td><td>-42254.0</td></tr><tr><td>6</td><td>28</td><td>709476.0</td><td>662645.0</td><td>46831.0</td></tr><tr><td>6</td><td>29</td><td>386911.0</td><td>709476.0</td><td>-322565.0</td></tr></tbody></table></div>"
      ]
     },
     "metadata": {
      "application/vnd.databricks.v1+output": {
       "addedWidgets": {},
       "aggData": [],
       "aggError": "",
       "aggOverflow": false,
       "aggSchema": [],
       "aggSeriesLimitReached": false,
       "aggType": "",
       "arguments": {},
       "columnCustomDisplayInfos": {},
       "data": [
        [
         4,
         1,
         786508.0,
         null,
         null
        ],
        [
         4,
         2,
         828031.0,
         786508.0,
         41523.0
        ],
        [
         4,
         3,
         911878.0,
         828031.0,
         83847.0
        ],
        [
         4,
         4,
         810034.0,
         911878.0,
         -101844.0
        ],
        [
         4,
         5,
         874403.0,
         810034.0,
         64369.0
        ],
        [
         4,
         6,
         812933.0,
         874403.0,
         -61470.0
        ],
        [
         4,
         7,
         805707.0,
         812933.0,
         -7226.0
        ],
        [
         4,
         8,
         918597.0,
         805707.0,
         112890.0
        ],
        [
         4,
         9,
         888859.0,
         918597.0,
         -29738.0
        ],
        [
         4,
         10,
         976199.0,
         888859.0,
         87340.0
        ],
        [
         4,
         11,
         872774.0,
         976199.0,
         -103425.0
        ],
        [
         4,
         12,
         813176.0,
         872774.0,
         -59598.0
        ],
        [
         4,
         13,
         896396.0,
         813176.0,
         83220.0
        ],
        [
         4,
         14,
         1000444.0,
         896396.0,
         104048.0
        ],
        [
         4,
         15,
         919744.0,
         1000444.0,
         -80700.0
        ],
        [
         4,
         16,
         879867.0,
         919744.0,
         -39877.0
        ],
        [
         4,
         17,
         839930.0,
         879867.0,
         -39937.0
        ],
        [
         4,
         18,
         793347.0,
         839930.0,
         -46583.0
        ],
        [
         4,
         19,
         868772.0,
         793347.0,
         75425.0
        ],
        [
         4,
         20,
         967054.0,
         868772.0,
         98282.0
        ],
        [
         4,
         21,
         882821.0,
         967054.0,
         -84233.0
        ],
        [
         4,
         22,
         882838.0,
         882821.0,
         17.0
        ],
        [
         4,
         23,
         979980.0,
         882838.0,
         97142.0
        ],
        [
         4,
         24,
         982489.0,
         979980.0,
         2509.0
        ],
        [
         4,
         25,
         879412.0,
         982489.0,
         -103077.0
        ],
        [
         4,
         26,
         820054.0,
         879412.0,
         -59358.0
        ],
        [
         4,
         27,
         759334.0,
         820054.0,
         -60720.0
        ],
        [
         4,
         28,
         760118.0,
         759334.0,
         784.0
        ],
        [
         4,
         29,
         776816.0,
         760118.0,
         16698.0
        ],
        [
         4,
         30,
         888487.0,
         776816.0,
         111671.0
        ],
        [
         5,
         1,
         982636.0,
         null,
         null
        ],
        [
         5,
         2,
         1054654.0,
         982636.0,
         72018.0
        ],
        [
         5,
         3,
         1087830.0,
         1054654.0,
         33176.0
        ],
        [
         5,
         4,
         1112804.0,
         1087830.0,
         24974.0
        ],
        [
         5,
         5,
         805288.0,
         1112804.0,
         -307516.0
        ],
        [
         5,
         6,
         835917.0,
         805288.0,
         30629.0
        ],
        [
         5,
         7,
         824290.0,
         835917.0,
         -11627.0
        ],
        [
         5,
         8,
         818573.0,
         824290.0,
         -5717.0
        ],
        [
         5,
         9,
         716104.0,
         818573.0,
         -102469.0
        ],
        [
         5,
         10,
         642792.0,
         716104.0,
         -73312.0
        ],
        [
         5,
         11,
         652810.0,
         642792.0,
         10018.0
        ],
        [
         5,
         12,
         634415.0,
         652810.0,
         -18395.0
        ],
        [
         5,
         13,
         641410.0,
         634415.0,
         6995.0
        ],
        [
         5,
         14,
         674370.0,
         641410.0,
         32960.0
        ],
        [
         5,
         15,
         776304.0,
         674370.0,
         101934.0
        ],
        [
         5,
         16,
         669378.0,
         776304.0,
         -106926.0
        ],
        [
         5,
         17,
         692650.0,
         669378.0,
         23272.0
        ],
        [
         5,
         18,
         705754.0,
         692650.0,
         13104.0
        ],
        [
         5,
         19,
         703194.0,
         705754.0,
         -2560.0
        ],
        [
         5,
         20,
         621892.0,
         703194.0,
         -81302.0
        ],
        [
         5,
         21,
         612188.0,
         621892.0,
         -9704.0
        ],
        [
         5,
         22,
         717570.0,
         612188.0,
         105382.0
        ],
        [
         5,
         23,
         695782.0,
         717570.0,
         -21788.0
        ],
        [
         5,
         24,
         682481.0,
         695782.0,
         -13301.0
        ],
        [
         5,
         25,
         748297.0,
         682481.0,
         65816.0
        ],
        [
         5,
         26,
         716244.0,
         748297.0,
         -32053.0
        ],
        [
         5,
         27,
         760152.0,
         716244.0,
         43908.0
        ],
        [
         5,
         28,
         789312.0,
         760152.0,
         29160.0
        ],
        [
         5,
         29,
         739807.0,
         789312.0,
         -49505.0
        ],
        [
         5,
         30,
         766164.0,
         739807.0,
         26357.0
        ],
        [
         5,
         31,
         827984.0,
         766164.0,
         61820.0
        ],
        [
         6,
         1,
         854948.0,
         null,
         null
        ],
        [
         6,
         2,
         820523.0,
         854948.0,
         -34425.0
        ],
        [
         6,
         3,
         692709.0,
         820523.0,
         -127814.0
        ],
        [
         6,
         4,
         823227.0,
         692709.0,
         130518.0
        ],
        [
         6,
         5,
         898557.0,
         823227.0,
         75330.0
        ],
        [
         6,
         6,
         891753.0,
         898557.0,
         -6804.0
        ],
        [
         6,
         7,
         891609.0,
         891753.0,
         -144.0
        ],
        [
         6,
         8,
         888533.0,
         891609.0,
         -3076.0
        ],
        [
         6,
         9,
         864051.0,
         888533.0,
         -24482.0
        ],
        [
         6,
         10,
         752126.0,
         864051.0,
         -111925.0
        ],
        [
         6,
         11,
         785241.0,
         752126.0,
         33115.0
        ],
        [
         6,
         12,
         868204.0,
         785241.0,
         82963.0
        ],
        [
         6,
         13,
         793810.0,
         868204.0,
         -74394.0
        ],
        [
         6,
         14,
         820534.0,
         793810.0,
         26724.0
        ],
        [
         6,
         15,
         735598.0,
         820534.0,
         -84936.0
        ],
        [
         6,
         16,
         730503.0,
         735598.0,
         -5095.0
        ],
        [
         6,
         17,
         682317.0,
         730503.0,
         -48186.0
        ],
        [
         6,
         18,
         671170.0,
         682317.0,
         -11147.0
        ],
        [
         6,
         19,
         656072.0,
         671170.0,
         -15098.0
        ],
        [
         6,
         20,
         682580.0,
         656072.0,
         26508.0
        ],
        [
         6,
         21,
         706954.0,
         682580.0,
         24374.0
        ],
        [
         6,
         22,
         708504.0,
         706954.0,
         1550.0
        ],
        [
         6,
         23,
         589363.0,
         708504.0,
         -119141.0
        ],
        [
         6,
         24,
         576808.0,
         589363.0,
         -12555.0
        ],
        [
         6,
         25,
         614973.0,
         576808.0,
         38165.0
        ],
        [
         6,
         26,
         704899.0,
         614973.0,
         89926.0
        ],
        [
         6,
         27,
         662645.0,
         704899.0,
         -42254.0
        ],
        [
         6,
         28,
         709476.0,
         662645.0,
         46831.0
        ],
        [
         6,
         29,
         386911.0,
         709476.0,
         -322565.0
        ]
       ],
       "datasetInfos": [],
       "dbfsResultPath": null,
       "isJsonSchema": true,
       "metadata": {},
       "overflow": false,
       "plotOptions": {
        "customPlotOptions": {},
        "displayType": "table",
        "pivotAggregation": null,
        "pivotColumns": null,
        "xColumns": null,
        "yColumns": null
       },
       "removedWidgets": [],
       "schema": [
        {
         "metadata": "{}",
         "name": "month",
         "type": "\"integer\""
        },
        {
         "metadata": "{}",
         "name": "dayofmonth",
         "type": "\"integer\""
        },
        {
         "metadata": "{}",
         "name": "total_sales",
         "type": "\"double\""
        },
        {
         "metadata": "{}",
         "name": "prev_total_sales",
         "type": "\"double\""
        },
        {
         "metadata": "{}",
         "name": "diff",
         "type": "\"double\""
        }
       ],
       "type": "table"
      }
     },
     "output_type": "display_data"
    },
    {
     "output_type": "display_data",
     "data": {
      "text/plain": [
       "Databricks visualization. Run in Databricks to view."
      ]
     },
     "metadata": {
      "application/vnd.databricks.v1.subcommand+json": {
       "baseErrorDetails": null,
       "bindings": {},
       "collapsed": false,
       "command": "%sql WITH q AS (select *,lag(total_sales,1) OVER(partition by month order by dayofmonth) as prev_total_sales,total_sales-(lag(total_sales,1) OVER(partition by month order by dayofmonth)) as diff\nfrom\n(select month,dayofmonth,sum(amount) as total_sales\nfrom sales_table\nwhere month!=3 and (category=\"Set\" OR category=\"Top\" OR category=\"Western Dress\" OR category=\"kurta\" or category=\"Ethnic Dress\")\ngroup by month,dayofmonth\norder by month,dayofmonth) as _) SELECT `dayofmonth`,SUM(`diff`) `column_ccb36eeb55`,`month` FROM q GROUP BY `dayofmonth`,`month`",
       "commandTitle": "Visualization 1",
       "commandType": "auto",
       "commandVersion": 0,
       "commentThread": [],
       "commentsVisible": false,
       "contentSha256Hex": null,
       "customPlotOptions": {
        "redashChart": [
         {
          "key": "type",
          "value": "CHART"
         },
         {
          "key": "options",
          "value": {
           "alignYAxesAtZero": true,
           "coefficient": 1,
           "columnConfigurationMap": {
            "series": {
             "column": "month",
             "id": "column_ccb36eeb64"
            },
            "x": {
             "column": "dayofmonth",
             "id": "column_ccb36eeb62"
            },
            "y": [
             {
              "column": "diff",
              "id": "column_ccb36eeb55",
              "transform": "SUM"
             }
            ]
           },
           "dateTimeFormat": "DD/MM/YYYY HH:mm",
           "direction": {
            "type": "counterclockwise"
           },
           "error_y": {
            "type": "data",
            "visible": true
           },
           "globalSeriesType": "line",
           "isAggregationOn": true,
           "legend": {
            "traceorder": "normal"
           },
           "missingValuesAsZero": true,
           "numberFormat": "0,0.[00000]",
           "percentFormat": "0[.]00%",
           "series": {
            "error_y": {
             "type": "data",
             "visible": true
            },
            "percentValues": false,
            "stacking": null
           },
           "seriesOptions": {
            "column_ccb36eeb55": {
             "type": "line",
             "yAxis": 0
            }
           },
           "showDataLabels": false,
           "sizemode": "diameter",
           "sortX": true,
           "sortY": true,
           "swappedAxes": false,
           "textFormat": "",
           "useAggregationsUi": true,
           "valuesOptions": {},
           "version": 2,
           "xAxis": {
            "labels": {
             "enabled": true
            },
            "type": "-"
           },
           "yAxis": [
            {
             "type": "-"
            },
            {
             "opposite": true,
             "type": "-"
            }
           ]
          }
         }
        ]
       },
       "datasetPreviewNameToCmdIdMap": {},
       "diffDeletes": [],
       "diffInserts": [],
       "displayType": "redashChart",
       "error": null,
       "errorDetails": null,
       "errorSummary": null,
       "errorTraceType": null,
       "finishTime": 0,
       "globalVars": {},
       "guid": "",
       "height": "auto",
       "hideCommandCode": false,
       "hideCommandResult": false,
       "iPythonMetadata": null,
       "inputWidgets": {},
       "isLockedInExamMode": false,
       "latestUser": "a user",
       "latestUserId": null,
       "listResultMetadata": null,
       "metadata": {
        "byteLimit": 2048000,
        "implicitDf": true,
        "rowLimit": 10000
       },
       "nuid": "cb306678-63bb-4fed-8cf2-e535807fa5f3",
       "origId": 0,
       "parentHierarchy": [],
       "pivotAggregation": null,
       "pivotColumns": null,
       "position": 12.78125,
       "resultDbfsErrorMessage": null,
       "resultDbfsStatus": "INLINED_IN_TREE",
       "results": null,
       "showCommandTitle": false,
       "startTime": 0,
       "state": "finished",
       "streamStates": {},
       "subcommandOptions": {
        "queryPlan": {
         "groups": [
          {
           "column": "dayofmonth",
           "type": "column"
          },
          {
           "column": "month",
           "type": "column"
          }
         ],
         "selects": [
          {
           "column": "dayofmonth",
           "type": "column"
          },
          {
           "alias": "column_ccb36eeb55",
           "args": [
            {
             "column": "diff",
             "type": "column"
            }
           ],
           "function": "SUM",
           "type": "function"
          },
          {
           "column": "month",
           "type": "column"
          }
         ]
        }
       },
       "submitTime": 0,
       "subtype": "tableResultSubCmd.visualization",
       "tableResultIndex": 0,
       "tableResultSettingsMap": null,
       "useConsistentColors": false,
       "version": "CommandV1",
       "width": "auto",
       "workflows": [],
       "xColumns": null,
       "yColumns": null
      }
     },
     "output_type": "display_data"
    }
   ],
   "source": [
    "%sql\n",
    "select *,lag(total_sales,1) OVER(partition by month order by dayofmonth) as prev_total_sales,total_sales-(lag(total_sales,1) OVER(partition by month order by dayofmonth)) as diff\n",
    "from\n",
    "(select month,dayofmonth,sum(amount) as total_sales\n",
    "from sales_table\n",
    "where month!=3 and (category=\"Set\" OR category=\"Top\" OR category=\"Western Dress\" OR category=\"kurta\" or category=\"Ethnic Dress\")\n",
    "group by month,dayofmonth\n",
    "order by month,dayofmonth) as _"
   ]
  },
  {
   "cell_type": "code",
   "execution_count": 0,
   "metadata": {
    "application/vnd.databricks.v1+cell": {
     "cellMetadata": {
      "byteLimit": 2048000,
      "implicitDf": true,
      "rowLimit": 10000
     },
     "inputWidgets": {},
     "nuid": "5177f788-e1dc-4e2e-894d-2e0c80794d8b",
     "showTitle": false,
     "title": ""
    }
   },
   "outputs": [],
   "source": [
    "%sql\n",
    "SELECT\n",
    "    `order id`,\n",
    "    category,\n",
    "    date,\n",
    "    amount,\n",
    "    SUM(amount) OVER(PARTITION BY category ORDER BY date) AS cumulative_sales_by_product\n",
    "FROM sales_table\n",
    "ORDER BY category,date;\n"
   ]
  },
  {
   "cell_type": "code",
   "execution_count": 0,
   "metadata": {
    "application/vnd.databricks.v1+cell": {
     "cellMetadata": {
      "byteLimit": 2048000,
      "implicitDf": true,
      "rowLimit": 10000
     },
     "inputWidgets": {},
     "nuid": "2847fa9e-275e-49a3-b0ae-3ea7542d6ec1",
     "showTitle": false,
     "title": ""
    }
   },
   "outputs": [
    {
     "output_type": "display_data",
     "data": {
      "text/html": [
       "<style scoped>\n",
       "  .table-result-container {\n",
       "    max-height: 300px;\n",
       "    overflow: auto;\n",
       "  }\n",
       "  table, th, td {\n",
       "    border: 1px solid black;\n",
       "    border-collapse: collapse;\n",
       "  }\n",
       "  th, td {\n",
       "    padding: 5px;\n",
       "  }\n",
       "  th {\n",
       "    text-align: left;\n",
       "  }\n",
       "</style><div class='table-result-container'><table class='table-result'><thead style='background-color: white'><tr><th>fulfilment</th><th>courier status</th><th>order_count</th></tr></thead><tbody><tr><td>Amazon</td><td>Unshipped</td><td>5705</td></tr><tr><td>Amazon</td><td>Shipped</td><td>72662</td></tr><tr><td>Amazon</td><td>Cancelled</td><td>5616</td></tr><tr><td>Merchant</td><td>Shipped</td><td>29498</td></tr><tr><td>Merchant</td><td>Cancelled</td><td>6385</td></tr><tr><td>Merchant</td><td>Unshipped</td><td>481</td></tr></tbody></table></div>"
      ]
     },
     "metadata": {
      "application/vnd.databricks.v1+output": {
       "addedWidgets": {},
       "aggData": [],
       "aggError": "",
       "aggOverflow": false,
       "aggSchema": [],
       "aggSeriesLimitReached": false,
       "aggType": "",
       "arguments": {},
       "columnCustomDisplayInfos": {},
       "data": [
        [
         "Amazon",
         "Unshipped",
         5705
        ],
        [
         "Amazon",
         "Shipped",
         72662
        ],
        [
         "Amazon",
         "Cancelled",
         5616
        ],
        [
         "Merchant",
         "Shipped",
         29498
        ],
        [
         "Merchant",
         "Cancelled",
         6385
        ],
        [
         "Merchant",
         "Unshipped",
         481
        ]
       ],
       "datasetInfos": [],
       "dbfsResultPath": null,
       "isJsonSchema": true,
       "metadata": {},
       "overflow": false,
       "plotOptions": {
        "customPlotOptions": {},
        "displayType": "table",
        "pivotAggregation": null,
        "pivotColumns": null,
        "xColumns": null,
        "yColumns": null
       },
       "removedWidgets": [],
       "schema": [
        {
         "metadata": "{}",
         "name": "fulfilment",
         "type": "\"string\""
        },
        {
         "metadata": "{}",
         "name": "courier status",
         "type": "\"string\""
        },
        {
         "metadata": "{}",
         "name": "order_count",
         "type": "\"long\""
        }
       ],
       "type": "table"
      }
     },
     "output_type": "display_data"
    },
    {
     "output_type": "display_data",
     "data": {
      "text/plain": [
       "Databricks visualization. Run in Databricks to view."
      ]
     },
     "metadata": {
      "application/vnd.databricks.v1.subcommand+json": {
       "baseErrorDetails": null,
       "bindings": {},
       "collapsed": false,
       "command": "%sql WITH q AS (select fulfilment,`courier status`,count(`Order ID`) as order_count from sales_table\ngroup by fulfilment,`courier status`\norder by fulfilment) SELECT `courier status`,`fulfilment`,SUM(`order_count`) `column_9e14917b22` FROM q GROUP BY `courier status`,`fulfilment`",
       "commandTitle": "Visualization 1",
       "commandType": "auto",
       "commandVersion": 0,
       "commentThread": [],
       "commentsVisible": false,
       "contentSha256Hex": null,
       "customPlotOptions": {
        "redashChart": [
         {
          "key": "type",
          "value": "CHART"
         },
         {
          "key": "options",
          "value": {
           "alignYAxesAtZero": true,
           "coefficient": 1,
           "columnConfigurationMap": {
            "series": {
             "column": "fulfilment",
             "id": "column_9e14917b24"
            },
            "x": {
             "column": "courier status",
             "id": "column_a89db1a817"
            },
            "y": [
             {
              "column": "order_count",
              "id": "column_9e14917b22",
              "transform": "SUM"
             }
            ]
           },
           "dateTimeFormat": "DD/MM/YYYY HH:mm",
           "direction": {
            "type": "counterclockwise"
           },
           "error_y": {
            "type": "data",
            "visible": true
           },
           "globalSeriesType": "pie",
           "isAggregationOn": true,
           "legend": {
            "traceorder": "normal"
           },
           "missingValuesAsZero": true,
           "numberFormat": "0,0.[00000]",
           "percentFormat": "0[.]00%",
           "series": {
            "error_y": {
             "type": "data",
             "visible": true
            },
            "stacking": null
           },
           "seriesOptions": {
            "column_9e14917b22": {
             "name": "count(Order ID)",
             "type": "pie",
             "yAxis": 0
            }
           },
           "showDataLabels": true,
           "sizemode": "diameter",
           "sortX": true,
           "sortY": true,
           "swappedAxes": false,
           "textFormat": "",
           "useAggregationsUi": true,
           "valuesOptions": {
            "Cancelled": {
             "color": "#E92828"
            },
            "Shipped": {
             "color": "#3BD973"
            }
           },
           "version": 2,
           "xAxis": {
            "labels": {
             "enabled": true
            },
            "type": "-"
           },
           "yAxis": [
            {
             "type": "-"
            },
            {
             "opposite": true,
             "type": "-"
            }
           ]
          }
         }
        ]
       },
       "datasetPreviewNameToCmdIdMap": {},
       "diffDeletes": [],
       "diffInserts": [],
       "displayType": "redashChart",
       "error": null,
       "errorDetails": null,
       "errorSummary": null,
       "errorTraceType": null,
       "finishTime": 0,
       "globalVars": {},
       "guid": "",
       "height": "auto",
       "hideCommandCode": false,
       "hideCommandResult": false,
       "iPythonMetadata": null,
       "inputWidgets": {},
       "isLockedInExamMode": false,
       "latestUser": "a user",
       "latestUserId": null,
       "listResultMetadata": null,
       "metadata": {
        "byteLimit": 2048000,
        "implicitDf": true,
        "rowLimit": 10000
       },
       "nuid": "9f2ac6d2-82eb-4e74-a904-f32649642c83",
       "origId": 0,
       "parentHierarchy": [],
       "pivotAggregation": null,
       "pivotColumns": null,
       "position": 13.0,
       "resultDbfsErrorMessage": null,
       "resultDbfsStatus": "INLINED_IN_TREE",
       "results": null,
       "showCommandTitle": false,
       "startTime": 0,
       "state": "finished",
       "streamStates": {},
       "subcommandOptions": {
        "queryPlan": {
         "groups": [
          {
           "column": "courier status",
           "type": "column"
          },
          {
           "column": "fulfilment",
           "type": "column"
          }
         ],
         "selects": [
          {
           "column": "courier status",
           "type": "column"
          },
          {
           "column": "fulfilment",
           "type": "column"
          },
          {
           "alias": "column_9e14917b22",
           "args": [
            {
             "column": "order_count",
             "type": "column"
            }
           ],
           "function": "SUM",
           "type": "function"
          }
         ]
        }
       },
       "submitTime": 0,
       "subtype": "tableResultSubCmd.visualization",
       "tableResultIndex": 0,
       "tableResultSettingsMap": null,
       "useConsistentColors": false,
       "version": "CommandV1",
       "width": "auto",
       "workflows": [],
       "xColumns": null,
       "yColumns": null
      }
     },
     "output_type": "display_data"
    }
   ],
   "source": [
    "%sql\n",
    "select fulfilment,`courier status`,count(`Order ID`) as order_count from sales_table\n",
    "group by fulfilment,`courier status`\n",
    "order by fulfilment"
   ]
  },
  {
   "cell_type": "code",
   "execution_count": 0,
   "metadata": {
    "application/vnd.databricks.v1+cell": {
     "cellMetadata": {
      "byteLimit": 2048000,
      "implicitDf": true,
      "rowLimit": 10000
     },
     "inputWidgets": {},
     "nuid": "d9a74023-efe3-404e-a89d-1be670443d93",
     "showTitle": false,
     "title": ""
    }
   },
   "outputs": [
    {
     "output_type": "display_data",
     "data": {
      "text/html": [
       "<style scoped>\n",
       "  .table-result-container {\n",
       "    max-height: 300px;\n",
       "    overflow: auto;\n",
       "  }\n",
       "  table, th, td {\n",
       "    border: 1px solid black;\n",
       "    border-collapse: collapse;\n",
       "  }\n",
       "  th, td {\n",
       "    padding: 5px;\n",
       "  }\n",
       "  th {\n",
       "    text-align: left;\n",
       "  }\n",
       "</style><div class='table-result-container'><table class='table-result'><thead style='background-color: white'><tr><th>ship-service-level</th><th>Courier Status</th><th>order_count</th></tr></thead><tbody><tr><td>Expedited</td><td>Cancelled</td><td>5574</td></tr><tr><td>Expedited</td><td>Unshipped</td><td>5578</td></tr><tr><td>Expedited</td><td>Shipped</td><td>71754</td></tr><tr><td>Standard</td><td>Unshipped</td><td>608</td></tr><tr><td>Standard</td><td>Cancelled</td><td>6427</td></tr><tr><td>Standard</td><td>Shipped</td><td>30406</td></tr></tbody></table></div>"
      ]
     },
     "metadata": {
      "application/vnd.databricks.v1+output": {
       "addedWidgets": {},
       "aggData": [],
       "aggError": "",
       "aggOverflow": false,
       "aggSchema": [],
       "aggSeriesLimitReached": false,
       "aggType": "",
       "arguments": {},
       "columnCustomDisplayInfos": {},
       "data": [
        [
         "Expedited",
         "Cancelled",
         5574
        ],
        [
         "Expedited",
         "Unshipped",
         5578
        ],
        [
         "Expedited",
         "Shipped",
         71754
        ],
        [
         "Standard",
         "Unshipped",
         608
        ],
        [
         "Standard",
         "Cancelled",
         6427
        ],
        [
         "Standard",
         "Shipped",
         30406
        ]
       ],
       "datasetInfos": [],
       "dbfsResultPath": null,
       "isJsonSchema": true,
       "metadata": {},
       "overflow": false,
       "plotOptions": {
        "customPlotOptions": {},
        "displayType": "table",
        "pivotAggregation": null,
        "pivotColumns": null,
        "xColumns": null,
        "yColumns": null
       },
       "removedWidgets": [],
       "schema": [
        {
         "metadata": "{}",
         "name": "ship-service-level",
         "type": "\"string\""
        },
        {
         "metadata": "{}",
         "name": "Courier Status",
         "type": "\"string\""
        },
        {
         "metadata": "{}",
         "name": "order_count",
         "type": "\"long\""
        }
       ],
       "type": "table"
      }
     },
     "output_type": "display_data"
    },
    {
     "output_type": "display_data",
     "data": {
      "text/plain": [
       "Databricks visualization. Run in Databricks to view."
      ]
     },
     "metadata": {
      "application/vnd.databricks.v1.subcommand+json": {
       "baseErrorDetails": null,
       "bindings": {},
       "collapsed": false,
       "command": "%sql WITH q AS (select `ship-service-level`,`Courier Status`,count(`Order ID`) as order_count from sales_table\ngroup by `ship-service-level`,`Courier status`\norder by `ship-service-level`,count(`Order ID`)) SELECT `Courier Status`,`ship-service-level`,SUM(`order_count`) `column_a89db1a811` FROM q GROUP BY `Courier Status`,`ship-service-level`",
       "commandTitle": "Visualization 1",
       "commandType": "auto",
       "commandVersion": 0,
       "commentThread": [],
       "commentsVisible": false,
       "contentSha256Hex": null,
       "customPlotOptions": {
        "redashChart": [
         {
          "key": "type",
          "value": "CHART"
         },
         {
          "key": "options",
          "value": {
           "alignYAxesAtZero": true,
           "coefficient": 1,
           "columnConfigurationMap": {
            "series": {
             "column": "ship-service-level",
             "id": "column_a89db1a813"
            },
            "x": {
             "column": "Courier Status",
             "id": "column_a89db1a815"
            },
            "y": [
             {
              "column": "order_count",
              "id": "column_a89db1a811",
              "transform": "SUM"
             }
            ]
           },
           "dateTimeFormat": "DD/MM/YYYY HH:mm",
           "direction": {
            "type": "counterclockwise"
           },
           "error_y": {
            "type": "data",
            "visible": true
           },
           "globalSeriesType": "pie",
           "isAggregationOn": true,
           "legend": {
            "traceorder": "normal"
           },
           "missingValuesAsZero": true,
           "numberFormat": "0,0.[00000]",
           "percentFormat": "0[.]00%",
           "series": {
            "error_y": {
             "type": "data",
             "visible": true
            },
            "stacking": null
           },
           "seriesOptions": {
            "column_a89db1a811": {
             "name": "order_count",
             "type": "pie",
             "yAxis": 0
            }
           },
           "showDataLabels": true,
           "sizemode": "diameter",
           "sortX": true,
           "sortY": true,
           "swappedAxes": false,
           "textFormat": "",
           "useAggregationsUi": true,
           "valuesOptions": {},
           "version": 2,
           "xAxis": {
            "labels": {
             "enabled": true
            },
            "type": "-"
           },
           "yAxis": [
            {
             "type": "-"
            },
            {
             "opposite": true,
             "type": "-"
            }
           ]
          }
         }
        ]
       },
       "datasetPreviewNameToCmdIdMap": {},
       "diffDeletes": [],
       "diffInserts": [],
       "displayType": "redashChart",
       "error": null,
       "errorDetails": null,
       "errorSummary": null,
       "errorTraceType": null,
       "finishTime": 0,
       "globalVars": {},
       "guid": "",
       "height": "auto",
       "hideCommandCode": false,
       "hideCommandResult": false,
       "iPythonMetadata": null,
       "inputWidgets": {},
       "isLockedInExamMode": false,
       "latestUser": "a user",
       "latestUserId": null,
       "listResultMetadata": null,
       "metadata": {
        "byteLimit": 2048000,
        "implicitDf": true,
        "rowLimit": 10000
       },
       "nuid": "4d6f0b59-c555-45bd-b3d7-a907dc271106",
       "origId": 0,
       "parentHierarchy": [],
       "pivotAggregation": null,
       "pivotColumns": null,
       "position": 14.0,
       "resultDbfsErrorMessage": null,
       "resultDbfsStatus": "INLINED_IN_TREE",
       "results": null,
       "showCommandTitle": false,
       "startTime": 0,
       "state": "finished",
       "streamStates": {},
       "subcommandOptions": {
        "queryPlan": {
         "groups": [
          {
           "column": "Courier Status",
           "type": "column"
          },
          {
           "column": "ship-service-level",
           "type": "column"
          }
         ],
         "selects": [
          {
           "column": "Courier Status",
           "type": "column"
          },
          {
           "column": "ship-service-level",
           "type": "column"
          },
          {
           "alias": "column_a89db1a811",
           "args": [
            {
             "column": "order_count",
             "type": "column"
            }
           ],
           "function": "SUM",
           "type": "function"
          }
         ]
        }
       },
       "submitTime": 0,
       "subtype": "tableResultSubCmd.visualization",
       "tableResultIndex": 0,
       "tableResultSettingsMap": null,
       "useConsistentColors": false,
       "version": "CommandV1",
       "width": "auto",
       "workflows": [],
       "xColumns": null,
       "yColumns": null
      }
     },
     "output_type": "display_data"
    }
   ],
   "source": [
    "%sql\n",
    "select `ship-service-level`,`Courier Status`,count(`Order ID`) as order_count from sales_table\n",
    "group by `ship-service-level`,`Courier status`\n",
    "order by `ship-service-level`,count(`Order ID`)"
   ]
  },
  {
   "cell_type": "code",
   "execution_count": 0,
   "metadata": {
    "application/vnd.databricks.v1+cell": {
     "cellMetadata": {
      "byteLimit": 2048000,
      "implicitDf": true,
      "rowLimit": 10000
     },
     "inputWidgets": {},
     "nuid": "62f8d958-0c69-4116-b421-525b07eae786",
     "showTitle": false,
     "title": ""
    }
   },
   "outputs": [
    {
     "output_type": "display_data",
     "data": {
      "text/html": [
       "<style scoped>\n",
       "  .table-result-container {\n",
       "    max-height: 300px;\n",
       "    overflow: auto;\n",
       "  }\n",
       "  table, th, td {\n",
       "    border: 1px solid black;\n",
       "    border-collapse: collapse;\n",
       "  }\n",
       "  th, td {\n",
       "    padding: 5px;\n",
       "  }\n",
       "  th {\n",
       "    text-align: left;\n",
       "  }\n",
       "</style><div class='table-result-container'><table class='table-result'><thead style='background-color: white'><tr><th>ship-service-level</th><th>fulfilment</th><th>total_orders</th><th>total_cancellations</th><th>cancellation_rate</th></tr></thead><tbody><tr><td>Standard</td><td>Merchant</td><td>36364</td><td>6385</td><td>0.17558574414255856</td></tr><tr><td>Expedited</td><td>Amazon</td><td>82906</td><td>5574</td><td>0.06723276964272791</td></tr><tr><td>Standard</td><td>Amazon</td><td>1077</td><td>42</td><td>0.03899721448467967</td></tr></tbody></table></div>"
      ]
     },
     "metadata": {
      "application/vnd.databricks.v1+output": {
       "addedWidgets": {},
       "aggData": [],
       "aggError": "",
       "aggOverflow": false,
       "aggSchema": [],
       "aggSeriesLimitReached": false,
       "aggType": "",
       "arguments": {},
       "columnCustomDisplayInfos": {},
       "data": [
        [
         "Standard",
         "Merchant",
         36364,
         6385,
         0.17558574414255856
        ],
        [
         "Expedited",
         "Amazon",
         82906,
         5574,
         0.06723276964272791
        ],
        [
         "Standard",
         "Amazon",
         1077,
         42,
         0.03899721448467967
        ]
       ],
       "datasetInfos": [],
       "dbfsResultPath": null,
       "isJsonSchema": true,
       "metadata": {},
       "overflow": false,
       "plotOptions": {
        "customPlotOptions": {},
        "displayType": "table",
        "pivotAggregation": null,
        "pivotColumns": null,
        "xColumns": null,
        "yColumns": null
       },
       "removedWidgets": [],
       "schema": [
        {
         "metadata": "{}",
         "name": "ship-service-level",
         "type": "\"string\""
        },
        {
         "metadata": "{}",
         "name": "fulfilment",
         "type": "\"string\""
        },
        {
         "metadata": "{}",
         "name": "total_orders",
         "type": "\"long\""
        },
        {
         "metadata": "{}",
         "name": "total_cancellations",
         "type": "\"long\""
        },
        {
         "metadata": "{}",
         "name": "cancellation_rate",
         "type": "\"double\""
        }
       ],
       "type": "table"
      }
     },
     "output_type": "display_data"
    },
    {
     "output_type": "display_data",
     "data": {
      "text/plain": [
       "Databricks visualization. Run in Databricks to view."
      ]
     },
     "metadata": {
      "application/vnd.databricks.v1.subcommand+json": {
       "baseErrorDetails": null,
       "bindings": {},
       "collapsed": false,
       "command": "%sql WITH q AS (SELECT \n    `ship-service-level`,\n    fulfilment,\n    COUNT(*) AS total_orders,\n    SUM(CASE WHEN `Courier status` = 'Cancelled' THEN 1 ELSE 0 END) AS total_cancellations,\n    SUM(CASE WHEN `Courier status` = 'Cancelled' THEN 1 ELSE 0 END) / COUNT(*) AS cancellation_rate\nFROM sales_table\nGROUP BY `ship-service-level`, fulfilment\nORDER BY cancellation_rate DESC) SELECT `ship-service-level`,`fulfilment`,SUM(`cancellation_rate`) `column_ccb36eeb10` FROM q GROUP BY `fulfilment`,`ship-service-level`",
       "commandTitle": "Visualization 1",
       "commandType": "auto",
       "commandVersion": 0,
       "commentThread": [],
       "commentsVisible": false,
       "contentSha256Hex": null,
       "customPlotOptions": {
        "redashChart": [
         {
          "key": "type",
          "value": "CHART"
         },
         {
          "key": "options",
          "value": {
           "alignYAxesAtZero": true,
           "coefficient": 1,
           "colorScheme": "Bluered",
           "columnConfigurationMap": {
            "x": {
             "column": "ship-service-level",
             "id": "column_ccb36eeb7"
            },
            "y": [
             {
              "column": "fulfilment",
              "id": "column_ccb36eeb8"
             }
            ],
            "zVal": {
             "column": "cancellation_rate",
             "id": "column_ccb36eeb10",
             "transform": "SUM"
            }
           },
           "dateTimeFormat": "DD/MM/YYYY HH:mm",
           "direction": {
            "type": "counterclockwise"
           },
           "error_y": {
            "type": "data",
            "visible": true
           },
           "globalSeriesType": "heatmap",
           "isAggregationOn": true,
           "legend": {
            "title": "Cancellation Rate",
            "traceorder": "normal"
           },
           "missingValuesAsZero": true,
           "numBins": 10,
           "numberFormat": "0,0.[00000]",
           "percentFormat": "0[.]00%",
           "series": {
            "error_y": {
             "type": "data",
             "visible": true
            },
            "stacking": null
           },
           "seriesOptions": {
            "column_ccb36eeb8": {
             "type": "heatmap",
             "yAxis": 0
            }
           },
           "showDataLabels": true,
           "sizemode": "diameter",
           "sortX": true,
           "sortY": true,
           "swappedAxes": false,
           "textFormat": "",
           "useAggregationsUi": true,
           "valuesOptions": {},
           "version": 2,
           "xAxis": {
            "labels": {
             "enabled": true
            },
            "type": "-"
           },
           "yAxis": [
            {
             "type": "-"
            },
            {
             "opposite": true,
             "type": "-"
            }
           ]
          }
         }
        ]
       },
       "datasetPreviewNameToCmdIdMap": {},
       "diffDeletes": [],
       "diffInserts": [],
       "displayType": "redashChart",
       "error": null,
       "errorDetails": null,
       "errorSummary": null,
       "errorTraceType": null,
       "finishTime": 0,
       "globalVars": {},
       "guid": "",
       "height": "auto",
       "hideCommandCode": false,
       "hideCommandResult": false,
       "iPythonMetadata": null,
       "inputWidgets": {},
       "isLockedInExamMode": false,
       "latestUser": "a user",
       "latestUserId": null,
       "listResultMetadata": null,
       "metadata": {
        "byteLimit": 2048000,
        "implicitDf": true,
        "rowLimit": 10000
       },
       "nuid": "b322255a-c9e5-492e-8715-529ff901b62f",
       "origId": 0,
       "parentHierarchy": [],
       "pivotAggregation": null,
       "pivotColumns": null,
       "position": 20.0,
       "resultDbfsErrorMessage": null,
       "resultDbfsStatus": "INLINED_IN_TREE",
       "results": null,
       "showCommandTitle": false,
       "startTime": 0,
       "state": "finished",
       "streamStates": {},
       "subcommandOptions": {
        "queryPlan": {
         "groups": [
          {
           "column": "ship-service-level",
           "type": "column"
          },
          {
           "column": "fulfilment",
           "type": "column"
          }
         ],
         "selects": [
          {
           "column": "ship-service-level",
           "type": "column"
          },
          {
           "column": "fulfilment",
           "type": "column"
          },
          {
           "alias": "column_ccb36eeb10",
           "args": [
            {
             "column": "cancellation_rate",
             "type": "column"
            }
           ],
           "function": "SUM",
           "type": "function"
          }
         ]
        }
       },
       "submitTime": 0,
       "subtype": "tableResultSubCmd.visualization",
       "tableResultIndex": 0,
       "tableResultSettingsMap": null,
       "useConsistentColors": false,
       "version": "CommandV1",
       "width": "auto",
       "workflows": [],
       "xColumns": null,
       "yColumns": null
      }
     },
     "output_type": "display_data"
    }
   ],
   "source": [
    "%sql\n",
    "SELECT \n",
    "    `ship-service-level`,\n",
    "    fulfilment,\n",
    "    COUNT(*) AS total_orders,\n",
    "    SUM(CASE WHEN `Courier status` = 'Cancelled' THEN 1 ELSE 0 END) AS total_cancellations,\n",
    "    SUM(CASE WHEN `Courier status` = 'Cancelled' THEN 1 ELSE 0 END) / COUNT(*) AS cancellation_rate\n",
    "FROM sales_table\n",
    "GROUP BY `ship-service-level`, fulfilment\n",
    "ORDER BY cancellation_rate DESC"
   ]
  },
  {
   "cell_type": "code",
   "execution_count": 0,
   "metadata": {
    "application/vnd.databricks.v1+cell": {
     "cellMetadata": {
      "byteLimit": 2048000,
      "implicitDf": true,
      "rowLimit": 10000
     },
     "inputWidgets": {},
     "nuid": "0fbddd1a-3a31-4ed5-838f-8cb03b5cdaf2",
     "showTitle": false,
     "title": ""
    }
   },
   "outputs": [
    {
     "output_type": "display_data",
     "data": {
      "text/html": [
       "<style scoped>\n",
       "  .table-result-container {\n",
       "    max-height: 300px;\n",
       "    overflow: auto;\n",
       "  }\n",
       "  table, th, td {\n",
       "    border: 1px solid black;\n",
       "    border-collapse: collapse;\n",
       "  }\n",
       "  th, td {\n",
       "    padding: 5px;\n",
       "  }\n",
       "  th {\n",
       "    text-align: left;\n",
       "  }\n",
       "</style><div class='table-result-container'><table class='table-result'><thead style='background-color: white'><tr><th>ship-city</th><th>cancellation_count</th><th>rank</th></tr></thead><tbody><tr><td>BENGALURU</td><td>9678</td><td>1</td></tr><tr><td>HYDERABAD</td><td>6691</td><td>2</td></tr><tr><td>MUMBAI</td><td>5219</td><td>3</td></tr><tr><td>NEW DELHI</td><td>4923</td><td>4</td></tr><tr><td>CHENNAI</td><td>4492</td><td>5</td></tr></tbody></table></div>"
      ]
     },
     "metadata": {
      "application/vnd.databricks.v1+output": {
       "addedWidgets": {},
       "aggData": [],
       "aggError": "",
       "aggOverflow": false,
       "aggSchema": [],
       "aggSeriesLimitReached": false,
       "aggType": "",
       "arguments": {},
       "columnCustomDisplayInfos": {},
       "data": [
        [
         "BENGALURU",
         9678,
         1
        ],
        [
         "HYDERABAD",
         6691,
         2
        ],
        [
         "MUMBAI",
         5219,
         3
        ],
        [
         "NEW DELHI",
         4923,
         4
        ],
        [
         "CHENNAI",
         4492,
         5
        ]
       ],
       "datasetInfos": [],
       "dbfsResultPath": null,
       "isJsonSchema": true,
       "metadata": {},
       "overflow": false,
       "plotOptions": {
        "customPlotOptions": {},
        "displayType": "table",
        "pivotAggregation": null,
        "pivotColumns": null,
        "xColumns": null,
        "yColumns": null
       },
       "removedWidgets": [],
       "schema": [
        {
         "metadata": "{}",
         "name": "ship-city",
         "type": "\"string\""
        },
        {
         "metadata": "{}",
         "name": "cancellation_count",
         "type": "\"long\""
        },
        {
         "metadata": "{}",
         "name": "rank",
         "type": "\"integer\""
        }
       ],
       "type": "table"
      }
     },
     "output_type": "display_data"
    },
    {
     "output_type": "display_data",
     "data": {
      "text/plain": [
       "Databricks visualization. Run in Databricks to view."
      ]
     },
     "metadata": {
      "application/vnd.databricks.v1.subcommand+json": {
       "baseErrorDetails": null,
       "bindings": {},
       "collapsed": false,
       "command": "%sql WITH q AS (select * from (\nselect *,RANK() OVER(order by cancellation_count desc)  as rank from\n(select `ship-city`,count(*) as cancellation_count from sales_table \nwhere `courier status`!=\"Cancelled\"\ngroup by `ship-city`\norder by count(*) desc)\nas _)\nwhere rank<=5) SELECT `ship-city`,SUM(`cancellation_count`) `column_ccb36eeb19`,`ship-city` FROM q GROUP BY `ship-city`",
       "commandTitle": "Visualization 1",
       "commandType": "auto",
       "commandVersion": 0,
       "commentThread": [],
       "commentsVisible": false,
       "contentSha256Hex": null,
       "customPlotOptions": {
        "redashChart": [
         {
          "key": "type",
          "value": "CHART"
         },
         {
          "key": "options",
          "value": {
           "alignYAxesAtZero": true,
           "coefficient": 1,
           "columnConfigurationMap": {
            "series": {
             "column": "ship-city",
             "id": "column_ccb36eeb20"
            },
            "x": {
             "column": "ship-city",
             "id": "column_ccb36eeb22"
            },
            "y": [
             {
              "column": "cancellation_count",
              "id": "column_ccb36eeb19",
              "transform": "SUM"
             }
            ]
           },
           "dateTimeFormat": "DD/MM/YYYY HH:mm",
           "direction": {
            "type": "counterclockwise"
           },
           "error_y": {
            "type": "data",
            "visible": true
           },
           "globalSeriesType": "column",
           "isAggregationOn": true,
           "legend": {
            "enabled": false,
            "traceorder": "normal"
           },
           "missingValuesAsZero": true,
           "numberFormat": "0,0.[00000]",
           "percentFormat": "0[.]00%",
           "series": {
            "error_y": {
             "type": "data",
             "visible": true
            },
            "stacking": null
           },
           "seriesOptions": {
            "column_ccb36eeb19": {
             "name": "rank",
             "type": "column",
             "yAxis": 0
            }
           },
           "showDataLabels": true,
           "sizemode": "diameter",
           "sortX": false,
           "sortY": true,
           "swappedAxes": true,
           "textFormat": "",
           "useAggregationsUi": true,
           "valuesOptions": {},
           "version": 2,
           "xAxis": {
            "labels": {
             "enabled": true
            },
            "type": "-"
           },
           "yAxis": [
            {
             "title": {
              "text": "Cancellation Count"
             },
             "type": "-"
            },
            {
             "opposite": true,
             "type": "-"
            }
           ]
          }
         }
        ]
       },
       "datasetPreviewNameToCmdIdMap": {},
       "diffDeletes": [],
       "diffInserts": [],
       "displayType": "redashChart",
       "error": null,
       "errorDetails": null,
       "errorSummary": null,
       "errorTraceType": null,
       "finishTime": 0,
       "globalVars": {},
       "guid": "",
       "height": "auto",
       "hideCommandCode": false,
       "hideCommandResult": false,
       "iPythonMetadata": null,
       "inputWidgets": {},
       "isLockedInExamMode": false,
       "latestUser": "a user",
       "latestUserId": null,
       "listResultMetadata": null,
       "metadata": {
        "byteLimit": 2048000,
        "implicitDf": true,
        "rowLimit": 10000
       },
       "nuid": "f383215d-4010-46eb-99bf-fd242fbe2b50",
       "origId": 0,
       "parentHierarchy": [],
       "pivotAggregation": null,
       "pivotColumns": null,
       "position": 16.5,
       "resultDbfsErrorMessage": null,
       "resultDbfsStatus": "INLINED_IN_TREE",
       "results": null,
       "showCommandTitle": false,
       "startTime": 0,
       "state": "finished",
       "streamStates": {},
       "subcommandOptions": {
        "queryPlan": {
         "groups": [
          {
           "column": "ship-city",
           "type": "column"
          },
          {
           "column": "ship-city",
           "type": "column"
          }
         ],
         "selects": [
          {
           "column": "ship-city",
           "type": "column"
          },
          {
           "alias": "column_ccb36eeb19",
           "args": [
            {
             "column": "cancellation_count",
             "type": "column"
            }
           ],
           "function": "SUM",
           "type": "function"
          },
          {
           "column": "ship-city",
           "type": "column"
          }
         ]
        }
       },
       "submitTime": 0,
       "subtype": "tableResultSubCmd.visualization",
       "tableResultIndex": 0,
       "tableResultSettingsMap": null,
       "useConsistentColors": false,
       "version": "CommandV1",
       "width": "auto",
       "workflows": [],
       "xColumns": null,
       "yColumns": null
      }
     },
     "output_type": "display_data"
    }
   ],
   "source": [
    "%sql\n",
    "select * from (\n",
    "select *,RANK() OVER(order by cancellation_count desc)  as rank from\n",
    "(select `ship-city`,count(*) as cancellation_count from sales_table \n",
    "where `courier status`!=\"Cancelled\"\n",
    "group by `ship-city`\n",
    "order by count(*) desc)\n",
    "as _)\n",
    "where rank<=5"
   ]
  },
  {
   "cell_type": "markdown",
   "metadata": {
    "application/vnd.databricks.v1+cell": {
     "cellMetadata": {
      "byteLimit": 2048000,
      "rowLimit": 10000
     },
     "inputWidgets": {},
     "nuid": "470e910d-b22e-4b9e-b700-7526c226f564",
     "showTitle": false,
     "title": ""
    }
   },
   "source": [
    "### Categorize Product Category Sales Performance as 'High', 'Medium', or 'Low' Based on Percentiles"
   ]
  },
  {
   "cell_type": "code",
   "execution_count": 0,
   "metadata": {
    "application/vnd.databricks.v1+cell": {
     "cellMetadata": {
      "byteLimit": 2048000,
      "implicitDf": true,
      "rowLimit": 10000
     },
     "inputWidgets": {},
     "nuid": "4e7fe374-7a2a-4042-a561-67f07292b908",
     "showTitle": false,
     "title": ""
    }
   },
   "outputs": [
    {
     "output_type": "display_data",
     "data": {
      "text/html": [
       "<style scoped>\n",
       "  .table-result-container {\n",
       "    max-height: 300px;\n",
       "    overflow: auto;\n",
       "  }\n",
       "  table, th, td {\n",
       "    border: 1px solid black;\n",
       "    border-collapse: collapse;\n",
       "  }\n",
       "  th, td {\n",
       "    padding: 5px;\n",
       "  }\n",
       "  th {\n",
       "    text-align: left;\n",
       "  }\n",
       "</style><div class='table-result-container'><table class='table-result'><thead style='background-color: white'><tr><th>category</th><th>sales_category</th><th>count(sales_category)</th></tr></thead><tbody><tr><td>Ethnic Dress</td><td>Low</td><td>243</td></tr><tr><td>Ethnic Dress</td><td>Medium</td><td>101</td></tr><tr><td>Ethnic Dress</td><td>High</td><td>631</td></tr><tr><td>Set</td><td>Low</td><td>1596</td></tr><tr><td>Set</td><td>Medium</td><td>15633</td></tr><tr><td>Set</td><td>High</td><td>25207</td></tr><tr><td>Top</td><td>Low</td><td>3408</td></tr><tr><td>Top</td><td>Medium</td><td>5155</td></tr><tr><td>Top</td><td>High</td><td>726</td></tr><tr><td>Western Dress</td><td>Low</td><td>360</td></tr><tr><td>Western Dress</td><td>Medium</td><td>5421</td></tr><tr><td>Western Dress</td><td>High</td><td>7376</td></tr><tr><td>kurta</td><td>Low</td><td>29892</td></tr><tr><td>kurta</td><td>Medium</td><td>9265</td></tr><tr><td>kurta</td><td>High</td><td>2032</td></tr></tbody></table></div>"
      ]
     },
     "metadata": {
      "application/vnd.databricks.v1+output": {
       "addedWidgets": {},
       "aggData": [],
       "aggError": "",
       "aggOverflow": false,
       "aggSchema": [],
       "aggSeriesLimitReached": false,
       "aggType": "",
       "arguments": {},
       "columnCustomDisplayInfos": {},
       "data": [
        [
         "Ethnic Dress",
         "Low",
         243
        ],
        [
         "Ethnic Dress",
         "Medium",
         101
        ],
        [
         "Ethnic Dress",
         "High",
         631
        ],
        [
         "Set",
         "Low",
         1596
        ],
        [
         "Set",
         "Medium",
         15633
        ],
        [
         "Set",
         "High",
         25207
        ],
        [
         "Top",
         "Low",
         3408
        ],
        [
         "Top",
         "Medium",
         5155
        ],
        [
         "Top",
         "High",
         726
        ],
        [
         "Western Dress",
         "Low",
         360
        ],
        [
         "Western Dress",
         "Medium",
         5421
        ],
        [
         "Western Dress",
         "High",
         7376
        ],
        [
         "kurta",
         "Low",
         29892
        ],
        [
         "kurta",
         "Medium",
         9265
        ],
        [
         "kurta",
         "High",
         2032
        ]
       ],
       "datasetInfos": [],
       "dbfsResultPath": null,
       "isJsonSchema": true,
       "metadata": {},
       "overflow": false,
       "plotOptions": {
        "customPlotOptions": {},
        "displayType": "table",
        "pivotAggregation": null,
        "pivotColumns": null,
        "xColumns": null,
        "yColumns": null
       },
       "removedWidgets": [],
       "schema": [
        {
         "metadata": "{}",
         "name": "category",
         "type": "\"string\""
        },
        {
         "metadata": "{}",
         "name": "sales_category",
         "type": "\"string\""
        },
        {
         "metadata": "{\"__autoGeneratedAlias\":\"true\"}",
         "name": "count(sales_category)",
         "type": "\"long\""
        }
       ],
       "type": "table"
      }
     },
     "output_type": "display_data"
    },
    {
     "output_type": "display_data",
     "data": {
      "text/plain": [
       "Databricks visualization. Run in Databricks to view."
      ]
     },
     "metadata": {
      "application/vnd.databricks.v1.subcommand+json": {
       "baseErrorDetails": null,
       "bindings": {},
       "collapsed": false,
       "command": "%sql WITH q AS (with sales_category_table as\n(with ntiles as (select category,amount,ntile(3) over(order by amount) as ntile from\nsales_table\nwhere amount!=0)\nselect *, case when ntile=1 then \"Low\"\nwhen ntile=2 then \"Medium\"\nwhen ntile=3 then \"High\"\nend as sales_category\nfrom ntiles)\nselect category,sales_category,count(sales_category) from sales_category_table\nwhere category=\"Set\" OR category=\"Top\" OR category=\"Western Dress\" OR category=\"kurta\" or category=\"Ethnic Dress\"\ngroup by category,sales_category\norder by category) SELECT `category`,SUM(`count(sales_category)`) `column_7796db6f16`,`sales_category` FROM q GROUP BY `category`,`sales_category`",
       "commandTitle": "Visualization 1",
       "commandType": "auto",
       "commandVersion": 0,
       "commentThread": [],
       "commentsVisible": false,
       "contentSha256Hex": null,
       "customPlotOptions": {
        "redashChart": [
         {
          "key": "type",
          "value": "CHART"
         },
         {
          "key": "options",
          "value": {
           "alignYAxesAtZero": true,
           "coefficient": 1,
           "columnConfigurationMap": {
            "series": {
             "column": "sales_category",
             "id": "column_ebf188625"
            },
            "x": {
             "column": "category",
             "id": "column_7796db6f14"
            },
            "y": [
             {
              "column": "count(sales_category)",
              "id": "column_7796db6f16",
              "transform": "SUM"
             }
            ]
           },
           "dateTimeFormat": "DD/MM/YYYY HH:mm",
           "direction": {
            "type": "counterclockwise"
           },
           "error_y": {
            "type": "data",
            "visible": true
           },
           "globalSeriesType": "column",
           "isAggregationOn": true,
           "legend": {
            "traceorder": "normal"
           },
           "missingValuesAsZero": true,
           "numberFormat": "0,0.[00000]",
           "percentFormat": "0[.]00%",
           "series": {
            "error_y": {
             "type": "data",
             "visible": true
            },
            "stacking": null
           },
           "seriesOptions": {
            "column_7796db6f16": {
             "type": "column",
             "yAxis": 0
            }
           },
           "showDataLabels": true,
           "sizemode": "diameter",
           "sortX": true,
           "sortY": true,
           "swappedAxes": false,
           "textFormat": "",
           "useAggregationsUi": true,
           "valuesOptions": {},
           "version": 2,
           "xAxis": {
            "labels": {
             "enabled": true
            },
            "type": "-"
           },
           "yAxis": [
            {
             "type": "-"
            },
            {
             "opposite": true,
             "type": "-"
            }
           ]
          }
         }
        ]
       },
       "datasetPreviewNameToCmdIdMap": {},
       "diffDeletes": [],
       "diffInserts": [],
       "displayType": "redashChart",
       "error": null,
       "errorDetails": null,
       "errorSummary": null,
       "errorTraceType": null,
       "finishTime": 0,
       "globalVars": {},
       "guid": "",
       "height": "auto",
       "hideCommandCode": false,
       "hideCommandResult": false,
       "iPythonMetadata": null,
       "inputWidgets": {},
       "isLockedInExamMode": false,
       "latestUser": "a user",
       "latestUserId": null,
       "listResultMetadata": null,
       "metadata": {
        "byteLimit": 2048000,
        "implicitDf": true,
        "rowLimit": 10000
       },
       "nuid": "d4c44b06-2941-4339-a0ad-9ebc2add9a9b",
       "origId": 0,
       "parentHierarchy": [],
       "pivotAggregation": null,
       "pivotColumns": null,
       "position": 18.0,
       "resultDbfsErrorMessage": null,
       "resultDbfsStatus": "INLINED_IN_TREE",
       "results": null,
       "showCommandTitle": false,
       "startTime": 0,
       "state": "finished",
       "streamStates": {},
       "subcommandOptions": {
        "queryPlan": {
         "groups": [
          {
           "column": "category",
           "type": "column"
          },
          {
           "column": "sales_category",
           "type": "column"
          }
         ],
         "selects": [
          {
           "column": "category",
           "type": "column"
          },
          {
           "alias": "column_7796db6f16",
           "args": [
            {
             "column": "count(sales_category)",
             "type": "column"
            }
           ],
           "function": "SUM",
           "type": "function"
          },
          {
           "column": "sales_category",
           "type": "column"
          }
         ]
        }
       },
       "submitTime": 0,
       "subtype": "tableResultSubCmd.visualization",
       "tableResultIndex": 0,
       "tableResultSettingsMap": null,
       "useConsistentColors": false,
       "version": "CommandV1",
       "width": "auto",
       "workflows": [],
       "xColumns": null,
       "yColumns": null
      }
     },
     "output_type": "display_data"
    }
   ],
   "source": [
    "%sql\n",
    "with sales_category_table as\n",
    "(with ntiles as (select category,amount,ntile(3) over(order by amount) as ntile from\n",
    "sales_table\n",
    "where amount!=0)\n",
    "select *, case when ntile=1 then \"Low\"\n",
    "when ntile=2 then \"Medium\"\n",
    "when ntile=3 then \"High\"\n",
    "end as sales_category\n",
    "from ntiles)\n",
    "select category,sales_category,count(sales_category) from sales_category_table\n",
    "where category=\"Set\" OR category=\"Top\" OR category=\"Western Dress\" OR category=\"kurta\" or category=\"Ethnic Dress\"\n",
    "group by category,sales_category\n",
    "order by category"
   ]
  },
  {
   "cell_type": "markdown",
   "metadata": {
    "application/vnd.databricks.v1+cell": {
     "cellMetadata": {
      "byteLimit": 2048000,
      "rowLimit": 10000
     },
     "inputWidgets": {},
     "nuid": "d07663e5-fa01-46a3-acbb-e054b27aadd4",
     "showTitle": false,
     "title": ""
    }
   },
   "source": [
    "In the Case of Sets Very Few People Go For Cheap Items\n",
    "In case of Kurtas Majority prefer the cheap option\n"
   ]
  },
  {
   "cell_type": "markdown",
   "metadata": {
    "application/vnd.databricks.v1+cell": {
     "cellMetadata": {
      "byteLimit": 2048000,
      "rowLimit": 10000
     },
     "inputWidgets": {},
     "nuid": "4cdabbd9-3ee0-45b1-b5ed-1de0fd9aa6f6",
     "showTitle": false,
     "title": ""
    }
   },
   "source": [
    "### Size vs Category Sales Heatmap"
   ]
  },
  {
   "cell_type": "code",
   "execution_count": 0,
   "metadata": {
    "application/vnd.databricks.v1+cell": {
     "cellMetadata": {
      "byteLimit": 2048000,
      "implicitDf": true,
      "rowLimit": 10000
     },
     "inputWidgets": {},
     "nuid": "83a9450d-d5ab-4025-bebc-31222cbb0e44",
     "showTitle": false,
     "title": ""
    }
   },
   "outputs": [
    {
     "output_type": "display_data",
     "data": {
      "text/html": [
       "<style scoped>\n",
       "  .table-result-container {\n",
       "    max-height: 300px;\n",
       "    overflow: auto;\n",
       "  }\n",
       "  table, th, td {\n",
       "    border: 1px solid black;\n",
       "    border-collapse: collapse;\n",
       "  }\n",
       "  th, td {\n",
       "    padding: 5px;\n",
       "  }\n",
       "  th {\n",
       "    text-align: left;\n",
       "  }\n",
       "</style><div class='table-result-container'><table class='table-result'><thead style='background-color: white'><tr><th>category</th><th>size</th><th>sum(qty)</th></tr></thead><tbody><tr><td>Set</td><td>6XL</td><td>66</td></tr><tr><td>Western Dress</td><td>XL</td><td>2019</td></tr><tr><td>Set</td><td>5XL</td><td>54</td></tr><tr><td>kurta</td><td>3XL</td><td>4656</td></tr><tr><td>Top</td><td>XXL</td><td>1594</td></tr><tr><td>kurta</td><td>6XL</td><td>560</td></tr><tr><td>kurta</td><td>XXL</td><td>6382</td></tr><tr><td>Set</td><td>L</td><td>6972</td></tr><tr><td>Western Dress</td><td>M</td><td>2221</td></tr><tr><td>Set</td><td>XL</td><td>6463</td></tr><tr><td>Set</td><td>XS</td><td>4556</td></tr><tr><td>Set</td><td>3XL</td><td>4886</td></tr><tr><td>kurta</td><td>5XL</td><td>427</td></tr><tr><td>Western Dress</td><td>3XL</td><td>1628</td></tr><tr><td>Set</td><td>XXL</td><td>5245</td></tr><tr><td>Western Dress</td><td>S</td><td>1863</td></tr><tr><td>Western Dress</td><td>L</td><td>2419</td></tr><tr><td>kurta</td><td>L</td><td>7379</td></tr><tr><td>Top</td><td>XL</td><td>1648</td></tr><tr><td>Top</td><td>XS</td><td>818</td></tr><tr><td>Set</td><td>4XL</td><td>40</td></tr><tr><td>Set</td><td>M</td><td>7932</td></tr><tr><td>kurta</td><td>XS</td><td>2508</td></tr><tr><td>Top</td><td>M</td><td>1603</td></tr><tr><td>Set</td><td>S</td><td>6342</td></tr><tr><td>Top</td><td>S</td><td>1075</td></tr><tr><td>kurta</td><td>M</td><td>7154</td></tr><tr><td>kurta</td><td>S</td><td>4764</td></tr><tr><td>kurta</td><td>4XL</td><td>318</td></tr><tr><td>kurta</td><td>XL</td><td>7229</td></tr><tr><td>Western Dress</td><td>XS</td><td>1206</td></tr><tr><td>Top</td><td>3XL</td><td>1038</td></tr><tr><td>Western Dress</td><td>XXL</td><td>1834</td></tr><tr><td>Top</td><td>L</td><td>1543</td></tr></tbody></table></div>"
      ]
     },
     "metadata": {
      "application/vnd.databricks.v1+output": {
       "addedWidgets": {},
       "aggData": [],
       "aggError": "",
       "aggOverflow": false,
       "aggSchema": [],
       "aggSeriesLimitReached": false,
       "aggType": "",
       "arguments": {},
       "columnCustomDisplayInfos": {},
       "data": [
        [
         "Set",
         "6XL",
         66
        ],
        [
         "Western Dress",
         "XL",
         2019
        ],
        [
         "Set",
         "5XL",
         54
        ],
        [
         "kurta",
         "3XL",
         4656
        ],
        [
         "Top",
         "XXL",
         1594
        ],
        [
         "kurta",
         "6XL",
         560
        ],
        [
         "kurta",
         "XXL",
         6382
        ],
        [
         "Set",
         "L",
         6972
        ],
        [
         "Western Dress",
         "M",
         2221
        ],
        [
         "Set",
         "XL",
         6463
        ],
        [
         "Set",
         "XS",
         4556
        ],
        [
         "Set",
         "3XL",
         4886
        ],
        [
         "kurta",
         "5XL",
         427
        ],
        [
         "Western Dress",
         "3XL",
         1628
        ],
        [
         "Set",
         "XXL",
         5245
        ],
        [
         "Western Dress",
         "S",
         1863
        ],
        [
         "Western Dress",
         "L",
         2419
        ],
        [
         "kurta",
         "L",
         7379
        ],
        [
         "Top",
         "XL",
         1648
        ],
        [
         "Top",
         "XS",
         818
        ],
        [
         "Set",
         "4XL",
         40
        ],
        [
         "Set",
         "M",
         7932
        ],
        [
         "kurta",
         "XS",
         2508
        ],
        [
         "Top",
         "M",
         1603
        ],
        [
         "Set",
         "S",
         6342
        ],
        [
         "Top",
         "S",
         1075
        ],
        [
         "kurta",
         "M",
         7154
        ],
        [
         "kurta",
         "S",
         4764
        ],
        [
         "kurta",
         "4XL",
         318
        ],
        [
         "kurta",
         "XL",
         7229
        ],
        [
         "Western Dress",
         "XS",
         1206
        ],
        [
         "Top",
         "3XL",
         1038
        ],
        [
         "Western Dress",
         "XXL",
         1834
        ],
        [
         "Top",
         "L",
         1543
        ]
       ],
       "datasetInfos": [],
       "dbfsResultPath": null,
       "isJsonSchema": true,
       "metadata": {},
       "overflow": false,
       "plotOptions": {
        "customPlotOptions": {},
        "displayType": "table",
        "pivotAggregation": null,
        "pivotColumns": null,
        "xColumns": null,
        "yColumns": null
       },
       "removedWidgets": [],
       "schema": [
        {
         "metadata": "{}",
         "name": "category",
         "type": "\"string\""
        },
        {
         "metadata": "{}",
         "name": "size",
         "type": "\"string\""
        },
        {
         "metadata": "{\"__autoGeneratedAlias\":\"true\"}",
         "name": "sum(qty)",
         "type": "\"long\""
        }
       ],
       "type": "table"
      }
     },
     "output_type": "display_data"
    },
    {
     "output_type": "display_data",
     "data": {
      "text/plain": [
       "Databricks visualization. Run in Databricks to view."
      ]
     },
     "metadata": {
      "application/vnd.databricks.v1.subcommand+json": {
       "baseErrorDetails": null,
       "bindings": {},
       "collapsed": false,
       "command": "%sql WITH q AS (select category,size,sum(qty)\nfrom sales_table\nwhere category=\"Set\" OR category=\"Top\" OR category=\"Western Dress\" OR category=\"kurta\"\ngroup by category,size) SELECT `category`,`size`,SUM(`sum(qty)`) `column_3adc98cc7` FROM q GROUP BY `category`,`size`",
       "commandTitle": "Visualization 1",
       "commandType": "auto",
       "commandVersion": 0,
       "commentThread": [],
       "commentsVisible": false,
       "contentSha256Hex": null,
       "customPlotOptions": {
        "redashChart": [
         {
          "key": "type",
          "value": "CHART"
         },
         {
          "key": "options",
          "value": {
           "alignYAxesAtZero": true,
           "coefficient": 1,
           "colorScheme": "Custom...",
           "columnConfigurationMap": {
            "x": {
             "column": "category",
             "id": "column_3adc98cc1"
            },
            "y": [
             {
              "column": "size",
              "id": "column_3adc98cc5"
             }
            ],
            "zVal": {
             "column": "sum(qty)",
             "id": "column_3adc98cc7",
             "transform": "SUM"
            }
           },
           "dateTimeFormat": "DD/MM/YYYY HH:mm",
           "direction": {
            "type": "counterclockwise"
           },
           "error_y": {
            "type": "data",
            "visible": true
           },
           "globalSeriesType": "heatmap",
           "heatMaxColor": "#17BF51",
           "heatMinColor": "#E92828",
           "isAggregationOn": true,
           "legend": {
            "title": "Total_Amount",
            "traceorder": "normal"
           },
           "missingValuesAsZero": true,
           "numberFormat": "0,0.[00000]",
           "percentFormat": "0[.]00%",
           "series": {
            "error_y": {
             "type": "data",
             "visible": true
            },
            "stacking": null
           },
           "seriesOptions": {
            "column_3adc98cc3": {
             "name": "sum(amount)",
             "type": "heatmap",
             "yAxis": 0
            },
            "column_3adc98cc5": {
             "type": "heatmap",
             "yAxis": 0
            }
           },
           "showDataLabels": true,
           "sizemode": "diameter",
           "sortX": true,
           "sortY": true,
           "swappedAxes": false,
           "textFormat": "",
           "useAggregationsUi": true,
           "valuesOptions": {},
           "version": 2,
           "xAxis": {
            "labels": {
             "enabled": true
            },
            "type": "-"
           },
           "yAxis": [
            {
             "type": "-"
            },
            {
             "opposite": true,
             "type": "-"
            }
           ]
          }
         }
        ]
       },
       "datasetPreviewNameToCmdIdMap": {},
       "diffDeletes": [],
       "diffInserts": [],
       "displayType": "redashChart",
       "error": null,
       "errorDetails": null,
       "errorSummary": null,
       "errorTraceType": null,
       "finishTime": 0,
       "globalVars": {},
       "guid": "",
       "height": "auto",
       "hideCommandCode": false,
       "hideCommandResult": false,
       "iPythonMetadata": null,
       "inputWidgets": {},
       "isLockedInExamMode": false,
       "latestUser": "a user",
       "latestUserId": null,
       "listResultMetadata": null,
       "metadata": {
        "byteLimit": 2048000,
        "implicitDf": true,
        "rowLimit": 10000
       },
       "nuid": "a8cd4def-de68-4e36-9579-2400233a4ba6",
       "origId": 0,
       "parentHierarchy": [],
       "pivotAggregation": null,
       "pivotColumns": null,
       "position": 20.0,
       "resultDbfsErrorMessage": null,
       "resultDbfsStatus": "INLINED_IN_TREE",
       "results": null,
       "showCommandTitle": false,
       "startTime": 0,
       "state": "finished",
       "streamStates": {},
       "subcommandOptions": {
        "queryPlan": {
         "groups": [
          {
           "column": "category",
           "type": "column"
          },
          {
           "column": "size",
           "type": "column"
          }
         ],
         "selects": [
          {
           "column": "category",
           "type": "column"
          },
          {
           "column": "size",
           "type": "column"
          },
          {
           "alias": "column_3adc98cc7",
           "args": [
            {
             "column": "sum(qty)",
             "type": "column"
            }
           ],
           "function": "SUM",
           "type": "function"
          }
         ]
        }
       },
       "submitTime": 0,
       "subtype": "tableResultSubCmd.visualization",
       "tableResultIndex": 0,
       "tableResultSettingsMap": null,
       "useConsistentColors": false,
       "version": "CommandV1",
       "width": "auto",
       "workflows": [],
       "xColumns": null,
       "yColumns": null
      }
     },
     "output_type": "display_data"
    }
   ],
   "source": [
    "%sql\n",
    "select category,size,sum(qty)\n",
    "from sales_table\n",
    "where category=\"Set\" OR category=\"Top\" OR category=\"Western Dress\" OR category=\"kurta\"\n",
    "group by category,size\n"
   ]
  }
 ],
 "metadata": {
  "application/vnd.databricks.v1+notebook": {
   "dashboards": [
    {
     "elements": [
      {
       "dashboardResultIndex": null,
       "elementNUID": "d4c44b06-2941-4339-a0ad-9ebc2add9a9b",
       "elementType": "command",
       "guid": "0de7dc0e-e48b-4182-8102-3e57af1845f5",
       "options": {
        "autoScaleImg": false,
        "scale": 0,
        "showTitle": true,
        "title": "Revenu Category Count",
        "titleAlign": "center"
       },
       "position": {
        "height": 5,
        "width": 6,
        "x": 18,
        "y": 13,
        "z": null
       },
       "resultIndex": null
      },
      {
       "dashboardResultIndex": null,
       "elementNUID": "ca47023f-b611-471b-aa97-b15df7a5b821",
       "elementType": "command",
       "guid": "0fddabe7-965b-43fa-986a-758687211924",
       "options": {
        "autoScaleImg": false,
        "scale": 0,
        "showTitle": true,
        "title": "Total Sales By Category",
        "titleAlign": "center"
       },
       "position": {
        "height": 6,
        "width": 5,
        "x": 0,
        "y": 2,
        "z": null
       },
       "resultIndex": null
      },
      {
       "dashboardResultIndex": null,
       "elementNUID": "f383215d-4010-46eb-99bf-fd242fbe2b50",
       "elementType": "command",
       "guid": "13c264fc-6187-41bb-8f4f-43591faa15c4",
       "options": {
        "autoScaleImg": false,
        "scale": 0,
        "showTitle": true,
        "title": "Top 5 Cancellation City",
        "titleAlign": "center"
       },
       "position": {
        "height": 5,
        "width": 5,
        "x": 0,
        "y": 13,
        "z": null
       },
       "resultIndex": null
      },
      {
       "dashboardResultIndex": null,
       "elementNUID": "776db7bb-00ed-4a91-b957-58555cc3f8a8",
       "elementType": "command",
       "guid": "14b30c09-65d8-4328-a048-515276c29c42",
       "options": {
        "autoScaleImg": false,
        "scale": 0,
        "showTitle": true,
        "title": "Sales By Day Of Week",
        "titleAlign": "center"
       },
       "position": {
        "height": 5,
        "width": 6,
        "x": 6,
        "y": 8,
        "z": null
       },
       "resultIndex": null
      },
      {
       "dashboardResultIndex": null,
       "elementNUID": "a6bd4c1a-dbe5-4fa7-883a-7262609c3659",
       "elementType": "command",
       "guid": "28cb6241-8fe5-4457-88e9-4dfa493b1874",
       "options": {
        "autoScaleImg": false,
        "scale": 0,
        "showTitle": true,
        "title": "Quantity Trend Per Month",
        "titleAlign": "center"
       },
       "position": {
        "height": 5,
        "width": 6,
        "x": 12,
        "y": 8,
        "z": null
       },
       "resultIndex": null
      },
      {
       "dashboardResultIndex": null,
       "elementNUID": "87f0240a-bd41-4837-bd2c-02e19e04323d",
       "elementType": "command",
       "guid": "45f8fc13-a715-4dfa-a358-254c56255190",
       "options": {
        "autoScaleImg": false,
        "scale": 0,
        "showTitle": true,
        "title": "Sales By Day Of Month",
        "titleAlign": "center"
       },
       "position": {
        "height": 5,
        "width": 6,
        "x": 0,
        "y": 8,
        "z": null
       },
       "resultIndex": null
      },
      {
       "dashboardResultIndex": null,
       "elementNUID": "a8cd4def-de68-4e36-9579-2400233a4ba6",
       "elementType": "command",
       "guid": "579efaac-a137-4214-a703-c5236b55d8d7",
       "options": {
        "autoScaleImg": false,
        "scale": 0,
        "showTitle": true,
        "title": "Size And Category Heatmap",
        "titleAlign": "center"
       },
       "position": {
        "height": 5,
        "width": 8,
        "x": 10,
        "y": 13,
        "z": null
       },
       "resultIndex": null
      },
      {
       "dashboardResultIndex": null,
       "elementNUID": "8870d2a8-4cb8-4f82-9863-ef235e1b1b20",
       "elementType": "command",
       "guid": "826026d5-13b1-4aa9-8637-ebe599b766bb",
       "options": {
        "autoScaleImg": false,
        "scale": 0,
        "showTitle": true,
        "title": "Top Sales City",
        "titleAlign": "center"
       },
       "position": {
        "height": 6,
        "width": 4,
        "x": 10,
        "y": 2,
        "z": null
       },
       "resultIndex": null
      },
      {
       "dashboardResultIndex": null,
       "elementNUID": "3ee58577-3f60-4ada-8dbe-555a7aebdfca",
       "elementType": "command",
       "guid": "91187203-428b-4396-bd5e-cb30ea7b0c83",
       "options": {
        "autoScaleImg": false,
        "scale": 0,
        "showTitle": true,
        "title": "Revenu Vs Promotion",
        "titleAlign": "center"
       },
       "position": {
        "height": 6,
        "width": 5,
        "x": 19,
        "y": 2,
        "z": null
       },
       "resultIndex": null
      },
      {
       "dashboardResultIndex": null,
       "elementNUID": "06787aef-c64d-48d8-a24e-40aaecff0c3a",
       "elementType": "command",
       "guid": "9fc50182-ae30-4dfe-8a29-d2d6ceb335a4",
       "options": null,
       "position": {
        "height": 2,
        "width": 9,
        "x": 15,
        "y": 0,
        "z": null
       },
       "resultIndex": null
      },
      {
       "dashboardResultIndex": null,
       "elementNUID": "9fce5dba-8600-4947-9983-00b3f2ebe5d5",
       "elementType": "command",
       "guid": "a345a5ca-05b6-4beb-aa42-67e234e6fd57",
       "options": {
        "autoScaleImg": false,
        "scale": 0,
        "showTitle": true,
        "title": "Top Sales State",
        "titleAlign": "center"
       },
       "position": {
        "height": 6,
        "width": 5,
        "x": 5,
        "y": 2,
        "z": null
       },
       "resultIndex": null
      },
      {
       "dashboardResultIndex": null,
       "elementNUID": "b322255a-c9e5-492e-8715-529ff901b62f",
       "elementType": "command",
       "guid": "a9e93115-3603-4d3e-86d3-2da5dbd1e75b",
       "options": {
        "autoScaleImg": false,
        "scale": 0,
        "showTitle": true,
        "title": "Cancellation Factors",
        "titleAlign": "center"
       },
       "position": {
        "height": 5,
        "width": 5,
        "x": 5,
        "y": 13,
        "z": null
       },
       "resultIndex": null
      },
      {
       "dashboardResultIndex": null,
       "elementNUID": "6b5e4eeb-fd4d-47a7-b0f7-57f990204a3b",
       "elementType": "command",
       "guid": "b21ae9d1-ef80-436f-a129-d8aba72bb007",
       "options": null,
       "position": {
        "height": 2,
        "width": 7,
        "x": 8,
        "y": 0,
        "z": null
       },
       "resultIndex": null
      },
      {
       "dashboardResultIndex": null,
       "elementNUID": "144155ae-0865-484b-b311-ca33e616c485",
       "elementType": "command",
       "guid": "bc4f8f61-d6ce-44c3-b36c-c4552ea180e3",
       "options": null,
       "position": {
        "height": 2,
        "width": 8,
        "x": 0,
        "y": 0,
        "z": null
       },
       "resultIndex": null
      },
      {
       "dashboardResultIndex": null,
       "elementNUID": "cb306678-63bb-4fed-8cf2-e535807fa5f3",
       "elementType": "command",
       "guid": "bf5c8d12-7c17-4d12-82bc-6ed56ca1cf5c",
       "options": {
        "autoScaleImg": false,
        "scale": 0,
        "showTitle": true,
        "title": "Sales Decline Trend",
        "titleAlign": "center"
       },
       "position": {
        "height": 5,
        "width": 6,
        "x": 18,
        "y": 8,
        "z": null
       },
       "resultIndex": null
      },
      {
       "dashboardResultIndex": null,
       "elementNUID": "31055a2b-bfe6-4d92-90c4-fd910192eb93",
       "elementType": "command",
       "guid": "c3dda94d-1830-43c4-b575-68d8268b2de8",
       "options": {
        "autoScaleImg": false,
        "scale": 0,
        "showTitle": true,
        "title": "Bought Price Frequency",
        "titleAlign": "center"
       },
       "position": {
        "height": 6,
        "width": 5,
        "x": 14,
        "y": 2,
        "z": null
       },
       "resultIndex": null
      }
     ],
     "globalVars": {},
     "guid": "",
     "layoutOption": {
      "grid": true,
      "stack": true
     },
     "nuid": "a0563cd1-4ea8-4486-bdf8-523462a3a4e0",
     "origId": 3601284721585423,
     "title": "Amazon Sales Dashboard",
     "version": "DashboardViewV1",
     "width": 1600
    }
   ],
   "environmentMetadata": null,
   "language": "python",
   "notebookMetadata": {
    "mostRecentlyExecutedCommandWithImplicitDF": {
     "commandId": 3601284721585421,
     "dataframes": [
      "_sqldf"
     ]
    },
    "pythonIndentUnit": 4
   },
   "notebookName": "Amazon Data Analysis",
   "widgets": {}
  }
 },
 "nbformat": 4,
 "nbformat_minor": 0
}
