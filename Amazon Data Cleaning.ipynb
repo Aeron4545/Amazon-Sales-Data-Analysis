{
 "cells": [
  {
   "cell_type": "markdown",
   "metadata": {
    "application/vnd.databricks.v1+cell": {
     "cellMetadata": {
      "byteLimit": 2048000,
      "rowLimit": 10000
     },
     "inputWidgets": {},
     "nuid": "3dc29c62-7bbb-4686-846b-dc44a3a90f08",
     "showTitle": false,
     "title": ""
    }
   },
   "source": [
    "#### Reading Data From Cosmos"
   ]
  },
  {
   "cell_type": "code",
   "execution_count": 0,
   "metadata": {
    "application/vnd.databricks.v1+cell": {
     "cellMetadata": {
      "byteLimit": 2048000,
      "rowLimit": 10000
     },
     "inputWidgets": {},
     "nuid": "2b3336a9-c5a6-4783-a650-5b950de28aba",
     "showTitle": false,
     "title": ""
    }
   },
   "outputs": [],
   "source": [
    "from pyspark.sql.functions import *\n",
    "from pyspark.sql.types import *"
   ]
  },
  {
   "cell_type": "code",
   "execution_count": 0,
   "metadata": {
    "application/vnd.databricks.v1+cell": {
     "cellMetadata": {
      "byteLimit": 2048000,
      "rowLimit": 10000
     },
     "inputWidgets": {},
     "nuid": "0f394546-4ab3-4e5f-9b2d-0584145c9064",
     "showTitle": false,
     "title": ""
    }
   },
   "outputs": [
    {
     "output_type": "stream",
     "name": "stdout",
     "output_type": "stream",
     "text": [
      "+------------------+-------------------+--------+------------+----------+-----------------+----+-------------+--------------+-------------------+------+----------------+--------------------+-----+--------------+--------+--------------------+----------+----------+------+---+------+---------+\n|ship-service-level|           Order ID|Category|ship-country|Fulfilment|              SKU|Size|Sales Channel|Courier Status|          ship-city|Amount|ship-postal-code|                  id|  B2B|    ship-state|currency|       promotion-ids|      Date|      ASIN| Style|Qty| index|   Status|\n+------------------+-------------------+--------+------------+----------+-----------------+----+-------------+--------------+-------------------+------+----------------+--------------------+-----+--------------+--------+--------------------+----------+----------+------+---+------+---------+\n|         Expedited|171-7642751-1586737|     Set|          IN|    Amazon|   SET062-KR-SP-S|   S|    Amazon.in|       Shipped|FATEHGANJ PASHCHIMI|   684|          243501|1a26601e-2df9-4e8...|FALSE| UTTAR PRADESH|     INR|IN Core Free Ship...|04-11-2022|B07RRXHL2K|SET062|  1| 31669|  Shipped|\n|         Expedited|408-3113070-0750756|     Set|          IN|    Amazon|   SET324-KR-NP-M|   M|    Amazon.in|       Shipped|             KALYAN|   597|          421306|f2e4df2a-ef9c-4d6...|FALSE|   MAHARASHTRA|     INR|                null|  04-30-22|B09NQ4NM75|SET324|  1|   140|  Shipped|\n|         Expedited|171-8061614-5688327|     Set|          IN|    Amazon|  J0248-KR-DPT-XL|  XL|    Amazon.in|       Shipped|         VIJAYAWADA|   999|          520010|f3b063bc-e496-4aa...|FALSE|ANDHRA PRADESH|     INR|IN Core Free Ship...|  04-30-22|B09RKFS78Y| J0248|  1|   148|  Shipped|\n|         Expedited|406-7779874-9136347|     Set|          IN|    Amazon|   SET398-KR-PP-L|   L|    Amazon.in|       Shipped|         HERBERTPUR|  1115|          248142|2263c071-5308-43c...|FALSE|   UTTARAKHAND|     INR|IN Core Free Ship...|  04-30-22|B09RP8WLNY|SET398|  1|   151|  Shipped|\n|         Expedited|406-9638549-1733961|     Set|          IN|    Amazon|  NW032-ST-CP-XXL| XXL|    Amazon.in|       Shipped|          BENGALURU|   517|          560048|f4ce034e-79b0-4b1...|FALSE|     KARNATAKA|     INR|                null|  04-30-22|B0922SFWK1| NW032|  1|   152|  Shipped|\n|         Expedited|407-8801185-0134713|     Set|          IN|    Amazon|   SET361-KR-NP-S|   S|    Amazon.in|       Shipped|          bangalore|  1126|          560001|1b2a4f35-1b90-450...|FALSE|     KARNATAKA|     INR|IN Core Free Ship...|  04-30-22|B09QJ4J6KJ|SET361|  1|   153|  Shipped|\n|         Expedited|171-4312987-5366767|     Set|          IN|    Amazon|  SET345-KR-NP-XS|  XS|    Amazon.in|       Shipped|        BIHARSHARIF|   666|          803115|7a2b3eb6-1acf-4ef...|FALSE|         BIHAR|     INR|IN Core Free Ship...|  04-30-22|B09KXSVTDB|SET345|  1|   157|  Shipped|\n|         Expedited|403-5189998-9343503|     Set|          IN|    Amazon|    NW013-ST-SR-L|   L|    Amazon.in|       Shipped|          HYDERABAD|   496|          500075|e5c28ea2-a633-4ad...|FALSE|     TELANGANA|     INR|                null|  04-30-22|B0928XJX1F| NW013|  1|   158|  Shipped|\n|         Expedited|171-1476514-5094705|     Set|          IN|    Amazon|   SET337-KR-NP-L|   L|    Amazon.in|       Shipped|             MUMBAI|   874|          400057|e302b656-ceb8-457...|FALSE|   MAHARASHTRA|     INR|IN Core Free Ship...|04-11-2022|B09KXY99M3|SET337|  1| 31732|  Shipped|\n|         Expedited|403-4984515-8861958|     Set|          IN|    Amazon|SET433-KR-NP-XXXL| 3XL|    Amazon.in|       Shipped|            SOLAPUR|   666|          413002|7596678b-5bbd-477...|FALSE|   MAHARASHTRA|     INR|IN Core Free Ship...|04-11-2022|B09TH8T4GM|SET433|  1| 31744|  Shipped|\n|         Expedited|403-8773157-1889146|     Set|          IN|    Amazon|   SET197-KR-NP-L|   L|    Amazon.in|       Shipped|           GURUGRAM|   759|          122001|9606cb86-5a64-445...|FALSE|       HARYANA|     INR|                null|04-11-2022|B08B3YPD63|SET197|  1| 31719|  Shipped|\n|         Expedited|406-3650436-6193954|     Set|          IN|    Amazon|     J0007-SKD-XL|  XL|    Amazon.in|     Cancelled|            KOLKATA|  null|          700034|8205aff3-fbb8-483...|FALSE|   WEST BENGAL|    null|                null|04-11-2022|B0894WR7FV| J0007|  0| 31783|Cancelled|\n|         Expedited|402-9339129-6219537|     Set|          IN|    Amazon|    J0003-SET-XXL| XXL|    Amazon.in|     Unshipped|             MYSURU|   654|          570016|987d4874-d17a-45d...|FALSE|     KARNATAKA|     INR|                null|  04-30-22|B0894XKVH3| J0003|  1|   194|Cancelled|\n|         Expedited|402-5523901-5953907|     Set|          IN|    Amazon|  SET264-KR-NP-XL|  XL|    Amazon.in|     Unshipped|           SILIGURI|   824|          734005|a2a042b0-dab4-4fe...|FALSE|   WEST BENGAL|     INR|                null|  06-21-22|B08YN7XDSG|SET264|  1|100827|Cancelled|\n|         Expedited|171-9478820-6380329|     Set|          IN|    Amazon|  SET396-KR-PP-XL|  XL|    Amazon.in|       Shipped|         THIRUVALAM|   958|          632519|a3b64763-6f42-45f...|FALSE|    TAMIL NADU|     INR|                null|  06-21-22|B09TH6YPPJ|SET396|  1|100828|  Shipped|\n|         Expedited|171-9272845-4797963|     Set|          IN|    Amazon|  SET346-KR-PP-XL|  XL|    Amazon.in|       Shipped|         THIRUVALAM|   751|          632519|2ff7d265-d939-4e9...|FALSE|    TAMIL NADU|     INR|IN Core Free Ship...|  06-21-22|B09RKF7LQJ|SET346|  1|100829|  Shipped|\n|         Expedited|403-5450813-3992301|     Set|          IN|    Amazon|   SET182-KR-DH-S|   S|    Amazon.in|       Shipped|          BENGALURU|   699|          560103|acb5fb4e-5556-43b...|FALSE|     KARNATAKA|     INR|                null|  05-16-22|B085HRGBDN|SET182|  1| 68581|  Shipped|\n|         Expedited|404-3973098-9107502|     Set|          IN|    Amazon| SET398-KR-PP-XXL| XXL|    Amazon.in|       Shipped|        BHANJANAGAR|  1186|          761126|913498ac-bcca-421...|FALSE|        ODISHA|     INR|IN Core Free Ship...|  04-30-22|B09RP8WY5J|SET398|  1|   501|  Shipped|\n|         Expedited|407-7361111-8973957|     Set|          IN|    Amazon|   SET388-KR-NP-S|   S|    Amazon.in|       Shipped|          ALLAHABAD|  1260|          211002|5e1a70fd-f8c8-4d5...|FALSE| UTTAR PRADESH|     INR|IN Core Free Ship...|  04-30-22|B09QJNMFVK|SET388|  1|   519|  Shipped|\n|         Expedited|406-2349830-7633129|     Set|          IN|    Amazon| SET333-KR-DPT-XL|  XL|    Amazon.in|       Shipped|           WARANGAL|   909|          506009|8bd878fa-8375-403...|FALSE|     TELANGANA|     INR|IN Core Free Ship...|  04-30-22|B09RKFZ1KH|SET333|  1|   520|  Shipped|\n+------------------+-------------------+--------+------------+----------+-----------------+----+-------------+--------------+-------------------+------+----------------+--------------------+-----+--------------+--------+--------------------+----------+----------+------+---+------+---------+\nonly showing top 20 rows\n\n"
     ]
    }
   ],
   "source": [
    "df = spark.read.format(\"cosmos.oltp\") \\\n",
    "    .option(\"spark.cosmos.accountEndpoint\",\"XXXXXXXXXXXXXXX\") \\\n",
    "    .option(\"spark.cosmos.accountKey\", \"XXXXXXXXXXXXXXXXXXX\") \\\n",
    "    .option(\"spark.cosmos.database\", \"XXXXXXXXXXXXXXXXXXXXX\") \\\n",
    "    .option(\"spark.cosmos.container\", \"XXXXXXXXXXXXXXXXXXXX\") \\\n",
    "    .load()\n",
    " \n",
    "df.show()\n",
    "\n",
    " "
   ]
  },
  {
   "cell_type": "code",
   "execution_count": 0,
   "metadata": {
    "application/vnd.databricks.v1+cell": {
     "cellMetadata": {
      "byteLimit": 2048000,
      "rowLimit": 10000
     },
     "inputWidgets": {},
     "nuid": "d84f6e7c-476e-4cff-9e69-55f5482266ce",
     "showTitle": false,
     "title": ""
    }
   },
   "outputs": [],
   "source": [
    "df=df.repartition(8)"
   ]
  },
  {
   "cell_type": "code",
   "execution_count": 0,
   "metadata": {
    "application/vnd.databricks.v1+cell": {
     "cellMetadata": {
      "byteLimit": 2048000,
      "rowLimit": 10000
     },
     "inputWidgets": {},
     "nuid": "95f72fc6-b053-4faf-b4ed-e21c499ba76e",
     "showTitle": false,
     "title": ""
    }
   },
   "outputs": [],
   "source": [
    "df=df.cache()"
   ]
  },
  {
   "cell_type": "markdown",
   "metadata": {
    "application/vnd.databricks.v1+cell": {
     "cellMetadata": {
      "byteLimit": 2048000,
      "rowLimit": 10000
     },
     "inputWidgets": {},
     "nuid": "1c126797-d90c-4483-95df-f960d007f025",
     "showTitle": false,
     "title": ""
    }
   },
   "source": [
    "#### Initial Shape Of The Data"
   ]
  },
  {
   "cell_type": "code",
   "execution_count": 0,
   "metadata": {
    "application/vnd.databricks.v1+cell": {
     "cellMetadata": {
      "byteLimit": 2048000,
      "rowLimit": 10000
     },
     "inputWidgets": {},
     "nuid": "66256c37-97ed-4c19-84d6-9754a39fa037",
     "showTitle": false,
     "title": ""
    }
   },
   "outputs": [
    {
     "output_type": "stream",
     "name": "stdout",
     "output_type": "stream",
     "text": [
      "Shape of DataFrame: (128975, 23)\n"
     ]
    }
   ],
   "source": [
    "num_rows = df.count()\n",
    "\n",
    "num_columns = len(df.columns)\n",
    "\n",
    "print(f\"Shape of DataFrame: ({num_rows}, {num_columns})\")"
   ]
  },
  {
   "cell_type": "markdown",
   "metadata": {
    "application/vnd.databricks.v1+cell": {
     "cellMetadata": {
      "byteLimit": 2048000,
      "rowLimit": 10000
     },
     "inputWidgets": {},
     "nuid": "c0f9ab70-4f6f-47e1-af9b-970ac3eeaff2",
     "showTitle": false,
     "title": ""
    }
   },
   "source": [
    "#### Correcting The Schema"
   ]
  },
  {
   "cell_type": "code",
   "execution_count": 0,
   "metadata": {
    "application/vnd.databricks.v1+cell": {
     "cellMetadata": {
      "byteLimit": 2048000,
      "rowLimit": 10000
     },
     "inputWidgets": {},
     "nuid": "8130d8c0-6e5e-4c8d-bb7b-8e6dae5678fc",
     "showTitle": false,
     "title": ""
    }
   },
   "outputs": [
    {
     "output_type": "stream",
     "name": "stdout",
     "output_type": "stream",
     "text": [
      "root\n |-- ship-service-level: string (nullable = true)\n |-- Order ID: string (nullable = true)\n |-- Category: string (nullable = true)\n |-- ship-country: string (nullable = true)\n |-- Fulfilment: string (nullable = true)\n |-- SKU: string (nullable = true)\n |-- Size: string (nullable = true)\n |-- Sales Channel: string (nullable = true)\n |-- Courier Status: string (nullable = true)\n |-- ship-city: string (nullable = true)\n |-- Amount: string (nullable = true)\n |-- ship-postal-code: string (nullable = true)\n |-- id: string (nullable = false)\n |-- B2B: string (nullable = true)\n |-- ship-state: string (nullable = true)\n |-- currency: string (nullable = true)\n |-- promotion-ids: string (nullable = true)\n |-- Date: string (nullable = true)\n |-- ASIN: string (nullable = true)\n |-- Style: string (nullable = true)\n |-- Qty: string (nullable = true)\n |-- index: string (nullable = true)\n |-- Status: string (nullable = true)\n\n"
     ]
    }
   ],
   "source": [
    "df.printSchema()"
   ]
  },
  {
   "cell_type": "code",
   "execution_count": 0,
   "metadata": {
    "application/vnd.databricks.v1+cell": {
     "cellMetadata": {
      "byteLimit": 2048000,
      "rowLimit": 10000
     },
     "inputWidgets": {},
     "nuid": "c74d396e-2771-43e6-a567-703397aee45e",
     "showTitle": false,
     "title": ""
    }
   },
   "outputs": [],
   "source": [
    "schema = StructType([\n",
    "    StructField(\"ship-service-level\", StringType(), True),\n",
    "    StructField(\"Order ID\", StringType(), True),\n",
    "    StructField(\"Category\", StringType(), True),\n",
    "    StructField(\"ship-country\", StringType(), True),\n",
    "    StructField(\"Fulfilment\", StringType(), True),\n",
    "    StructField(\"SKU\", StringType(), True),\n",
    "    StructField(\"Size\", StringType(), True),\n",
    "    StructField(\"Sales Channel\", StringType(), True),\n",
    "    StructField(\"Courier Status\", StringType(), True),\n",
    "    StructField(\"ship-city\", StringType(), True),\n",
    "    StructField(\"Amount\", DoubleType(), True),\n",
    "    StructField(\"ship-postal-code\", StringType(), True),\n",
    "    StructField(\"id\", StringType(), False),\n",
    "    StructField(\"B2B\", StringType(), True),\n",
    "    StructField(\"ship-state\", StringType(), True),\n",
    "    StructField(\"currency\", StringType(), True),\n",
    "    StructField(\"promotion-ids\", StringType(), True),\n",
    "    StructField(\"Date\", StringType(), True),\n",
    "    StructField(\"ASIN\", StringType(), True),\n",
    "    StructField(\"Style\", StringType(), True),\n",
    "    StructField(\"Qty\", IntegerType(), True),\n",
    "    StructField(\"index\", StringType(), True),\n",
    "    StructField(\"Status\", StringType(), True)\n",
    "])\n"
   ]
  },
  {
   "cell_type": "code",
   "execution_count": 0,
   "metadata": {
    "application/vnd.databricks.v1+cell": {
     "cellMetadata": {
      "byteLimit": 2048000,
      "rowLimit": 10000
     },
     "inputWidgets": {},
     "nuid": "50a8df11-fa41-4dc9-b867-022c8d0ab0aa",
     "showTitle": false,
     "title": ""
    }
   },
   "outputs": [],
   "source": [
    "from pyspark.sql.functions import *\n",
    "df_schema_corrected= df.select(\n",
    "    [col(field.name).cast(field.dataType) for field in schema.fields]\n",
    ")"
   ]
  },
  {
   "cell_type": "code",
   "execution_count": 0,
   "metadata": {
    "application/vnd.databricks.v1+cell": {
     "cellMetadata": {
      "byteLimit": 2048000,
      "rowLimit": 10000
     },
     "inputWidgets": {},
     "nuid": "1e82b812-2dbb-4134-9bd6-7f74cb476577",
     "showTitle": false,
     "title": ""
    }
   },
   "outputs": [
    {
     "output_type": "stream",
     "name": "stdout",
     "output_type": "stream",
     "text": [
      "+----------+\n|      Date|\n+----------+\n|  06-27-22|\n|06-04-2022|\n|04-10-2022|\n|  04-17-22|\n|  06-13-22|\n|  06-16-22|\n|04-07-2022|\n|  03-31-22|\n|  05-16-22|\n|04-11-2022|\n|06-08-2022|\n|  06-29-22|\n|  04-25-22|\n|  04-18-22|\n|  04-13-22|\n|  05-29-22|\n|  05-23-22|\n|04-12-2022|\n|  05-15-22|\n|05-07-2022|\n+----------+\nonly showing top 20 rows\n\n"
     ]
    }
   ],
   "source": [
    "df_schema_corrected.select(\"Date\").distinct().show()"
   ]
  },
  {
   "cell_type": "code",
   "execution_count": 0,
   "metadata": {
    "application/vnd.databricks.v1+cell": {
     "cellMetadata": {
      "byteLimit": 2048000,
      "rowLimit": 10000
     },
     "inputWidgets": {},
     "nuid": "18bcee94-7829-4bb5-ad63-3cd8aeacd37a",
     "showTitle": false,
     "title": ""
    }
   },
   "outputs": [
    {
     "output_type": "stream",
     "name": "stdout",
     "output_type": "stream",
     "text": [
      "+------------------+-------------------+--------+------------+----------+-----------------+----+-------------+--------------+------------------+-------+----------------+--------------------+-----+-------------+--------+--------------------+----------+----------+------+---+------+--------------------+\n|ship-service-level|           Order ID|Category|ship-country|Fulfilment|              SKU|Size|Sales Channel|Courier Status|         ship-city| Amount|ship-postal-code|                  id|  B2B|   ship-state|currency|       promotion-ids|      Date|      ASIN| Style|Qty| index|              Status|\n+------------------+-------------------+--------+------------+----------+-----------------+----+-------------+--------------+------------------+-------+----------------+--------------------+-----+-------------+--------+--------------------+----------+----------+------+---+------+--------------------+\n|         Expedited|403-1727324-3527525|     Set|          IN|    Amazon|SET347-KR-NP-XXXL| 3XL|    Amazon.in|     Unshipped|         NEW DELHI|  801.0|          110095|6fa41254-507b-4c8...|FALSE|        DELHI|     INR|                null|2022-04-29|B09RKF5R8S|SET347|  1|  1870|           Cancelled|\n|         Expedited|403-1143094-3725128|     Set|          IN|    Amazon|   SET330-KR-PP-S|   S|    Amazon.in|       Shipped|            KARKAL|  560.0|          574110|8af30e8f-f3b0-47d...|FALSE|    KARNATAKA|     INR|IN Core Free Ship...|2022-06-08|B09SDXT7CF|SET330|  1|118616|             Shipped|\n|         Expedited|406-9688383-0480309|     Set|          IN|    Amazon|      J0230-SKD-M|   M|    Amazon.in|       Shipped|             KHERI| 1112.0|          262724|f845797a-f51c-46c...|FALSE|UTTAR PRADESH|     INR|IN Core Free Ship...|2022-04-08|B08XNJG8B1| J0230|  1| 37313|             Shipped|\n|          Standard|403-7336125-3400315|     Set|          IN|  Merchant| SET349-KR-NP-XXL| XXL|    Amazon.in|          null|         BENGALURU| 894.29|          560046|91ee659c-e57e-404...|FALSE|    KARNATAKA|     INR|                null|2022-04-13|B09QJ4BFQQ|SET349|  0| 28352|           Cancelled|\n|         Expedited|402-3424422-0338716|     Set|          IN|    Amazon|    NW020-ST-SR-S|   S|    Amazon.in|       Shipped|         BENGALURU|  525.0|          560093|5a6bebd6-1322-445...|FALSE|    KARNATAKA|     INR|                null|2022-04-09|B099NQ7996| NW020|  1| 35555|             Shipped|\n|         Expedited|404-9628356-8633914|     Set|          IN|    Amazon|   SET329-KR-NP-M|   M|    Amazon.in|       Shipped|            MYSURU|  666.0|          570004|d16b2f98-de7a-4f0...|FALSE|    KARNATAKA|     INR|IN Core Free Ship...|2022-06-14|B09K3BNDTT|SET329|  1|109169|             Shipped|\n|         Expedited|405-1207465-9126762|     Set|          IN|    Amazon|      J0003-SET-S|   S|    Amazon.in|       Shipped|             THANE|  664.0|          401107|0022ad7f-e8cf-4fc...|FALSE|  MAHARASHTRA|     INR|                null|2022-05-07|B0894X27FC| J0003|  1| 79268|             Shipped|\n|         Expedited|171-4314328-9749924|     Set|          IN|    Amazon|SET187-KR-DH-XXXL| 3XL|    Amazon.in|       Shipped|     Mala,Thrissur|  671.0|          680732|cef19dd1-c7e1-483...|FALSE|       KERALA|     INR|IN Core Free Ship...|2022-06-14|B08B3XRFYH|SET187|  1|109845|             Shipped|\n|         Expedited|408-8303216-6643516|     Set|          IN|    Amazon|   SET339-KR-NP-L|   L|    Amazon.in|       Shipped|THIRUVANANTHAPURAM|  736.0|          695026|15cf89c2-0639-48e...|FALSE|       KERALA|     INR|IN Core Free Ship...|2022-05-29|B09RT3BBJZ|SET339|  1| 51646|             Shipped|\n|          Standard|408-8339814-7333140|     Set|          IN|  Merchant|SET388-KR-NP-XXXL| 3XL|    Amazon.in|       Shipped|          GURUGRAM| 1299.0|          122016|de13618d-2b11-469...|FALSE|      HARYANA|     INR|Amazon PLCC Free-...|2022-04-06|B09QJMF9YB|SET388|  1| 39778|Shipped - Deliver...|\n|         Expedited|406-8204563-1703554|     Set|          IN|    Amazon|   SET324-KR-NP-L|   L|    Amazon.in|       Shipped|            MAHOBA|  597.0|          210427|0607797d-0f00-473...|FALSE|UTTAR PRADESH|     INR|IN Core Free Ship...|2022-04-16|B09NQ44RNV|SET324|  1| 23293|             Shipped|\n|          Standard|408-2827632-4512326|     Set|          IN|  Merchant|SET377-KR-NP-XXXL| 3XL|    Amazon.in|          null|        HOSHIARPUR|1105.36|          146001|7dd3754a-b144-453...|FALSE|       PUNJAB|     INR|                null|2022-04-06|B09TZVY27D|SET377|  0| 39676|           Cancelled|\n|         Expedited|408-8629357-5822750|     Set|          IN|    Amazon|      J0349-SET-S|   S|    Amazon.in|       Shipped|             NOIDA|  845.0|          201301|cb331068-88d0-4f2...|FALSE|UTTAR PRADESH|     INR|                null|2022-06-20|B099NJ4XRB| J0349|  1|102301|             Shipped|\n|          Standard|171-8201867-5112358|     Set|          IN|  Merchant|   NW030-TP-PJ-XL|  XL|    Amazon.in|       Shipped|      BIDHAN NAGAR|  582.0|          700106|4ca278ae-b061-4c0...|FALSE|  WEST BENGAL|     INR|Amazon PLCC Free-...|2022-05-13|B09G2STB6H| NW030|  1| 71376|Shipped - Deliver...|\n|          Standard|408-6343949-3124305|     Set|          IN|    Amazon|   SET393-KR-NP-S|   S|    Amazon.in|       Shipped|          CHOWWARA|    0.0|          683574|9f545ee8-9f7b-40e...|FALSE|       KERALA|     INR|                null|2022-04-21|B09QJ5LYDH|SET393|  1| 15787|             Shipped|\n|         Expedited|403-4984515-8861958|     Set|          IN|    Amazon|SET433-KR-NP-XXXL| 3XL|    Amazon.in|       Shipped|           SOLAPUR|  666.0|          413002|7596678b-5bbd-477...|FALSE|  MAHARASHTRA|     INR|IN Core Free Ship...|2022-04-11|B09TH8T4GM|SET433|  1| 31744|             Shipped|\n|          Standard|402-8869223-8521944|     Set|          IN|  Merchant|   SET358-KR-NP-M|   M|    Amazon.in|       Shipped|            JAIPUR| 1477.0|          302021|ce409cc2-656a-476...|FALSE|    RAJASTHAN|     INR|Amazon PLCC Free-...|2022-06-13|B09QJLY37M|SET358|  1|110554|Shipped - Deliver...|\n|         Expedited|402-0252320-2103500|     Set|          IN|    Amazon|  SET111-KR-SP-XL|  XL|    Amazon.in|       Shipped|            MUMBAI|  625.0|          400059|d97e1667-527a-4ea...|FALSE|  MAHARASHTRA|     INR|                null|2022-06-17|B07WZFTBMZ|SET111|  1|105099|             Shipped|\n|         Expedited|407-1674490-6493902|     Set|          IN|    Amazon|    J0376-SKD-XXL| XXL|    Amazon.in|       Shipped|          Warangal|  969.0|          506349|558834bf-f2a0-407...|FALSE|    TELANGANA|     INR|IN Core Free Ship...|2022-05-04|B09QJ549GK| J0376|  1| 83316|             Shipped|\n|          Standard|402-5297818-3665137|     Set|          IN|  Merchant|   SET398-KR-PP-S|   S|    Amazon.in|       Shipped|           CHENNAI| 1115.0|          600078|0db5fbe9-b575-415...|FALSE|   TAMIL NADU|     INR|Amazon PLCC Free-...|2022-04-12|B09RP8VTX6|SET398|  1| 30083|Shipped - Deliver...|\n+------------------+-------------------+--------+------------+----------+-----------------+----+-------------+--------------+------------------+-------+----------------+--------------------+-----+-------------+--------+--------------------+----------+----------+------+---+------+--------------------+\nonly showing top 20 rows\n\n"
     ]
    }
   ],
   "source": [
    "from pyspark.sql.functions import col, when, regexp_replace\n",
    "\n",
    "df_schema_corrected = df_schema_corrected.withColumn(\n",
    "    \"Date\",\n",
    "    when(\n",
    "        col(\"Date\").endswith(\"-22\"),\n",
    "        regexp_replace(col(\"Date\"), r\"-(\\d{2})$\", \"-20$1\")\n",
    "    ).otherwise(col(\"Date\")) \n",
    ")\n",
    "\n",
    "df_schema_corrected=df_schema_corrected.withColumn(\"Date\",to_date(col(\"Date\"),\"MM-dd-yyyy\"))\n",
    "df_schema_corrected.show()\n",
    "df_schema_corrected=df_schema_corrected.cache()\n"
   ]
  },
  {
   "cell_type": "code",
   "execution_count": 0,
   "metadata": {
    "application/vnd.databricks.v1+cell": {
     "cellMetadata": {
      "byteLimit": 2048000,
      "rowLimit": 10000
     },
     "inputWidgets": {},
     "nuid": "dff55cc6-bd4e-4959-ab13-a2e5a1932a19",
     "showTitle": false,
     "title": ""
    }
   },
   "outputs": [
    {
     "output_type": "stream",
     "name": "stdout",
     "output_type": "stream",
     "text": [
      "Out[11]: DataFrame[Date: date]"
     ]
    }
   ],
   "source": [
    "df_schema_corrected.select(\"Date\").distinct()"
   ]
  },
  {
   "cell_type": "code",
   "execution_count": 0,
   "metadata": {
    "application/vnd.databricks.v1+cell": {
     "cellMetadata": {
      "byteLimit": 2048000,
      "rowLimit": 10000
     },
     "inputWidgets": {},
     "nuid": "6b247918-2e8e-4af8-82a7-ef6597331069",
     "showTitle": false,
     "title": ""
    }
   },
   "outputs": [
    {
     "output_type": "stream",
     "name": "stdout",
     "output_type": "stream",
     "text": [
      "+-------------------+-----+\n|           Order ID|count|\n+-------------------+-----+\n|403-9586636-7831531|    2|\n|406-5927721-0109124|    3|\n|171-4462103-4906759|    2|\n|404-2890351-6625116|    2|\n|403-4187845-4493168|    2|\n|405-0812081-2267512|    2|\n|405-3051208-4542752|    2|\n|406-6127261-4444325|    2|\n|408-6276355-3968334|    4|\n|404-9932919-6662730|   11|\n|403-7016534-4621954|    2|\n|408-3292144-2149913|    3|\n|408-9688958-6934717|    3|\n|403-1738971-1389151|    2|\n|404-9752786-9818712|    2|\n|403-4591468-8381960|    2|\n|403-1650373-8655510|    3|\n|405-0367818-5396307|    2|\n|402-8538611-0499536|    2|\n|402-1073069-3489901|    2|\n+-------------------+-----+\nonly showing top 20 rows\n\n"
     ]
    }
   ],
   "source": [
    "duplicates = (\n",
    "    df_schema_corrected.groupBy(\"Order ID\")\n",
    "    .count()\n",
    "    .filter(col(\"count\") > 1)\n",
    ")\n",
    "\n",
    "duplicates.show()"
   ]
  },
  {
   "cell_type": "code",
   "execution_count": 0,
   "metadata": {
    "application/vnd.databricks.v1+cell": {
     "cellMetadata": {
      "byteLimit": 2048000,
      "rowLimit": 10000
     },
     "inputWidgets": {},
     "nuid": "4c09ce3d-2650-4d3a-983f-143013b234b9",
     "showTitle": false,
     "title": ""
    }
   },
   "outputs": [],
   "source": [
    "df_duplicates_removed = df_schema_corrected.dropDuplicates([\n",
    "'Order ID'])"
   ]
  },
  {
   "cell_type": "code",
   "execution_count": 0,
   "metadata": {
    "application/vnd.databricks.v1+cell": {
     "cellMetadata": {
      "byteLimit": 2048000,
      "rowLimit": 10000
     },
     "inputWidgets": {},
     "nuid": "df84ede5-783a-4fdc-9c6e-00adffeae40d",
     "showTitle": false,
     "title": ""
    }
   },
   "outputs": [
    {
     "output_type": "stream",
     "name": "stdout",
     "output_type": "stream",
     "text": [
      "+--------+-----+\n|Order ID|count|\n+--------+-----+\n+--------+-----+\n\n"
     ]
    }
   ],
   "source": [
    "duplicates1 = (\n",
    "    df_duplicates_removed.groupBy(\"Order ID\")\n",
    "    .count()\n",
    "    .filter(col(\"count\") > 1)\n",
    ")\n",
    "\n",
    "duplicates1.show()"
   ]
  },
  {
   "cell_type": "markdown",
   "metadata": {
    "application/vnd.databricks.v1+cell": {
     "cellMetadata": {
      "byteLimit": 2048000,
      "rowLimit": 10000
     },
     "inputWidgets": {},
     "nuid": "53fa7f89-88b5-45fe-b8cb-1b3a757698d5",
     "showTitle": false,
     "title": ""
    }
   },
   "source": [
    "#### DROPPING IRRELEVANT COLUMNS"
   ]
  },
  {
   "cell_type": "code",
   "execution_count": 0,
   "metadata": {
    "application/vnd.databricks.v1+cell": {
     "cellMetadata": {
      "byteLimit": 2048000,
      "rowLimit": 10000
     },
     "inputWidgets": {},
     "nuid": "9487289d-7488-4f10-bc53-f53528cc530c",
     "showTitle": false,
     "title": ""
    }
   },
   "outputs": [
    {
     "output_type": "stream",
     "name": "stdout",
     "output_type": "stream",
     "text": [
      "Out[15]: ['ship-service-level',\n 'Order ID',\n 'Category',\n 'ship-country',\n 'Fulfilment',\n 'SKU',\n 'Size',\n 'Sales Channel',\n 'Courier Status',\n 'ship-city',\n 'Amount',\n 'ship-postal-code',\n 'B2B',\n 'ship-state',\n 'currency',\n 'promotion-ids',\n 'Date',\n 'ASIN',\n 'Style',\n 'Qty',\n 'Status']"
     ]
    }
   ],
   "source": [
    "df_cleaned= df_duplicates_removed.drop(\"id\", \"index\")\n",
    "df_cleaned.columns"
   ]
  },
  {
   "cell_type": "code",
   "execution_count": 0,
   "metadata": {
    "application/vnd.databricks.v1+cell": {
     "cellMetadata": {
      "byteLimit": 2048000,
      "rowLimit": 10000
     },
     "inputWidgets": {},
     "nuid": "90efd76c-c5be-47d6-ae80-04202790a76a",
     "showTitle": false,
     "title": ""
    }
   },
   "outputs": [
    {
     "output_type": "stream",
     "name": "stdout",
     "output_type": "stream",
     "text": [
      "Out[16]: 21"
     ]
    }
   ],
   "source": [
    "len(df_cleaned.columns)"
   ]
  },
  {
   "cell_type": "markdown",
   "metadata": {
    "application/vnd.databricks.v1+cell": {
     "cellMetadata": {
      "byteLimit": 2048000,
      "rowLimit": 10000
     },
     "inputWidgets": {},
     "nuid": "04282383-f939-4875-9dd8-1b6ef796d1c7",
     "showTitle": false,
     "title": ""
    }
   },
   "source": [
    "#### Checking For Null Values And Processing The Same"
   ]
  },
  {
   "cell_type": "code",
   "execution_count": 0,
   "metadata": {
    "application/vnd.databricks.v1+cell": {
     "cellMetadata": {
      "byteLimit": 2048000,
      "rowLimit": 10000
     },
     "inputWidgets": {},
     "nuid": "df3562dc-e979-4e47-bba8-0d192f734fbe",
     "showTitle": false,
     "title": ""
    }
   },
   "outputs": [
    {
     "output_type": "stream",
     "name": "stdout",
     "output_type": "stream",
     "text": [
      "+------------------+--------+--------+------------+----------+---+----+-------------+--------------+---------+------+----------------+---+----------+--------+-------------+----+----+-----+---+------+\n|ship-service-level|Order ID|Category|ship-country|Fulfilment|SKU|Size|Sales Channel|Courier Status|ship-city|Amount|ship-postal-code|B2B|ship-state|currency|promotion-ids|Date|ASIN|Style|Qty|Status|\n+------------------+--------+--------+------------+----------+---+----+-------------+--------------+---------+------+----------------+---+----------+--------+-------------+----+----+-----+---+------+\n|                 0|       0|       0|          28|         0|  0|   0|            0|          6387|       28|  7395|              28|  0|        28|    7395|        46927|   0|   0|    0|  0|     0|\n+------------------+--------+--------+------------+----------+---+----+-------------+--------------+---------+------+----------------+---+----------+--------+-------------+----+----+-----+---+------+\n\n"
     ]
    }
   ],
   "source": [
    "null_counts = df_cleaned.select([count(when(col(c).isNull(), c)).alias(c) for c in df_cleaned.columns])\n",
    "\n",
    "null_counts.show()"
   ]
  },
  {
   "cell_type": "code",
   "execution_count": 0,
   "metadata": {
    "application/vnd.databricks.v1+cell": {
     "cellMetadata": {
      "byteLimit": 2048000,
      "rowLimit": 10000
     },
     "inputWidgets": {},
     "nuid": "90ee7df7-8e95-4846-ba9c-65316a9f6389",
     "showTitle": false,
     "title": ""
    }
   },
   "outputs": [
    {
     "output_type": "stream",
     "name": "stdout",
     "output_type": "stream",
     "text": [
      "Column: ship-country, Null Count: 28\nColumn: Courier Status, Null Count: 6387\nColumn: ship-city, Null Count: 28\nColumn: Amount, Null Count: 7395\nColumn: ship-postal-code, Null Count: 28\nColumn: ship-state, Null Count: 28\nColumn: currency, Null Count: 7395\nColumn: promotion-ids, Null Count: 46927\n"
     ]
    }
   ],
   "source": [
    "null_counts_list = null_counts.collect()[0].asDict()\n",
    "\n",
    "filtered_null_counts = {k: v for k, v in null_counts_list.items() if v > 0}\n",
    "\n",
    "for column, count in filtered_null_counts.items():\n",
    "    print(f\"Column: {column}, Null Count: {count}\")"
   ]
  },
  {
   "cell_type": "code",
   "execution_count": 0,
   "metadata": {
    "application/vnd.databricks.v1+cell": {
     "cellMetadata": {
      "byteLimit": 2048000,
      "rowLimit": 10000
     },
     "inputWidgets": {},
     "nuid": "db13abf1-5b64-4e9f-adba-bedc51370e7c",
     "showTitle": false,
     "title": ""
    }
   },
   "outputs": [
    {
     "output_type": "stream",
     "name": "stdout",
     "output_type": "stream",
     "text": [
      "Out[19]: DataFrame[ship-service-level: string, Order ID: string, Category: string, ship-country: string, Fulfilment: string, SKU: string, Size: string, Sales Channel: string, Courier Status: string, ship-city: string, Amount: double, ship-postal-code: string, B2B: string, ship-state: string, currency: string, promotion-ids: string, Date: date, ASIN: string, Style: string, Qty: int, Status: string]"
     ]
    }
   ],
   "source": [
    "df_cleaned.cache()"
   ]
  },
  {
   "cell_type": "markdown",
   "metadata": {
    "application/vnd.databricks.v1+cell": {
     "cellMetadata": {
      "byteLimit": 2048000,
      "rowLimit": 10000
     },
     "inputWidgets": {},
     "nuid": "de0d3f73-b4bf-468b-9a99-94a4604ed249",
     "showTitle": false,
     "title": ""
    }
   },
   "source": [
    "#### Filling Null Vales In Currency By INR"
   ]
  },
  {
   "cell_type": "code",
   "execution_count": 0,
   "metadata": {
    "application/vnd.databricks.v1+cell": {
     "cellMetadata": {
      "byteLimit": 2048000,
      "rowLimit": 10000
     },
     "inputWidgets": {},
     "nuid": "991ed786-0e74-456e-8b8e-4dcd62b54011",
     "showTitle": false,
     "title": ""
    }
   },
   "outputs": [
    {
     "output_type": "stream",
     "name": "stdout",
     "output_type": "stream",
     "text": [
      "Out[20]: DataFrame[currency: string]"
     ]
    }
   ],
   "source": [
    "df_cleaned.select(\"currency\").distinct()"
   ]
  },
  {
   "cell_type": "code",
   "execution_count": 0,
   "metadata": {
    "application/vnd.databricks.v1+cell": {
     "cellMetadata": {
      "byteLimit": 2048000,
      "rowLimit": 10000
     },
     "inputWidgets": {},
     "nuid": "6ed539a7-2543-42ed-8f85-01346d7e7d42",
     "showTitle": false,
     "title": ""
    }
   },
   "outputs": [],
   "source": [
    "from pyspark.sql import functions as F\n",
    "\n",
    "mode_value = df_cleaned.groupBy(\"currency\").count().orderBy(F.desc(\"count\")).first()[0]\n",
    "\n",
    "df_cleaned = df_cleaned.na.fill({\"currency\": mode_value})"
   ]
  },
  {
   "cell_type": "markdown",
   "metadata": {
    "application/vnd.databricks.v1+cell": {
     "cellMetadata": {
      "byteLimit": 2048000,
      "rowLimit": 10000
     },
     "inputWidgets": {},
     "nuid": "e2fc10e1-59e7-47ee-991e-fbd89dd24c71",
     "showTitle": false,
     "title": ""
    }
   },
   "source": [
    "#### Converting Promotions To Yes And No"
   ]
  },
  {
   "cell_type": "code",
   "execution_count": 0,
   "metadata": {
    "application/vnd.databricks.v1+cell": {
     "cellMetadata": {
      "byteLimit": 2048000,
      "rowLimit": 10000
     },
     "inputWidgets": {},
     "nuid": "010ecb20-ed85-418b-a935-1ed6568d3f31",
     "showTitle": false,
     "title": ""
    }
   },
   "outputs": [],
   "source": [
    "df_cleaned = df_cleaned.withColumnRenamed('promotion-ids', 'promotion_applied') \\\n",
    "                       .withColumn('promotion_applied',\n",
    "                                   when(col('promotion_applied').isNull(), 'No')\n",
    "                                   .otherwise('Yes'))"
   ]
  },
  {
   "cell_type": "code",
   "execution_count": 0,
   "metadata": {
    "application/vnd.databricks.v1+cell": {
     "cellMetadata": {
      "byteLimit": 2048000,
      "rowLimit": 10000
     },
     "inputWidgets": {},
     "nuid": "e852860a-e09f-4cdc-ba32-125fcc4666c1",
     "showTitle": false,
     "title": ""
    }
   },
   "outputs": [
    {
     "output_type": "stream",
     "name": "stdout",
     "output_type": "stream",
     "text": [
      "+------------------+-------------------+-------------+------------+----------+--------------------+----+-------------+--------------+--------------+------+----------------+-----+--------------+--------+-----------------+----------+----------+-------+---+--------------------+\n|ship-service-level|           Order ID|     Category|ship-country|Fulfilment|                 SKU|Size|Sales Channel|Courier Status|     ship-city|Amount|ship-postal-code|  B2B|    ship-state|currency|promotion_applied|      Date|      ASIN|  Style|Qty|              Status|\n+------------------+-------------------+-------------+------------+----------+--------------------+----+-------------+--------------+--------------+------+----------------+-----+--------------+--------+-----------------+----------+----------+-------+---+--------------------+\n|          Standard|171-0115096-8779555|        kurta|          IN|  Merchant|        JNE3764-KR-M|   M|    Amazon.in|          null|       LUCKNOW|463.81|          227202|FALSE| UTTAR PRADESH|     INR|               No|2022-04-23|B09K3TM23C|JNE3764|  0|           Cancelled|\n|          Standard|171-0157225-5497910|          Set|          IN|  Merchant|      SET319-KR-NP-S|   S|    Amazon.in|       Shipped|         Noida| 852.0|          201304|FALSE| UTTAR PRADESH|     INR|              Yes|2022-06-12|B09KXV4TTM| SET319|  1|Shipped - Returne...|\n|         Expedited|171-0305106-2384363|        kurta|          IN|    Amazon|  JNE2270-KR-487-A-S|   S|    Amazon.in|       Shipped|PATHANAMTHITTA| 518.0|          689501|FALSE|        KERALA|     INR|              Yes|2022-04-12|B07H7DGF1T|JNE2270|  1|             Shipped|\n|         Expedited|171-0312962-8912354|          Set|          IN|    Amazon|      SET110-KR-PP-M|   M|    Amazon.in|       Shipped|      GURUGRAM| 788.0|          122004|FALSE|       HARYANA|     INR|               No|2022-04-23|B0822TDMYH| SET110|  1|             Shipped|\n|         Expedited|171-0319897-7275578|Western Dress|          IN|    Amazon|          J0341-DR-M|   M|    Amazon.in|       Shipped|     NEW DELHI| 744.0|          110084|FALSE|         DELHI|     INR|              Yes|2022-04-20|B099NQQ79L|  J0341|  1|             Shipped|\n|         Expedited|171-0353582-6434725|Western Dress|          IN|    Amazon|     JNE3706-DR-XXXL| 3XL|    Amazon.in|       Shipped|     ANANTAPUR| 399.0|          515001|FALSE|ANDHRA PRADESH|     INR|              Yes|2022-04-02|B098324ZKR|JNE3706|  1|             Shipped|\n|         Expedited|171-0636036-5848341|        kurta|          IN|    Amazon|        JNE3438-KR-L|   L|    Amazon.in|       Shipped|     SOUTH GOA| 459.0|          403703|FALSE|           GOA|     INR|              Yes|2022-06-20|B0893DN5BW|JNE3438|  1|             Shipped|\n|         Expedited|171-0802412-9249941|        kurta|          IN|    Amazon|     JNE3405-KR-XXXL| 3XL|    Amazon.in|       Shipped|         NOIDA| 449.0|          201301|FALSE| UTTAR PRADESH|     INR|               No|2022-04-05|B081WZ4T3V|JNE3405|  1|             Shipped|\n|          Standard|171-1027584-1790721|        kurta|          IN|  Merchant|        JNE3510-KR-S|   S|    Amazon.in|       Shipped|     NEW DELHI| 429.0|          110023|FALSE|         DELHI|     INR|              Yes|2022-04-26|B08WPTJBBD|JNE3510|  1|Shipped - Deliver...|\n|         Expedited|171-1406847-8061149|Western Dress|          IN|    Amazon|          J0335-DR-L|   L|    Amazon.in|       Shipped|      GURUGRAM| 989.0|          122101|FALSE|       HARYANA|     INR|              Yes|2022-05-20|B09831T4CQ|  J0335|  1|             Shipped|\n|          Standard|171-1490549-6864318|        kurta|          IN|  Merchant|        JNE3446-KR-S|   S|    Amazon.in|       Shipped|        KALYAN| 299.0|          421301|FALSE|   MAHARASHTRA|     INR|              Yes|2022-04-14|B081X18FL6|JNE3446|  1|Shipped - Deliver...|\n|         Expedited|171-1537455-4577120|        kurta|          IN|    Amazon|JNE1525-KR-UDF19-...|  XL|    Amazon.in|       Shipped|      BARAMATI| 311.0|          413102|FALSE|   MAHARASHTRA|     INR|               No|2022-04-19|B0743FF612|JNE1525|  1|             Shipped|\n|         Expedited|171-1687225-7019519|          Set|          IN|    Amazon|         J0245-SKD-M|   M|    Amazon.in|       Shipped|        Nagpur|1133.0|          440022|FALSE|   MAHARASHTRA|     INR|              Yes|2022-06-17|B0925T5PZK|  J0245|  1|             Shipped|\n|         Expedited|171-1943433-0333159|          Set|          IN|    Amazon|         J0003-SET-S|   S|    Amazon.in|       Shipped|       LUCKNOW| 664.0|          226002|FALSE| UTTAR PRADESH|     INR|              Yes|2022-05-07|B0894X27FC|  J0003|  1|             Shipped|\n|         Expedited|171-2198244-3218763|        kurta|          IN|    Amazon|       JNE3795-KR-XS|  XS|    Amazon.in|       Shipped|     BENGALURU| 517.0|          560083|FALSE|     KARNATAKA|     INR|              Yes|2022-04-13|B09HMCTDFZ|JNE3795|  1|             Shipped|\n|         Expedited|171-2223422-0509100|Western Dress|          IN|    Amazon|          J0335-DR-L|   L|    Amazon.in|       Shipped|          PUNE|1125.0|          411028|FALSE|   MAHARASHTRA|     INR|               No|2022-04-02|B09831T4CQ|  J0335|  1|             Shipped|\n|         Expedited|171-2505860-5383535|        kurta|          IN|    Amazon|       JNE3399-KR-XL|  XL|    Amazon.in|       Shipped|   THIRUVALLUR| 435.0|          602001|FALSE|    TAMIL NADU|     INR|               No|2022-04-11|B082W8B28G|JNE3399|  1|             Shipped|\n|         Expedited|171-2507750-2934711|        kurta|          IN|    Amazon|  JNE2305-KR-533-XXL| XXL|    Amazon.in|       Shipped|   MANGALAGIRI| 329.0|          522503|FALSE|ANDHRA PRADESH|     INR|              Yes|2022-04-01|B07GRRLW2H|JNE2305|  1|             Shipped|\n|         Expedited|171-2534877-9865124|        kurta|          IN|    Amazon|        MEN5025-KR-S|   S|    Amazon.in|       Shipped|     NEW DELHI| 549.0|          110062|FALSE|         DELHI|     INR|              Yes|2022-04-15|B08YYTKXNX|MEN5025|  1|             Shipped|\n|          Standard|171-2680418-0912314|       Blouse|          IN|  Merchant|     BL057-65BLACK-A|Free|    Amazon.in|       Shipped|       KOLKATA| 383.0|          700075|FALSE|   WEST BENGAL|     INR|              Yes|2022-05-02|B07D36SKBD|  BL057|  1|Shipped - Deliver...|\n+------------------+-------------------+-------------+------------+----------+--------------------+----+-------------+--------------+--------------+------+----------------+-----+--------------+--------+-----------------+----------+----------+-------+---+--------------------+\nonly showing top 20 rows\n\n"
     ]
    }
   ],
   "source": [
    "df_cleaned.show()"
   ]
  },
  {
   "cell_type": "markdown",
   "metadata": {
    "application/vnd.databricks.v1+cell": {
     "cellMetadata": {
      "byteLimit": 2048000,
      "rowLimit": 10000
     },
     "inputWidgets": {},
     "nuid": "67812b1f-a7e6-4771-8541-21822a65d860",
     "showTitle": false,
     "title": ""
    }
   },
   "source": [
    "#### Processing Courier Status & Quantity"
   ]
  },
  {
   "cell_type": "code",
   "execution_count": 0,
   "metadata": {
    "application/vnd.databricks.v1+cell": {
     "cellMetadata": {
      "byteLimit": 2048000,
      "rowLimit": 10000
     },
     "inputWidgets": {},
     "nuid": "ecd9a50e-6c34-411c-a2f5-9a198e802692",
     "showTitle": false,
     "title": ""
    }
   },
   "outputs": [
    {
     "output_type": "stream",
     "name": "stdout",
     "output_type": "stream",
     "text": [
      "5935\n5935\n"
     ]
    }
   ],
   "source": [
    "print(df.filter(col(\"courier status\")==\"Cancelled\").count())\n",
    "print(df.filter((col(\"courier status\")==\"Cancelled\") & (col(\"Qty\")==0)).count())"
   ]
  },
  {
   "cell_type": "code",
   "execution_count": 0,
   "metadata": {
    "application/vnd.databricks.v1+cell": {
     "cellMetadata": {
      "byteLimit": 2048000,
      "rowLimit": 10000
     },
     "inputWidgets": {},
     "nuid": "a944185d-e4ec-4e33-a7c5-b300353e63a9",
     "showTitle": false,
     "title": ""
    }
   },
   "outputs": [
    {
     "output_type": "stream",
     "name": "stdout",
     "output_type": "stream",
     "text": [
      "Out[25]: 0"
     ]
    }
   ],
   "source": [
    "\n",
    "\n",
    "df_cleaned=df_cleaned.withColumn(\"Courier Status\",when((col(\"Qty\")==0) & (col(\"Courier status\").isNull()),\"Cancelled\").otherwise(col(\"Courier Status\")))\n",
    "df_cleaned.filter((col(\"Courier status\").isNull())).count()\n"
   ]
  },
  {
   "cell_type": "code",
   "execution_count": 0,
   "metadata": {
    "application/vnd.databricks.v1+cell": {
     "cellMetadata": {
      "byteLimit": 2048000,
      "rowLimit": 10000
     },
     "inputWidgets": {},
     "nuid": "fab456af-0467-496a-96f8-54dba97c5570",
     "showTitle": false,
     "title": ""
    }
   },
   "outputs": [
    {
     "output_type": "stream",
     "name": "stdout",
     "output_type": "stream",
     "text": [
      "Out[26]: 7395"
     ]
    }
   ],
   "source": [
    "df_cleaned.filter((col(\"Amount\").isNull())).count()"
   ]
  },
  {
   "cell_type": "code",
   "execution_count": 0,
   "metadata": {
    "application/vnd.databricks.v1+cell": {
     "cellMetadata": {
      "byteLimit": 2048000,
      "rowLimit": 10000
     },
     "inputWidgets": {},
     "nuid": "0792e5f4-adca-4dd6-b565-5f236455fd26",
     "showTitle": false,
     "title": ""
    }
   },
   "outputs": [],
   "source": [
    "df_cleaned=df_cleaned.withColumn(\"Amount\",when((col(\"Qty\")==0),0).otherwise(col(\"Amount\")))"
   ]
  },
  {
   "cell_type": "markdown",
   "metadata": {
    "application/vnd.databricks.v1+cell": {
     "cellMetadata": {
      "byteLimit": 2048000,
      "rowLimit": 10000
     },
     "inputWidgets": {},
     "nuid": "6d6952dd-c765-444a-8d6e-1c97ebabf49e",
     "showTitle": false,
     "title": ""
    }
   },
   "source": [
    "#### Processing Amount Null Values"
   ]
  },
  {
   "cell_type": "code",
   "execution_count": 0,
   "metadata": {
    "application/vnd.databricks.v1+cell": {
     "cellMetadata": {
      "byteLimit": 2048000,
      "rowLimit": 10000
     },
     "inputWidgets": {},
     "nuid": "d1d7c6de-62aa-48c2-9c40-ddf869c271c8",
     "showTitle": false,
     "title": ""
    }
   },
   "outputs": [],
   "source": [
    "from pyspark.sql import functions as F\n",
    "from pyspark.sql import Window\n",
    "\n",
    "\n",
    "quantity_cases = [1,2, 3, 4,9,13,15]\n",
    "\n",
    "df_final=df_cleaned\n",
    "\n",
    "\n",
    "for qty in quantity_cases:\n",
    "    mean_amounts = df_final.filter(F.col(\"Qty\") == qty) \\\n",
    "    .groupBy(\"Category\") \\\n",
    "    .agg(F.expr(\"percentile_approx(Amount, 0.5)\").alias(f\"median_amount_qty_{qty}\"))\n",
    "\n",
    "    \n",
    "    df_with_avg = df_final.join(mean_amounts, on=\"Category\", how=\"left\")\n",
    "\n",
    "    df_final = df_with_avg.withColumn(\n",
    "        'Amount',\n",
    "        F.when(\n",
    "            ((F.col('Amount').isNull()) | (F.col('Amount') == 0)) & (F.col('Qty') == qty), \n",
    "            F.col(f'median_amount_qty_{qty}')\n",
    "        ).otherwise(F.col('Amount'))\n",
    "    )\n",
    "    \n",
    "    df_final = df_final.drop(f'median_amount_qty_{qty}')\n",
    "\n",
    "df_final.show()\n",
    "\n",
    "df_final.select(\"Qty\", \"Amount\").filter(F.col(\"Amount\").isNull()).show()\n"
   ]
  },
  {
   "cell_type": "code",
   "execution_count": 0,
   "metadata": {
    "application/vnd.databricks.v1+cell": {
     "cellMetadata": {
      "byteLimit": 2048000,
      "rowLimit": 10000
     },
     "inputWidgets": {},
     "nuid": "34e8509a-f60a-421d-8c66-4c71ce25be6d",
     "showTitle": false,
     "title": ""
    }
   },
   "outputs": [
    {
     "output_type": "stream",
     "name": "stdout",
     "output_type": "stream",
     "text": [
      "Out[29]: 0"
     ]
    }
   ],
   "source": [
    "df_final.select(\"courier status\",\"Qty\", \"Amount\").filter((F.col(\"courier status\")==\"Cancelled\") & F.col(\"Amount\").isNull()).count()"
   ]
  },
  {
   "cell_type": "code",
   "execution_count": 0,
   "metadata": {
    "application/vnd.databricks.v1+cell": {
     "cellMetadata": {
      "byteLimit": 2048000,
      "rowLimit": 10000
     },
     "inputWidgets": {},
     "nuid": "714145b5-af0f-4558-a8a8-73b9fd8a1ad5",
     "showTitle": false,
     "title": ""
    }
   },
   "outputs": [],
   "source": [
    "df_final=df_final.cache()"
   ]
  },
  {
   "cell_type": "code",
   "execution_count": 0,
   "metadata": {
    "application/vnd.databricks.v1+cell": {
     "cellMetadata": {
      "byteLimit": 2048000,
      "rowLimit": 10000
     },
     "inputWidgets": {},
     "nuid": "43fd13cb-8dd2-4e6a-a18d-2f7077414e5e",
     "showTitle": false,
     "title": ""
    }
   },
   "outputs": [],
   "source": [
    "df_final=df_final.cache()"
   ]
  },
  {
   "cell_type": "code",
   "execution_count": 0,
   "metadata": {
    "application/vnd.databricks.v1+cell": {
     "cellMetadata": {
      "byteLimit": 2048000,
      "rowLimit": 10000
     },
     "inputWidgets": {},
     "nuid": "a9c8f0b1-4933-4ed8-9778-19b7ba59e61b",
     "showTitle": false,
     "title": ""
    }
   },
   "outputs": [
    {
     "output_type": "stream",
     "name": "stdout",
     "output_type": "stream",
     "text": [
      "+------------+------------------+-------------------+------------+----------+--------------+----+-------------+--------------+--------------------+------+----------------+-----+-----------+--------+-----------------+----------+----------+-----+---+--------------------+\n|    Category|ship-service-level|           Order ID|ship-country|Fulfilment|           SKU|Size|Sales Channel|Courier Status|           ship-city|Amount|ship-postal-code|  B2B| ship-state|currency|promotion_applied|      Date|      ASIN|Style|Qty|              Status|\n+------------+------------------+-------------------+------------+----------+--------------+----+-------------+--------------+--------------------+------+----------------+-----+-----------+--------+-----------------+----------+----------+-----+---+--------------------+\n|Ethnic Dress|         Expedited|407-7496699-8523552|          IN|    Amazon|    J0164-DR-L|   L|    Amazon.in|       Shipped|           NEW DELHI| 373.0|          110075|FALSE|      DELHI|     INR|              Yes|2022-05-23|B08QGMDXWB|J0164|  1|             Shipped|\n|Ethnic Dress|          Standard|171-0222206-7421900|          IN|  Merchant|   J0164-DR-XL|  XL|    Amazon.in|       Shipped|   UTTARPARA KOTRUNG| 373.0|          712232|FALSE|WEST BENGAL|     INR|              Yes|2022-05-12|B08QGRCSPB|J0164|  1|Shipped - Returne...|\n|Ethnic Dress|          Standard|404-5395818-6707513|          IN|  Merchant|J0006-SET-XXXL| 3XL|    Amazon.in|       Shipped|         BHUBANESWAR| 899.0|          751030| TRUE|     ODISHA|     INR|              Yes|2022-05-20|B0894X7XDM|J0006|  1|Shipped - Returne...|\n|Ethnic Dress|         Expedited|405-0426095-1666726|          IN|    Amazon|   J0209-DR-XL|  XL|    Amazon.in|       Shipped|           NEW DELHI| 721.0|          110030|FALSE|      DELHI|     INR|              Yes|2022-04-07|B09831QQ89|J0209|  1|             Shipped|\n|Ethnic Dress|          Standard|405-4759542-5443518|          IN|  Merchant|  J0164-DR-XXL| XXL|    Amazon.in|       Shipped|           HYDERABAD| 373.0|          500094|FALSE|  TELANGANA|     INR|              Yes|2022-05-20|B08QGNJVKR|J0164|  1|Shipped - Deliver...|\n|Ethnic Dress|         Expedited|407-8467527-7602719|          IN|    Amazon|   J0006-SET-S|   S|    Amazon.in|       Shipped|             VARKALA| 855.0|          695141|FALSE|     KERALA|     INR|              Yes|2022-06-12|B0894WT213|J0006|  1|             Shipped|\n|Ethnic Dress|         Expedited|407-9000159-5101927|          IN|    Amazon|   J0243-DR-XL|  XL|    Amazon.in|       Shipped| Begumpet, Hyderabad| 939.0|          500016|FALSE|  TELANGANA|     INR|               No|2022-06-01|B0926861CR|J0243|  1|             Shipped|\n|Ethnic Dress|          Standard|408-1622907-0976306|          IN|    Amazon|  J0164-DR-XXL| XXL|    Amazon.in|       Shipped|           New Delhi| 837.0|          110019|FALSE|      DELHI|     INR|               No|2022-04-01|B08QGNJVKR|J0164|  1|             Shipped|\n|Ethnic Dress|         Expedited|408-2766853-2868354|          IN|    Amazon|  J0006-SET-XL|  XL|    Amazon.in|       Shipped|           NEW DELHI| 855.0|          110002|FALSE|      DELHI|     INR|               No|2022-06-11|B0894XHM78|J0006|  1|             Shipped|\n|Ethnic Dress|         Expedited|408-3685379-2998766|          IN|    Amazon|  J0164-DR-XXL| XXL|    Amazon.in|     Unshipped|           NEW DELHI| 438.0|          110017|FALSE|      DELHI|     INR|               No|2022-06-04|B08QGNJVKR|J0164|  1|           Cancelled|\n|Ethnic Dress|         Expedited|171-9392993-7509907|          IN|    Amazon|    J0210-DR-L|   L|    Amazon.in|       Shipped|           BENGALURU| 837.0|          560098|FALSE|  KARNATAKA|     INR|               No|2022-05-17|B0982ZRTYX|J0210|  1|             Shipped|\n|Ethnic Dress|         Expedited|402-2086679-2373909|          IN|    Amazon|J0006-SET-XXXL| 3XL|    Amazon.in|       Shipped|         NAVI MUMBAI| 855.0|          400709|FALSE|MAHARASHTRA|     INR|              Yes|2022-06-19|B0894X7XDM|J0006|  1|             Shipped|\n|Ethnic Dress|         Expedited|406-6580489-5743514|          IN|    Amazon|   J0243-DR-XL|  XL|    Amazon.in|       Shipped|           NEW DELHI| 999.0|          110084|FALSE|      DELHI|     INR|               No|2022-05-31|B0926861CR|J0243|  1|             Shipped|\n|Ethnic Dress|          Standard|407-8047624-0677143|          IN|  Merchant|   J0212-DR-XL|  XL|    Amazon.in|       Shipped|              MUMBAI| 791.0|          400077|FALSE|MAHARASHTRA|     INR|              Yes|2022-05-03|B09833VFKC|J0212|  1|Shipped - Deliver...|\n|Ethnic Dress|         Expedited|171-5506310-1103535|          IN|    Amazon|   J0001-DR-XS|  XS|    Amazon.in|       Shipped|             CHENNAI| 690.0|          600118|FALSE| TAMIL NADU|     INR|              Yes|2022-06-12|B0894YX22N|J0001|  1|             Shipped|\n|Ethnic Dress|          Standard|405-1079605-0689163|          IN|  Merchant| J0164-DR-XXXL| 3XL|    Amazon.in|     Unshipped|             KOLKATA| 373.0|          700102|FALSE|WEST BENGAL|     INR|              Yes|2022-06-29|B08QGNBZ4C|J0164|  1|             Pending|\n|Ethnic Dress|         Expedited|406-6109844-3521968|          IN|    Amazon|    J0243-DR-S|   S|    Amazon.in|       Shipped|           NEW DELHI| 939.0|          110062|FALSE|      DELHI|     INR|               No|2022-06-01|B092648LBY|J0243|  1|             Shipped|\n|Ethnic Dress|         Expedited|406-8548315-3014723|          IN|    Amazon|   J0006-SET-S|   S|    Amazon.in|       Shipped|PUDUPATTINAM,kalp...| 855.0|          603102|FALSE| TAMIL NADU|     INR|               No|2022-06-20|B0894WT213|J0006|  1|             Shipped|\n|Ethnic Dress|         Expedited|402-8441726-4182769|          IN|    Amazon|    J0212-DR-L|   L|    Amazon.in|       Shipped|             KOLKATA| 791.0|          700055|FALSE|WEST BENGAL|     INR|               No|2022-04-16|B0982Z8HPJ|J0212|  1|             Shipped|\n|Ethnic Dress|         Expedited|402-9914299-7928305|          IN|    Amazon|J0006-SET-XXXL| 3XL|    Amazon.in|       Shipped|           New Delhi| 899.0|          110032|FALSE|      DELHI|     INR|               No|2022-05-23|B0894X7XDM|J0006|  1|             Shipped|\n+------------+------------------+-------------------+------------+----------+--------------+----+-------------+--------------+--------------------+------+----------------+-----+-----------+--------+-----------------+----------+----------+-----+---+--------------------+\nonly showing top 20 rows\n\n"
     ]
    }
   ],
   "source": [
    "df_final.show()"
   ]
  },
  {
   "cell_type": "code",
   "execution_count": 0,
   "metadata": {
    "application/vnd.databricks.v1+cell": {
     "cellMetadata": {
      "byteLimit": 2048000,
      "rowLimit": 10000
     },
     "inputWidgets": {},
     "nuid": "3f07e617-c3c5-468c-991e-c0db879bd0b0",
     "showTitle": false,
     "title": ""
    }
   },
   "outputs": [
    {
     "output_type": "stream",
     "name": "stdout",
     "output_type": "stream",
     "text": [
      "Out[33]: 120378"
     ]
    }
   ],
   "source": [
    "df_final.count()"
   ]
  },
  {
   "cell_type": "markdown",
   "metadata": {
    "application/vnd.databricks.v1+cell": {
     "cellMetadata": {
      "byteLimit": 2048000,
      "rowLimit": 10000
     },
     "inputWidgets": {},
     "nuid": "27930771-c395-4eca-a886-c747314de413",
     "showTitle": false,
     "title": ""
    }
   },
   "source": [
    "#### Drop Rows Where either ship-city, ship-state, ship-country or ship-postal-code was null"
   ]
  },
  {
   "cell_type": "code",
   "execution_count": 0,
   "metadata": {
    "application/vnd.databricks.v1+cell": {
     "cellMetadata": {
      "byteLimit": 2048000,
      "rowLimit": 10000
     },
     "inputWidgets": {},
     "nuid": "a02bf00e-3580-4195-98ff-33aba14a8aca",
     "showTitle": false,
     "title": ""
    }
   },
   "outputs": [],
   "source": [
    "df_final=df_final.dropna()"
   ]
  },
  {
   "cell_type": "code",
   "execution_count": 0,
   "metadata": {
    "application/vnd.databricks.v1+cell": {
     "cellMetadata": {
      "byteLimit": 2048000,
      "rowLimit": 10000
     },
     "inputWidgets": {},
     "nuid": "895c0518-b195-4449-b5fd-1860eecf2d36",
     "showTitle": false,
     "title": ""
    }
   },
   "outputs": [
    {
     "output_type": "stream",
     "name": "stdout",
     "output_type": "stream",
     "text": [
      "+--------+------------------+--------+------------+----------+---+----+-------------+--------------+---------+------+----------------+---+----------+--------+-----------------+----+----+-----+---+------+\n|Category|ship-service-level|Order ID|ship-country|Fulfilment|SKU|Size|Sales Channel|Courier Status|ship-city|Amount|ship-postal-code|B2B|ship-state|currency|promotion_applied|Date|ASIN|Style|Qty|Status|\n+--------+------------------+--------+------------+----------+---+----+-------------+--------------+---------+------+----------------+---+----------+--------+-----------------+----+----+-----+---+------+\n|       0|                 0|       0|           0|         0|  0|   0|            0|             0|        0|     0|               0|  0|         0|       0|                0|   0|   0|    0|  0|     0|\n+--------+------------------+--------+------------+----------+---+----+-------------+--------------+---------+------+----------------+---+----------+--------+-----------------+----+----+-----+---+------+\n\n"
     ]
    }
   ],
   "source": [
    "from pyspark.sql.functions import col, sum\n",
    "\n",
    "null_counts = df_final.select([sum(col(c).isNull().cast(\"int\")).alias(c) for c in df_final.columns])\n",
    "null_counts.show()\n"
   ]
  },
  {
   "cell_type": "markdown",
   "metadata": {
    "application/vnd.databricks.v1+cell": {
     "cellMetadata": {
      "byteLimit": 2048000,
      "rowLimit": 10000
     },
     "inputWidgets": {},
     "nuid": "1f2e136a-67e9-45f6-8904-999fcd079c2c",
     "showTitle": false,
     "title": ""
    }
   },
   "source": [
    "#### Adding Columns"
   ]
  },
  {
   "cell_type": "code",
   "execution_count": 0,
   "metadata": {
    "application/vnd.databricks.v1+cell": {
     "cellMetadata": {
      "byteLimit": 2048000,
      "rowLimit": 10000
     },
     "inputWidgets": {},
     "nuid": "7a8ea837-c341-4cb6-816f-bc6851e3b7cf",
     "showTitle": false,
     "title": ""
    }
   },
   "outputs": [
    {
     "output_type": "stream",
     "name": "stdout",
     "output_type": "stream",
     "text": [
      "+------------+------------------+-------------------+------------+----------+--------------+----+-------------+--------------+--------------------+------+----------------+-----+-----------+--------+-----------------+----------+----------+-----+---+--------------------+---------+----------+-----+\n|    Category|ship-service-level|           Order ID|ship-country|Fulfilment|           SKU|Size|Sales Channel|Courier Status|           ship-city|Amount|ship-postal-code|  B2B| ship-state|currency|promotion_applied|      Date|      ASIN|Style|Qty|              Status|DayOfWeek|DayOfmonth|Month|\n+------------+------------------+-------------------+------------+----------+--------------+----+-------------+--------------+--------------------+------+----------------+-----+-----------+--------+-----------------+----------+----------+-----+---+--------------------+---------+----------+-----+\n|Ethnic Dress|         Expedited|407-7496699-8523552|          IN|    Amazon|    J0164-DR-L|   L|    Amazon.in|       Shipped|           NEW DELHI| 373.0|          110075|FALSE|      DELHI|     INR|              Yes|2022-05-23|B08QGMDXWB|J0164|  1|             Shipped|        2|        23|    5|\n|Ethnic Dress|          Standard|171-0222206-7421900|          IN|  Merchant|   J0164-DR-XL|  XL|    Amazon.in|       Shipped|   UTTARPARA KOTRUNG| 373.0|          712232|FALSE|WEST BENGAL|     INR|              Yes|2022-05-12|B08QGRCSPB|J0164|  1|Shipped - Returne...|        5|        12|    5|\n|Ethnic Dress|          Standard|404-5395818-6707513|          IN|  Merchant|J0006-SET-XXXL| 3XL|    Amazon.in|       Shipped|         BHUBANESWAR| 899.0|          751030| TRUE|     ODISHA|     INR|              Yes|2022-05-20|B0894X7XDM|J0006|  1|Shipped - Returne...|        6|        20|    5|\n|Ethnic Dress|         Expedited|405-0426095-1666726|          IN|    Amazon|   J0209-DR-XL|  XL|    Amazon.in|       Shipped|           NEW DELHI| 721.0|          110030|FALSE|      DELHI|     INR|              Yes|2022-04-07|B09831QQ89|J0209|  1|             Shipped|        5|         7|    4|\n|Ethnic Dress|          Standard|405-4759542-5443518|          IN|  Merchant|  J0164-DR-XXL| XXL|    Amazon.in|       Shipped|           HYDERABAD| 373.0|          500094|FALSE|  TELANGANA|     INR|              Yes|2022-05-20|B08QGNJVKR|J0164|  1|Shipped - Deliver...|        6|        20|    5|\n|Ethnic Dress|         Expedited|407-8467527-7602719|          IN|    Amazon|   J0006-SET-S|   S|    Amazon.in|       Shipped|             VARKALA| 855.0|          695141|FALSE|     KERALA|     INR|              Yes|2022-06-12|B0894WT213|J0006|  1|             Shipped|        1|        12|    6|\n|Ethnic Dress|         Expedited|407-9000159-5101927|          IN|    Amazon|   J0243-DR-XL|  XL|    Amazon.in|       Shipped| Begumpet, Hyderabad| 939.0|          500016|FALSE|  TELANGANA|     INR|               No|2022-06-01|B0926861CR|J0243|  1|             Shipped|        4|         1|    6|\n|Ethnic Dress|          Standard|408-1622907-0976306|          IN|    Amazon|  J0164-DR-XXL| XXL|    Amazon.in|       Shipped|           New Delhi| 837.0|          110019|FALSE|      DELHI|     INR|               No|2022-04-01|B08QGNJVKR|J0164|  1|             Shipped|        6|         1|    4|\n|Ethnic Dress|         Expedited|408-2766853-2868354|          IN|    Amazon|  J0006-SET-XL|  XL|    Amazon.in|       Shipped|           NEW DELHI| 855.0|          110002|FALSE|      DELHI|     INR|               No|2022-06-11|B0894XHM78|J0006|  1|             Shipped|        7|        11|    6|\n|Ethnic Dress|         Expedited|408-3685379-2998766|          IN|    Amazon|  J0164-DR-XXL| XXL|    Amazon.in|     Unshipped|           NEW DELHI| 438.0|          110017|FALSE|      DELHI|     INR|               No|2022-06-04|B08QGNJVKR|J0164|  1|           Cancelled|        7|         4|    6|\n|Ethnic Dress|         Expedited|171-9392993-7509907|          IN|    Amazon|    J0210-DR-L|   L|    Amazon.in|       Shipped|           BENGALURU| 837.0|          560098|FALSE|  KARNATAKA|     INR|               No|2022-05-17|B0982ZRTYX|J0210|  1|             Shipped|        3|        17|    5|\n|Ethnic Dress|         Expedited|402-2086679-2373909|          IN|    Amazon|J0006-SET-XXXL| 3XL|    Amazon.in|       Shipped|         NAVI MUMBAI| 855.0|          400709|FALSE|MAHARASHTRA|     INR|              Yes|2022-06-19|B0894X7XDM|J0006|  1|             Shipped|        1|        19|    6|\n|Ethnic Dress|         Expedited|406-6580489-5743514|          IN|    Amazon|   J0243-DR-XL|  XL|    Amazon.in|       Shipped|           NEW DELHI| 999.0|          110084|FALSE|      DELHI|     INR|               No|2022-05-31|B0926861CR|J0243|  1|             Shipped|        3|        31|    5|\n|Ethnic Dress|          Standard|407-8047624-0677143|          IN|  Merchant|   J0212-DR-XL|  XL|    Amazon.in|       Shipped|              MUMBAI| 791.0|          400077|FALSE|MAHARASHTRA|     INR|              Yes|2022-05-03|B09833VFKC|J0212|  1|Shipped - Deliver...|        3|         3|    5|\n|Ethnic Dress|         Expedited|171-5506310-1103535|          IN|    Amazon|   J0001-DR-XS|  XS|    Amazon.in|       Shipped|             CHENNAI| 690.0|          600118|FALSE| TAMIL NADU|     INR|              Yes|2022-06-12|B0894YX22N|J0001|  1|             Shipped|        1|        12|    6|\n|Ethnic Dress|          Standard|405-1079605-0689163|          IN|  Merchant| J0164-DR-XXXL| 3XL|    Amazon.in|     Unshipped|             KOLKATA| 373.0|          700102|FALSE|WEST BENGAL|     INR|              Yes|2022-06-29|B08QGNBZ4C|J0164|  1|             Pending|        4|        29|    6|\n|Ethnic Dress|         Expedited|406-6109844-3521968|          IN|    Amazon|    J0243-DR-S|   S|    Amazon.in|       Shipped|           NEW DELHI| 939.0|          110062|FALSE|      DELHI|     INR|               No|2022-06-01|B092648LBY|J0243|  1|             Shipped|        4|         1|    6|\n|Ethnic Dress|         Expedited|406-8548315-3014723|          IN|    Amazon|   J0006-SET-S|   S|    Amazon.in|       Shipped|PUDUPATTINAM,kalp...| 855.0|          603102|FALSE| TAMIL NADU|     INR|               No|2022-06-20|B0894WT213|J0006|  1|             Shipped|        2|        20|    6|\n|Ethnic Dress|         Expedited|402-8441726-4182769|          IN|    Amazon|    J0212-DR-L|   L|    Amazon.in|       Shipped|             KOLKATA| 791.0|          700055|FALSE|WEST BENGAL|     INR|               No|2022-04-16|B0982Z8HPJ|J0212|  1|             Shipped|        7|        16|    4|\n|Ethnic Dress|         Expedited|402-9914299-7928305|          IN|    Amazon|J0006-SET-XXXL| 3XL|    Amazon.in|       Shipped|           New Delhi| 899.0|          110032|FALSE|      DELHI|     INR|               No|2022-05-23|B0894X7XDM|J0006|  1|             Shipped|        2|        23|    5|\n+------------+------------------+-------------------+------------+----------+--------------+----+-------------+--------------+--------------------+------+----------------+-----+-----------+--------+-----------------+----------+----------+-----+---+--------------------+---------+----------+-----+\nonly showing top 20 rows\n\n"
     ]
    }
   ],
   "source": [
    "df_final=df_final.withColumn(\"DayOfWeek\",dayofweek(col(\"Date\")))\n",
    "df_final=df_final.withColumn(\"DayOfmonth\",dayofmonth(col(\"Date\")))\n",
    "df_final=df_final.withColumn(\"Month\",month(col(\"Date\")))\n",
    "df_final.show()\n"
   ]
  },
  {
   "cell_type": "markdown",
   "metadata": {
    "application/vnd.databricks.v1+cell": {
     "cellMetadata": {
      "byteLimit": 2048000,
      "rowLimit": 10000
     },
     "inputWidgets": {},
     "nuid": "5102a2fa-08f9-499e-954f-7849ae5a8e5d",
     "showTitle": false,
     "title": ""
    }
   },
   "source": [
    "#### Final Shape Of The Data"
   ]
  },
  {
   "cell_type": "code",
   "execution_count": 0,
   "metadata": {
    "application/vnd.databricks.v1+cell": {
     "cellMetadata": {
      "byteLimit": 2048000,
      "rowLimit": 10000
     },
     "inputWidgets": {},
     "nuid": "eff56e38-d94f-40df-a9a8-87c2980d4d9f",
     "showTitle": false,
     "title": ""
    }
   },
   "outputs": [
    {
     "output_type": "stream",
     "name": "stdout",
     "output_type": "stream",
     "text": [
      "Shape of DataFrame: (120347, 24)\n"
     ]
    }
   ],
   "source": [
    "num_rows = df_final.count()\n",
    "\n",
    "num_columns = len(df_final.columns)\n",
    "\n",
    "print(f\"Shape of DataFrame: ({num_rows}, {num_columns})\")"
   ]
  },
  {
   "cell_type": "code",
   "execution_count": 0,
   "metadata": {
    "application/vnd.databricks.v1+cell": {
     "cellMetadata": {
      "byteLimit": 2048000,
      "rowLimit": 10000
     },
     "inputWidgets": {},
     "nuid": "af459adf-1fd8-46d7-8ae7-51a57ec23a0c",
     "showTitle": false,
     "title": ""
    }
   },
   "outputs": [],
   "source": [
    "storage_account_name = \"XXXXXXXXXXXXXXXXXX\"\n",
    "storage_account_key = \"XXXXXXXXXXXXXXXXXXX\"\n",
    "container_name = \"XXXXXXXXXXXXXXXXXX\"\n",
    "spark.conf.set(f\"fs.azure.account.key.{storage_account_name}.blob.core.windows.net\", storage_account_key)\n",
    "output_path = f\"wasbs://{container_name}@{storage_account_name}.blob.core.windows.net/\"\n",
    "df_final.write.mode(\"overwrite\").option(\"header\", \"true\").parquet(output_path)\n",
    "\n"
   ]
  }
 ],
 "metadata": {
  "application/vnd.databricks.v1+notebook": {
   "dashboards": [],
   "environmentMetadata": null,
   "language": "python",
   "notebookMetadata": {
    "pythonIndentUnit": 4
   },
   "notebookName": "Amazon Data Cleaning",
   "widgets": {}
  }
 },
 "nbformat": 4,
 "nbformat_minor": 0
}
